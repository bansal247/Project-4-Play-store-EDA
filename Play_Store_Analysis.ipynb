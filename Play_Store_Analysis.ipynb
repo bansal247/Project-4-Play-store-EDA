{
  "nbformat": 4,
  "nbformat_minor": 0,
  "metadata": {
    "colab": {
      "name": "Play_Store Analysis.ipynb",
      "provenance": [],
      "collapsed_sections": [
        "J2x6_4VsMml2",
        "4V5Xa4rdM72W",
        "2ieZbwcfA9L-",
        "KGAz-qOLd7gk",
        "es4nNF_ScxQg",
        "9Z1jBsQAexAT",
        "GDmtyPsFlrwz",
        "eLVw4LHNplir",
        "UvQCmyiYq7sK",
        "5OJpDwXIsqyo",
        "UG_7RG1Gt_GQ",
        "Wc_19K7YxhU0",
        "-4I9f45KzvTk",
        "KnW1kCa32jtW",
        "8iti8aWP-mgA",
        "EAFM-32x_db5",
        "G17uhGsbAAbp",
        "0kxWIQZqkVRe",
        "6qbr3C1Gng-b"
      ]
    },
    "kernelspec": {
      "name": "python3",
      "display_name": "Python 3"
    },
    "language_info": {
      "name": "python"
    }
  },
  "cells": [
    {
      "cell_type": "code",
      "metadata": {
        "colab": {
          "base_uri": "https://localhost:8080/"
        },
        "id": "wHEiATa8MPTa",
        "outputId": "ce4265ce-cfe9-430b-b0e9-0538e09bae2a"
      },
      "source": [
        "!pip install kaggle\n",
        "!mkdir ~/.kaggle/\n",
        "!cp kaggle.json ~/.kaggle/ #upload your own kaggle.json\n",
        "!chmod 600 ~/.kaggle/kaggle.json"
      ],
      "execution_count": null,
      "outputs": [
        {
          "output_type": "stream",
          "name": "stdout",
          "text": [
            "Requirement already satisfied: kaggle in /usr/local/lib/python3.7/dist-packages (1.5.12)\n",
            "Requirement already satisfied: python-dateutil in /usr/local/lib/python3.7/dist-packages (from kaggle) (2.8.2)\n",
            "Requirement already satisfied: urllib3 in /usr/local/lib/python3.7/dist-packages (from kaggle) (1.24.3)\n",
            "Requirement already satisfied: requests in /usr/local/lib/python3.7/dist-packages (from kaggle) (2.23.0)\n",
            "Requirement already satisfied: tqdm in /usr/local/lib/python3.7/dist-packages (from kaggle) (4.62.2)\n",
            "Requirement already satisfied: certifi in /usr/local/lib/python3.7/dist-packages (from kaggle) (2021.5.30)\n",
            "Requirement already satisfied: python-slugify in /usr/local/lib/python3.7/dist-packages (from kaggle) (5.0.2)\n",
            "Requirement already satisfied: six>=1.10 in /usr/local/lib/python3.7/dist-packages (from kaggle) (1.15.0)\n",
            "Requirement already satisfied: text-unidecode>=1.3 in /usr/local/lib/python3.7/dist-packages (from python-slugify->kaggle) (1.3)\n",
            "Requirement already satisfied: idna<3,>=2.5 in /usr/local/lib/python3.7/dist-packages (from requests->kaggle) (2.10)\n",
            "Requirement already satisfied: chardet<4,>=3.0.2 in /usr/local/lib/python3.7/dist-packages (from requests->kaggle) (3.0.4)\n",
            "mkdir: cannot create directory ‘/root/.kaggle/’: File exists\n"
          ]
        }
      ]
    },
    {
      "cell_type": "markdown",
      "metadata": {
        "id": "J2x6_4VsMml2"
      },
      "source": [
        "# Step 1: Data collection"
      ]
    },
    {
      "cell_type": "code",
      "metadata": {
        "colab": {
          "base_uri": "https://localhost:8080/"
        },
        "id": "Ibzygj75MQwD",
        "outputId": "5e9a57cd-0e5b-4c9f-c47e-591de62687fd"
      },
      "source": [
        "!kaggle datasets download gauthamp10/google-playstore-apps"
      ],
      "execution_count": null,
      "outputs": [
        {
          "output_type": "stream",
          "name": "stdout",
          "text": [
            "Downloading google-playstore-apps.zip to /content\n",
            " 96% 199M/207M [00:01<00:00, 149MB/s]\n",
            "100% 207M/207M [00:01<00:00, 138MB/s]\n"
          ]
        }
      ]
    },
    {
      "cell_type": "code",
      "metadata": {
        "colab": {
          "base_uri": "https://localhost:8080/"
        },
        "id": "cQNqHd8DMQsz",
        "outputId": "3ae5bde6-e246-4ae2-967f-a4650c6c00fb"
      },
      "source": [
        "!unzip google-playstore-apps.zip"
      ],
      "execution_count": null,
      "outputs": [
        {
          "output_type": "stream",
          "name": "stdout",
          "text": [
            "Archive:  google-playstore-apps.zip\n",
            "  inflating: Google-Playstore.csv    \n"
          ]
        }
      ]
    },
    {
      "cell_type": "code",
      "metadata": {
        "id": "tSe9_GEnMQqF"
      },
      "source": [
        "import numpy as np\n",
        "import pandas as pd\n",
        "import matplotlib.pyplot as plt\n",
        "from datetime import datetime\n",
        "import re #for calculating expression"
      ],
      "execution_count": null,
      "outputs": []
    },
    {
      "cell_type": "markdown",
      "metadata": {
        "id": "4V5Xa4rdM72W"
      },
      "source": [
        "# Step 2: Data Cleaning"
      ]
    },
    {
      "cell_type": "markdown",
      "metadata": {
        "id": "2ieZbwcfA9L-"
      },
      "source": [
        "## Looking at the data"
      ]
    },
    {
      "cell_type": "code",
      "metadata": {
        "id": "fZP7hLGwMQnx"
      },
      "source": [
        "apps_data = pd.read_csv(\"Google-Playstore.csv\")"
      ],
      "execution_count": null,
      "outputs": []
    },
    {
      "cell_type": "code",
      "metadata": {
        "colab": {
          "base_uri": "https://localhost:8080/"
        },
        "id": "e9LMCDfUMQkx",
        "outputId": "8dadd20d-0000-4b69-8a5b-d71719309fac"
      },
      "source": [
        "apps_data.head()"
      ],
      "execution_count": null,
      "outputs": [
        {
          "output_type": "execute_result",
          "data": {
            "text/html": [
              "<div>\n",
              "<style scoped>\n",
              "    .dataframe tbody tr th:only-of-type {\n",
              "        vertical-align: middle;\n",
              "    }\n",
              "\n",
              "    .dataframe tbody tr th {\n",
              "        vertical-align: top;\n",
              "    }\n",
              "\n",
              "    .dataframe thead th {\n",
              "        text-align: right;\n",
              "    }\n",
              "</style>\n",
              "<table border=\"1\" class=\"dataframe\">\n",
              "  <thead>\n",
              "    <tr style=\"text-align: right;\">\n",
              "      <th></th>\n",
              "      <th>App Name</th>\n",
              "      <th>App Id</th>\n",
              "      <th>Category</th>\n",
              "      <th>Rating</th>\n",
              "      <th>Rating Count</th>\n",
              "      <th>Installs</th>\n",
              "      <th>Minimum Installs</th>\n",
              "      <th>Maximum Installs</th>\n",
              "      <th>Free</th>\n",
              "      <th>Price</th>\n",
              "      <th>Currency</th>\n",
              "      <th>Size</th>\n",
              "      <th>Minimum Android</th>\n",
              "      <th>Developer Id</th>\n",
              "      <th>Developer Website</th>\n",
              "      <th>Developer Email</th>\n",
              "      <th>Released</th>\n",
              "      <th>Last Updated</th>\n",
              "      <th>Content Rating</th>\n",
              "      <th>Privacy Policy</th>\n",
              "      <th>Ad Supported</th>\n",
              "      <th>In App Purchases</th>\n",
              "      <th>Editors Choice</th>\n",
              "      <th>Scraped Time</th>\n",
              "    </tr>\n",
              "  </thead>\n",
              "  <tbody>\n",
              "    <tr>\n",
              "      <th>0</th>\n",
              "      <td>Gakondo</td>\n",
              "      <td>com.ishakwe.gakondo</td>\n",
              "      <td>Adventure</td>\n",
              "      <td>0.0</td>\n",
              "      <td>0.0</td>\n",
              "      <td>10+</td>\n",
              "      <td>10.0</td>\n",
              "      <td>15</td>\n",
              "      <td>True</td>\n",
              "      <td>0.0</td>\n",
              "      <td>USD</td>\n",
              "      <td>10M</td>\n",
              "      <td>7.1 and up</td>\n",
              "      <td>Jean Confident Irénée NIYIZIBYOSE</td>\n",
              "      <td>https://beniyizibyose.tk/#/</td>\n",
              "      <td>jean21101999@gmail.com</td>\n",
              "      <td>Feb 26, 2020</td>\n",
              "      <td>Feb 26, 2020</td>\n",
              "      <td>Everyone</td>\n",
              "      <td>https://beniyizibyose.tk/projects/</td>\n",
              "      <td>False</td>\n",
              "      <td>False</td>\n",
              "      <td>False</td>\n",
              "      <td>2021-06-15 20:19:35</td>\n",
              "    </tr>\n",
              "    <tr>\n",
              "      <th>1</th>\n",
              "      <td>Ampere Battery Info</td>\n",
              "      <td>com.webserveis.batteryinfo</td>\n",
              "      <td>Tools</td>\n",
              "      <td>4.4</td>\n",
              "      <td>64.0</td>\n",
              "      <td>5,000+</td>\n",
              "      <td>5000.0</td>\n",
              "      <td>7662</td>\n",
              "      <td>True</td>\n",
              "      <td>0.0</td>\n",
              "      <td>USD</td>\n",
              "      <td>2.9M</td>\n",
              "      <td>5.0 and up</td>\n",
              "      <td>Webserveis</td>\n",
              "      <td>https://webserveis.netlify.app/</td>\n",
              "      <td>webserveis@gmail.com</td>\n",
              "      <td>May 21, 2020</td>\n",
              "      <td>May 06, 2021</td>\n",
              "      <td>Everyone</td>\n",
              "      <td>https://dev4phones.wordpress.com/licencia-de-uso/</td>\n",
              "      <td>True</td>\n",
              "      <td>False</td>\n",
              "      <td>False</td>\n",
              "      <td>2021-06-15 20:19:35</td>\n",
              "    </tr>\n",
              "    <tr>\n",
              "      <th>2</th>\n",
              "      <td>Vibook</td>\n",
              "      <td>com.doantiepvien.crm</td>\n",
              "      <td>Productivity</td>\n",
              "      <td>0.0</td>\n",
              "      <td>0.0</td>\n",
              "      <td>50+</td>\n",
              "      <td>50.0</td>\n",
              "      <td>58</td>\n",
              "      <td>True</td>\n",
              "      <td>0.0</td>\n",
              "      <td>USD</td>\n",
              "      <td>3.7M</td>\n",
              "      <td>4.0.3 and up</td>\n",
              "      <td>Cabin Crew</td>\n",
              "      <td>NaN</td>\n",
              "      <td>vnacrewit@gmail.com</td>\n",
              "      <td>Aug 9, 2019</td>\n",
              "      <td>Aug 19, 2019</td>\n",
              "      <td>Everyone</td>\n",
              "      <td>https://www.vietnamairlines.com/vn/en/terms-an...</td>\n",
              "      <td>False</td>\n",
              "      <td>False</td>\n",
              "      <td>False</td>\n",
              "      <td>2021-06-15 20:19:35</td>\n",
              "    </tr>\n",
              "    <tr>\n",
              "      <th>3</th>\n",
              "      <td>Smart City Trichy Public Service Vehicles 17UC...</td>\n",
              "      <td>cst.stJoseph.ug17ucs548</td>\n",
              "      <td>Communication</td>\n",
              "      <td>5.0</td>\n",
              "      <td>5.0</td>\n",
              "      <td>10+</td>\n",
              "      <td>10.0</td>\n",
              "      <td>19</td>\n",
              "      <td>True</td>\n",
              "      <td>0.0</td>\n",
              "      <td>USD</td>\n",
              "      <td>1.8M</td>\n",
              "      <td>4.0.3 and up</td>\n",
              "      <td>Climate Smart Tech2</td>\n",
              "      <td>http://www.climatesmarttech.com/</td>\n",
              "      <td>climatesmarttech2@gmail.com</td>\n",
              "      <td>Sep 10, 2018</td>\n",
              "      <td>Oct 13, 2018</td>\n",
              "      <td>Everyone</td>\n",
              "      <td>NaN</td>\n",
              "      <td>True</td>\n",
              "      <td>False</td>\n",
              "      <td>False</td>\n",
              "      <td>2021-06-15 20:19:35</td>\n",
              "    </tr>\n",
              "    <tr>\n",
              "      <th>4</th>\n",
              "      <td>GROW.me</td>\n",
              "      <td>com.horodyski.grower</td>\n",
              "      <td>Tools</td>\n",
              "      <td>0.0</td>\n",
              "      <td>0.0</td>\n",
              "      <td>100+</td>\n",
              "      <td>100.0</td>\n",
              "      <td>478</td>\n",
              "      <td>True</td>\n",
              "      <td>0.0</td>\n",
              "      <td>USD</td>\n",
              "      <td>6.2M</td>\n",
              "      <td>4.1 and up</td>\n",
              "      <td>Rafal Milek-Horodyski</td>\n",
              "      <td>http://www.horodyski.com.pl</td>\n",
              "      <td>rmilekhorodyski@gmail.com</td>\n",
              "      <td>Feb 21, 2020</td>\n",
              "      <td>Nov 12, 2018</td>\n",
              "      <td>Everyone</td>\n",
              "      <td>http://www.horodyski.com.pl</td>\n",
              "      <td>False</td>\n",
              "      <td>False</td>\n",
              "      <td>False</td>\n",
              "      <td>2021-06-15 20:19:35</td>\n",
              "    </tr>\n",
              "  </tbody>\n",
              "</table>\n",
              "</div>"
            ],
            "text/plain": [
              "                                            App Name  ...         Scraped Time\n",
              "0                                            Gakondo  ...  2021-06-15 20:19:35\n",
              "1                                Ampere Battery Info  ...  2021-06-15 20:19:35\n",
              "2                                             Vibook  ...  2021-06-15 20:19:35\n",
              "3  Smart City Trichy Public Service Vehicles 17UC...  ...  2021-06-15 20:19:35\n",
              "4                                            GROW.me  ...  2021-06-15 20:19:35\n",
              "\n",
              "[5 rows x 24 columns]"
            ]
          },
          "metadata": {},
          "execution_count": 7
        }
      ]
    },
    {
      "cell_type": "code",
      "metadata": {
        "colab": {
          "base_uri": "https://localhost:8080/"
        },
        "id": "9Ek9-g_ER3oQ",
        "outputId": "856aac12-d828-4cdd-cd6b-df6388de1b90"
      },
      "source": [
        "apps_data.loc[apps_data.Currency != 'USD'].loc[apps_data.Price>0]"
      ],
      "execution_count": null,
      "outputs": [
        {
          "output_type": "execute_result",
          "data": {
            "text/html": [
              "<div>\n",
              "<style scoped>\n",
              "    .dataframe tbody tr th:only-of-type {\n",
              "        vertical-align: middle;\n",
              "    }\n",
              "\n",
              "    .dataframe tbody tr th {\n",
              "        vertical-align: top;\n",
              "    }\n",
              "\n",
              "    .dataframe thead th {\n",
              "        text-align: right;\n",
              "    }\n",
              "</style>\n",
              "<table border=\"1\" class=\"dataframe\">\n",
              "  <thead>\n",
              "    <tr style=\"text-align: right;\">\n",
              "      <th></th>\n",
              "      <th>App Name</th>\n",
              "      <th>App Id</th>\n",
              "      <th>Category</th>\n",
              "      <th>Rating</th>\n",
              "      <th>Rating Count</th>\n",
              "      <th>Installs</th>\n",
              "      <th>Minimum Installs</th>\n",
              "      <th>Maximum Installs</th>\n",
              "      <th>Free</th>\n",
              "      <th>Price</th>\n",
              "      <th>Currency</th>\n",
              "      <th>Size</th>\n",
              "      <th>Minimum Android</th>\n",
              "      <th>Developer Id</th>\n",
              "      <th>Developer Website</th>\n",
              "      <th>Developer Email</th>\n",
              "      <th>Released</th>\n",
              "      <th>Last Updated</th>\n",
              "      <th>Content Rating</th>\n",
              "      <th>Privacy Policy</th>\n",
              "      <th>Ad Supported</th>\n",
              "      <th>In App Purchases</th>\n",
              "      <th>Editors Choice</th>\n",
              "      <th>Scraped Time</th>\n",
              "    </tr>\n",
              "  </thead>\n",
              "  <tbody>\n",
              "  </tbody>\n",
              "</table>\n",
              "</div>"
            ],
            "text/plain": [
              "Empty DataFrame\n",
              "Columns: [App Name, App Id, Category, Rating, Rating Count, Installs, Minimum Installs, Maximum Installs, Free, Price, Currency, Size, Minimum Android, Developer Id, Developer Website, Developer Email, Released, Last Updated, Content Rating, Privacy Policy, Ad Supported, In App Purchases, Editors Choice, Scraped Time]\n",
              "Index: []"
            ]
          },
          "metadata": {},
          "execution_count": 8
        }
      ]
    },
    {
      "cell_type": "code",
      "metadata": {
        "colab": {
          "base_uri": "https://localhost:8080/"
        },
        "id": "NsDc4dkuNdI_",
        "outputId": "5137aadd-b368-4015-d26a-23cba50da339"
      },
      "source": [
        "apps_data.describe()"
      ],
      "execution_count": null,
      "outputs": [
        {
          "output_type": "execute_result",
          "data": {
            "text/html": [
              "<div>\n",
              "<style scoped>\n",
              "    .dataframe tbody tr th:only-of-type {\n",
              "        vertical-align: middle;\n",
              "    }\n",
              "\n",
              "    .dataframe tbody tr th {\n",
              "        vertical-align: top;\n",
              "    }\n",
              "\n",
              "    .dataframe thead th {\n",
              "        text-align: right;\n",
              "    }\n",
              "</style>\n",
              "<table border=\"1\" class=\"dataframe\">\n",
              "  <thead>\n",
              "    <tr style=\"text-align: right;\">\n",
              "      <th></th>\n",
              "      <th>Rating</th>\n",
              "      <th>Rating Count</th>\n",
              "      <th>Minimum Installs</th>\n",
              "      <th>Maximum Installs</th>\n",
              "      <th>Price</th>\n",
              "    </tr>\n",
              "  </thead>\n",
              "  <tbody>\n",
              "    <tr>\n",
              "      <th>count</th>\n",
              "      <td>2.290061e+06</td>\n",
              "      <td>2.290061e+06</td>\n",
              "      <td>2.312837e+06</td>\n",
              "      <td>2.312944e+06</td>\n",
              "      <td>2.312944e+06</td>\n",
              "    </tr>\n",
              "    <tr>\n",
              "      <th>mean</th>\n",
              "      <td>2.203152e+00</td>\n",
              "      <td>2.864839e+03</td>\n",
              "      <td>1.834452e+05</td>\n",
              "      <td>3.202017e+05</td>\n",
              "      <td>1.034992e-01</td>\n",
              "    </tr>\n",
              "    <tr>\n",
              "      <th>std</th>\n",
              "      <td>2.106223e+00</td>\n",
              "      <td>2.121626e+05</td>\n",
              "      <td>1.513144e+07</td>\n",
              "      <td>2.355495e+07</td>\n",
              "      <td>2.633127e+00</td>\n",
              "    </tr>\n",
              "    <tr>\n",
              "      <th>min</th>\n",
              "      <td>0.000000e+00</td>\n",
              "      <td>0.000000e+00</td>\n",
              "      <td>0.000000e+00</td>\n",
              "      <td>0.000000e+00</td>\n",
              "      <td>0.000000e+00</td>\n",
              "    </tr>\n",
              "    <tr>\n",
              "      <th>25%</th>\n",
              "      <td>0.000000e+00</td>\n",
              "      <td>0.000000e+00</td>\n",
              "      <td>5.000000e+01</td>\n",
              "      <td>8.400000e+01</td>\n",
              "      <td>0.000000e+00</td>\n",
              "    </tr>\n",
              "    <tr>\n",
              "      <th>50%</th>\n",
              "      <td>2.900000e+00</td>\n",
              "      <td>6.000000e+00</td>\n",
              "      <td>5.000000e+02</td>\n",
              "      <td>6.950000e+02</td>\n",
              "      <td>0.000000e+00</td>\n",
              "    </tr>\n",
              "    <tr>\n",
              "      <th>75%</th>\n",
              "      <td>4.300000e+00</td>\n",
              "      <td>4.200000e+01</td>\n",
              "      <td>5.000000e+03</td>\n",
              "      <td>7.354000e+03</td>\n",
              "      <td>0.000000e+00</td>\n",
              "    </tr>\n",
              "    <tr>\n",
              "      <th>max</th>\n",
              "      <td>5.000000e+00</td>\n",
              "      <td>1.385576e+08</td>\n",
              "      <td>1.000000e+10</td>\n",
              "      <td>1.205763e+10</td>\n",
              "      <td>4.000000e+02</td>\n",
              "    </tr>\n",
              "  </tbody>\n",
              "</table>\n",
              "</div>"
            ],
            "text/plain": [
              "             Rating  Rating Count  ...  Maximum Installs         Price\n",
              "count  2.290061e+06  2.290061e+06  ...      2.312944e+06  2.312944e+06\n",
              "mean   2.203152e+00  2.864839e+03  ...      3.202017e+05  1.034992e-01\n",
              "std    2.106223e+00  2.121626e+05  ...      2.355495e+07  2.633127e+00\n",
              "min    0.000000e+00  0.000000e+00  ...      0.000000e+00  0.000000e+00\n",
              "25%    0.000000e+00  0.000000e+00  ...      8.400000e+01  0.000000e+00\n",
              "50%    2.900000e+00  6.000000e+00  ...      6.950000e+02  0.000000e+00\n",
              "75%    4.300000e+00  4.200000e+01  ...      7.354000e+03  0.000000e+00\n",
              "max    5.000000e+00  1.385576e+08  ...      1.205763e+10  4.000000e+02\n",
              "\n",
              "[8 rows x 5 columns]"
            ]
          },
          "metadata": {},
          "execution_count": 9
        }
      ]
    },
    {
      "cell_type": "code",
      "metadata": {
        "colab": {
          "base_uri": "https://localhost:8080/"
        },
        "id": "kQXtrFCxOG_w",
        "outputId": "e65c8d96-be45-4ee1-f4e5-965da6e9f392"
      },
      "source": [
        "apps_data.info()"
      ],
      "execution_count": null,
      "outputs": [
        {
          "output_type": "stream",
          "name": "stdout",
          "text": [
            "<class 'pandas.core.frame.DataFrame'>\n",
            "RangeIndex: 2312944 entries, 0 to 2312943\n",
            "Data columns (total 24 columns):\n",
            " #   Column             Dtype  \n",
            "---  ------             -----  \n",
            " 0   App Name           object \n",
            " 1   App Id             object \n",
            " 2   Category           object \n",
            " 3   Rating             float64\n",
            " 4   Rating Count       float64\n",
            " 5   Installs           object \n",
            " 6   Minimum Installs   float64\n",
            " 7   Maximum Installs   int64  \n",
            " 8   Free               bool   \n",
            " 9   Price              float64\n",
            " 10  Currency           object \n",
            " 11  Size               object \n",
            " 12  Minimum Android    object \n",
            " 13  Developer Id       object \n",
            " 14  Developer Website  object \n",
            " 15  Developer Email    object \n",
            " 16  Released           object \n",
            " 17  Last Updated       object \n",
            " 18  Content Rating     object \n",
            " 19  Privacy Policy     object \n",
            " 20  Ad Supported       bool   \n",
            " 21  In App Purchases   bool   \n",
            " 22  Editors Choice     bool   \n",
            " 23  Scraped Time       object \n",
            "dtypes: bool(4), float64(4), int64(1), object(15)\n",
            "memory usage: 361.8+ MB\n"
          ]
        }
      ]
    },
    {
      "cell_type": "code",
      "metadata": {
        "colab": {
          "base_uri": "https://localhost:8080/"
        },
        "id": "Zz_B61qaOj8L",
        "outputId": "59bc6fd1-5dd3-4889-e943-efd57e66ec6d"
      },
      "source": [
        "apps_data.nunique()"
      ],
      "execution_count": null,
      "outputs": [
        {
          "output_type": "execute_result",
          "data": {
            "text/plain": [
              "App Name             2177944\n",
              "App Id               2312944\n",
              "Category                  48\n",
              "Rating                    42\n",
              "Rating Count           38482\n",
              "Installs                  22\n",
              "Minimum Installs          22\n",
              "Maximum Installs      251563\n",
              "Free                       2\n",
              "Price                   1063\n",
              "Currency                  15\n",
              "Size                    1657\n",
              "Minimum Android          154\n",
              "Developer Id          758371\n",
              "Developer Website     810440\n",
              "Developer Email       950456\n",
              "Released                4158\n",
              "Last Updated            3918\n",
              "Content Rating             6\n",
              "Privacy Policy        977743\n",
              "Ad Supported               2\n",
              "In App Purchases           2\n",
              "Editors Choice             2\n",
              "Scraped Time           67374\n",
              "dtype: int64"
            ]
          },
          "metadata": {},
          "execution_count": 11
        }
      ]
    },
    {
      "cell_type": "code",
      "metadata": {
        "colab": {
          "base_uri": "https://localhost:8080/"
        },
        "id": "XWl_KXTiPuB8",
        "outputId": "dbd1b2e5-a639-439d-8206-01b0497acd9e"
      },
      "source": [
        "apps_data.columns"
      ],
      "execution_count": null,
      "outputs": [
        {
          "output_type": "execute_result",
          "data": {
            "text/plain": [
              "Index(['App Name', 'App Id', 'Category', 'Rating', 'Rating Count', 'Installs',\n",
              "       'Minimum Installs', 'Maximum Installs', 'Free', 'Price', 'Currency',\n",
              "       'Size', 'Minimum Android', 'Developer Id', 'Developer Website',\n",
              "       'Developer Email', 'Released', 'Last Updated', 'Content Rating',\n",
              "       'Privacy Policy', 'Ad Supported', 'In App Purchases', 'Editors Choice',\n",
              "       'Scraped Time'],\n",
              "      dtype='object')"
            ]
          },
          "metadata": {},
          "execution_count": 12
        }
      ]
    },
    {
      "cell_type": "markdown",
      "metadata": {
        "id": "94EmtZyYPlAl"
      },
      "source": [
        "## Dealing with different attributes\n",
        "\n",
        "1. **'App Name'** is required.\n",
        "2. We can drop 'App Id' sice it will not be useful in my project.\n",
        "3. **'Category'** is needed.\n",
        "4. **'Rating' and 'Rating count'** both are needed.\n",
        "5. There are three attributes for the intalls - 'Installs','Minimum Installs' and 'Maximum Installs'. Since Installs and minimum installs have both 22 unique values and maximum installs have 251563 unique values I will take **'Maximum Installs'** So that I can perforn regression on installs.\n",
        "6. **'Free'** attribute is required.\n",
        "7. **'Price'** is required.\n",
        "8. I can take **'Currency'** to find different demographics.\n",
        "9. **'Size'** is required.\n",
        "10. **'Minimum Android'** is required\n",
        "11. I will only take **'Developer Id'** to get impact of developers.\n",
        "12. There are two attributes **'Released' and 'Srapped Time'**, I will count **number of days** since released time.\n",
        "13. I will take **'Last Update' since convert it to bool**.\n",
        "14. **'Content Rating', 'Ad Supported', 'In App Purchases', 'Editors Choice'** all are required."
      ]
    },
    {
      "cell_type": "markdown",
      "metadata": {
        "id": "KGAz-qOLd7gk"
      },
      "source": [
        "## Dropping Attributes"
      ]
    },
    {
      "cell_type": "markdown",
      "metadata": {
        "id": "3Zf5tO_NegU_"
      },
      "source": [
        "Changing space between attribute names"
      ]
    },
    {
      "cell_type": "code",
      "metadata": {
        "id": "ne5mSJFpeBfv"
      },
      "source": [
        "apps_data.columns = apps_data.columns.str.replace(' ', '_')"
      ],
      "execution_count": null,
      "outputs": []
    },
    {
      "cell_type": "code",
      "metadata": {
        "colab": {
          "base_uri": "https://localhost:8080/"
        },
        "id": "A-khM8AeemYX",
        "outputId": "bd6de1c7-b976-46f1-d718-021dedd15711"
      },
      "source": [
        "apps_data.columns"
      ],
      "execution_count": null,
      "outputs": [
        {
          "output_type": "execute_result",
          "data": {
            "text/plain": [
              "Index(['App_Name', 'App_Id', 'Category', 'Rating', 'Rating_Count', 'Installs',\n",
              "       'Minimum_Installs', 'Maximum_Installs', 'Free', 'Price', 'Currency',\n",
              "       'Size', 'Minimum_Android', 'Developer_Id', 'Developer_Website',\n",
              "       'Developer_Email', 'Released', 'Last_Updated', 'Content_Rating',\n",
              "       'Privacy_Policy', 'Ad_Supported', 'In_App_Purchases', 'Editors_Choice',\n",
              "       'Scraped_Time'],\n",
              "      dtype='object')"
            ]
          },
          "metadata": {},
          "execution_count": 14
        }
      ]
    },
    {
      "cell_type": "code",
      "metadata": {
        "id": "elOSitX2eqHs"
      },
      "source": [
        "apps_data = apps_data.drop(['App_Id','Installs','Minimum_Installs','Developer_Website','Developer_Email','Privacy_Policy'], axis=1)"
      ],
      "execution_count": null,
      "outputs": []
    },
    {
      "cell_type": "code",
      "metadata": {
        "colab": {
          "base_uri": "https://localhost:8080/"
        },
        "id": "xi4wbgWfezHx",
        "outputId": "4c32da78-b73c-42c4-fb88-c14b4cf7062e"
      },
      "source": [
        "apps_data.columns"
      ],
      "execution_count": null,
      "outputs": [
        {
          "output_type": "execute_result",
          "data": {
            "text/plain": [
              "Index(['App_Name', 'Category', 'Rating', 'Rating_Count', 'Maximum_Installs',\n",
              "       'Free', 'Price', 'Currency', 'Size', 'Minimum_Android', 'Developer_Id',\n",
              "       'Released', 'Last_Updated', 'Content_Rating', 'Ad_Supported',\n",
              "       'In_App_Purchases', 'Editors_Choice', 'Scraped_Time'],\n",
              "      dtype='object')"
            ]
          },
          "metadata": {},
          "execution_count": 16
        }
      ]
    },
    {
      "cell_type": "markdown",
      "metadata": {
        "id": "es4nNF_ScxQg"
      },
      "source": [
        "## Tackling App_Name"
      ]
    },
    {
      "cell_type": "code",
      "metadata": {
        "colab": {
          "base_uri": "https://localhost:8080/"
        },
        "id": "H81UJGLSOrAo",
        "outputId": "cf6f7437-acaa-4be8-e83f-3c6505a8c50b"
      },
      "source": [
        "len(apps_data)"
      ],
      "execution_count": null,
      "outputs": [
        {
          "output_type": "execute_result",
          "data": {
            "text/plain": [
              "2312944"
            ]
          },
          "metadata": {},
          "execution_count": 17
        }
      ]
    },
    {
      "cell_type": "code",
      "metadata": {
        "colab": {
          "base_uri": "https://localhost:8080/"
        },
        "id": "1lwJ5B5hXhlC",
        "outputId": "45ab9fd4-4275-4469-e17d-251f99039eca"
      },
      "source": [
        "apps_data.App_Name.isnull().sum()"
      ],
      "execution_count": null,
      "outputs": [
        {
          "output_type": "execute_result",
          "data": {
            "text/plain": [
              "2"
            ]
          },
          "metadata": {},
          "execution_count": 18
        }
      ]
    },
    {
      "cell_type": "markdown",
      "metadata": {
        "id": "fFZKKQIeYQYd"
      },
      "source": [
        "Since there are two rows having null App_Name I am dropping them"
      ]
    },
    {
      "cell_type": "code",
      "metadata": {
        "id": "p83ULvPDYHLB"
      },
      "source": [
        "apps_data = apps_data[apps_data['App_Name'].notna()]"
      ],
      "execution_count": null,
      "outputs": []
    },
    {
      "cell_type": "code",
      "metadata": {
        "colab": {
          "base_uri": "https://localhost:8080/"
        },
        "id": "x5-alMucZEwU",
        "outputId": "b369be15-0abf-4e25-a87f-33a929fe95f4"
      },
      "source": [
        "apps_data.App_Name.isnull().sum()"
      ],
      "execution_count": null,
      "outputs": [
        {
          "output_type": "execute_result",
          "data": {
            "text/plain": [
              "0"
            ]
          },
          "metadata": {},
          "execution_count": 20
        }
      ]
    },
    {
      "cell_type": "code",
      "metadata": {
        "colab": {
          "base_uri": "https://localhost:8080/"
        },
        "id": "R5hYZVp5ZG5v",
        "outputId": "2d85a2d6-60b0-4a6d-edc3-34192de6fabf"
      },
      "source": [
        "len(apps_data.App_Name.unique())"
      ],
      "execution_count": null,
      "outputs": [
        {
          "output_type": "execute_result",
          "data": {
            "text/plain": [
              "2177944"
            ]
          },
          "metadata": {},
          "execution_count": 21
        }
      ]
    },
    {
      "cell_type": "code",
      "metadata": {
        "colab": {
          "base_uri": "https://localhost:8080/"
        },
        "id": "Xyf98lJ-ZLzA",
        "outputId": "3c023bcd-3a12-4395-c1c8-4a0fd6f71ca0"
      },
      "source": [
        "len(apps_data)"
      ],
      "execution_count": null,
      "outputs": [
        {
          "output_type": "execute_result",
          "data": {
            "text/plain": [
              "2312942"
            ]
          },
          "metadata": {},
          "execution_count": 22
        }
      ]
    },
    {
      "cell_type": "code",
      "metadata": {
        "colab": {
          "base_uri": "https://localhost:8080/"
        },
        "id": "-e__-ETSaA__",
        "outputId": "699aaac3-7aba-4ed3-c641-dfeed1095c98"
      },
      "source": [
        "apps_data[apps_data.App_Name.duplicated()]"
      ],
      "execution_count": null,
      "outputs": [
        {
          "output_type": "execute_result",
          "data": {
            "text/html": [
              "<div>\n",
              "<style scoped>\n",
              "    .dataframe tbody tr th:only-of-type {\n",
              "        vertical-align: middle;\n",
              "    }\n",
              "\n",
              "    .dataframe tbody tr th {\n",
              "        vertical-align: top;\n",
              "    }\n",
              "\n",
              "    .dataframe thead th {\n",
              "        text-align: right;\n",
              "    }\n",
              "</style>\n",
              "<table border=\"1\" class=\"dataframe\">\n",
              "  <thead>\n",
              "    <tr style=\"text-align: right;\">\n",
              "      <th></th>\n",
              "      <th>App_Name</th>\n",
              "      <th>Category</th>\n",
              "      <th>Rating</th>\n",
              "      <th>Rating_Count</th>\n",
              "      <th>Maximum_Installs</th>\n",
              "      <th>Free</th>\n",
              "      <th>Price</th>\n",
              "      <th>Currency</th>\n",
              "      <th>Size</th>\n",
              "      <th>Minimum_Android</th>\n",
              "      <th>Developer_Id</th>\n",
              "      <th>Released</th>\n",
              "      <th>Last_Updated</th>\n",
              "      <th>Content_Rating</th>\n",
              "      <th>Ad_Supported</th>\n",
              "      <th>In_App_Purchases</th>\n",
              "      <th>Editors_Choice</th>\n",
              "      <th>Scraped_Time</th>\n",
              "    </tr>\n",
              "  </thead>\n",
              "  <tbody>\n",
              "    <tr>\n",
              "      <th>2377</th>\n",
              "      <td>Bhagavad Gita in English</td>\n",
              "      <td>Books &amp; Reference</td>\n",
              "      <td>0.0</td>\n",
              "      <td>0.0</td>\n",
              "      <td>51</td>\n",
              "      <td>True</td>\n",
              "      <td>0.00</td>\n",
              "      <td>XXX</td>\n",
              "      <td>9.9M</td>\n",
              "      <td>4.4 and up</td>\n",
              "      <td>Cipher SoftTech</td>\n",
              "      <td>Dec 25, 2020</td>\n",
              "      <td>Dec 25, 2020</td>\n",
              "      <td>Everyone</td>\n",
              "      <td>True</td>\n",
              "      <td>False</td>\n",
              "      <td>False</td>\n",
              "      <td>2021-06-15 20:21:53</td>\n",
              "    </tr>\n",
              "    <tr>\n",
              "      <th>2562</th>\n",
              "      <td>Mancala</td>\n",
              "      <td>Board</td>\n",
              "      <td>4.3</td>\n",
              "      <td>886.0</td>\n",
              "      <td>147049</td>\n",
              "      <td>True</td>\n",
              "      <td>0.00</td>\n",
              "      <td>USD</td>\n",
              "      <td>22M</td>\n",
              "      <td>4.1 and up</td>\n",
              "      <td>Mancala &amp; Oware Games</td>\n",
              "      <td>Nov 22, 2019</td>\n",
              "      <td>Jul 24, 2020</td>\n",
              "      <td>Everyone</td>\n",
              "      <td>True</td>\n",
              "      <td>False</td>\n",
              "      <td>False</td>\n",
              "      <td>2021-06-15 20:22:03</td>\n",
              "    </tr>\n",
              "    <tr>\n",
              "      <th>3339</th>\n",
              "      <td>Gallery</td>\n",
              "      <td>Tools</td>\n",
              "      <td>4.5</td>\n",
              "      <td>708.0</td>\n",
              "      <td>173245</td>\n",
              "      <td>True</td>\n",
              "      <td>0.00</td>\n",
              "      <td>USD</td>\n",
              "      <td>6.9M</td>\n",
              "      <td>4.4 and up</td>\n",
              "      <td>Photo gallery and Simple gallery lite</td>\n",
              "      <td>Jan 2, 2021</td>\n",
              "      <td>Jun 07, 2021</td>\n",
              "      <td>Everyone</td>\n",
              "      <td>True</td>\n",
              "      <td>False</td>\n",
              "      <td>False</td>\n",
              "      <td>2021-06-15 20:22:48</td>\n",
              "    </tr>\n",
              "    <tr>\n",
              "      <th>4642</th>\n",
              "      <td>Age Calculator</td>\n",
              "      <td>Productivity</td>\n",
              "      <td>4.5</td>\n",
              "      <td>53.0</td>\n",
              "      <td>11228</td>\n",
              "      <td>True</td>\n",
              "      <td>0.00</td>\n",
              "      <td>USD</td>\n",
              "      <td>629k</td>\n",
              "      <td>2.3 and up</td>\n",
              "      <td>NSTechFrame</td>\n",
              "      <td>Jan 2, 2015</td>\n",
              "      <td>Feb 12, 2015</td>\n",
              "      <td>Everyone</td>\n",
              "      <td>False</td>\n",
              "      <td>False</td>\n",
              "      <td>False</td>\n",
              "      <td>2021-06-15 20:24:03</td>\n",
              "    </tr>\n",
              "    <tr>\n",
              "      <th>4771</th>\n",
              "      <td>Vacuum Cleaner Sound</td>\n",
              "      <td>Music &amp; Audio</td>\n",
              "      <td>0.0</td>\n",
              "      <td>0.0</td>\n",
              "      <td>26</td>\n",
              "      <td>False</td>\n",
              "      <td>2.49</td>\n",
              "      <td>USD</td>\n",
              "      <td>2.3M</td>\n",
              "      <td>2.3.3 and up</td>\n",
              "      <td>Animated Oak Entertainment Ltd</td>\n",
              "      <td>Jan 11, 2016</td>\n",
              "      <td>Jan 11, 2016</td>\n",
              "      <td>Everyone</td>\n",
              "      <td>False</td>\n",
              "      <td>False</td>\n",
              "      <td>False</td>\n",
              "      <td>2021-06-15 20:24:11</td>\n",
              "    </tr>\n",
              "    <tr>\n",
              "      <th>...</th>\n",
              "      <td>...</td>\n",
              "      <td>...</td>\n",
              "      <td>...</td>\n",
              "      <td>...</td>\n",
              "      <td>...</td>\n",
              "      <td>...</td>\n",
              "      <td>...</td>\n",
              "      <td>...</td>\n",
              "      <td>...</td>\n",
              "      <td>...</td>\n",
              "      <td>...</td>\n",
              "      <td>...</td>\n",
              "      <td>...</td>\n",
              "      <td>...</td>\n",
              "      <td>...</td>\n",
              "      <td>...</td>\n",
              "      <td>...</td>\n",
              "      <td>...</td>\n",
              "    </tr>\n",
              "    <tr>\n",
              "      <th>2312930</th>\n",
              "      <td>PAX</td>\n",
              "      <td>Travel &amp; Local</td>\n",
              "      <td>3.3</td>\n",
              "      <td>7.0</td>\n",
              "      <td>388</td>\n",
              "      <td>True</td>\n",
              "      <td>0.00</td>\n",
              "      <td>USD</td>\n",
              "      <td>22M</td>\n",
              "      <td>4.4 and up</td>\n",
              "      <td>Apreciasoft Software</td>\n",
              "      <td>Sep 2, 2019</td>\n",
              "      <td>Nov 26, 2020</td>\n",
              "      <td>Everyone</td>\n",
              "      <td>False</td>\n",
              "      <td>False</td>\n",
              "      <td>False</td>\n",
              "      <td>2021-06-16 12:59:18</td>\n",
              "    </tr>\n",
              "    <tr>\n",
              "      <th>2312934</th>\n",
              "      <td>Vietnamese - English Translator</td>\n",
              "      <td>Education</td>\n",
              "      <td>0.0</td>\n",
              "      <td>0.0</td>\n",
              "      <td>6</td>\n",
              "      <td>True</td>\n",
              "      <td>0.00</td>\n",
              "      <td>USD</td>\n",
              "      <td>3.6M</td>\n",
              "      <td>4.0 and up</td>\n",
              "      <td>Eliminates Apps</td>\n",
              "      <td>Jun 15, 2020</td>\n",
              "      <td>Aug 31, 2020</td>\n",
              "      <td>Everyone</td>\n",
              "      <td>True</td>\n",
              "      <td>False</td>\n",
              "      <td>False</td>\n",
              "      <td>2021-06-16 12:59:18</td>\n",
              "    </tr>\n",
              "    <tr>\n",
              "      <th>2312935</th>\n",
              "      <td>Floral Wallpaper</td>\n",
              "      <td>Personalization</td>\n",
              "      <td>0.0</td>\n",
              "      <td>0.0</td>\n",
              "      <td>1302</td>\n",
              "      <td>True</td>\n",
              "      <td>0.00</td>\n",
              "      <td>USD</td>\n",
              "      <td>29M</td>\n",
              "      <td>4.1 and up</td>\n",
              "      <td>arfdev</td>\n",
              "      <td>Jul 19, 2018</td>\n",
              "      <td>Nov 13, 2019</td>\n",
              "      <td>Everyone</td>\n",
              "      <td>True</td>\n",
              "      <td>False</td>\n",
              "      <td>False</td>\n",
              "      <td>2021-06-16 12:59:18</td>\n",
              "    </tr>\n",
              "    <tr>\n",
              "      <th>2312941</th>\n",
              "      <td>Data Structure</td>\n",
              "      <td>Education</td>\n",
              "      <td>0.0</td>\n",
              "      <td>0.0</td>\n",
              "      <td>202</td>\n",
              "      <td>True</td>\n",
              "      <td>0.00</td>\n",
              "      <td>USD</td>\n",
              "      <td>29M</td>\n",
              "      <td>5.0 and up</td>\n",
              "      <td>appoworld</td>\n",
              "      <td>Aug 19, 2018</td>\n",
              "      <td>Aug 19, 2018</td>\n",
              "      <td>Everyone</td>\n",
              "      <td>False</td>\n",
              "      <td>False</td>\n",
              "      <td>False</td>\n",
              "      <td>2021-06-16 12:59:19</td>\n",
              "    </tr>\n",
              "    <tr>\n",
              "      <th>2312942</th>\n",
              "      <td>Devi Suktam</td>\n",
              "      <td>Music &amp; Audio</td>\n",
              "      <td>3.5</td>\n",
              "      <td>8.0</td>\n",
              "      <td>2635</td>\n",
              "      <td>True</td>\n",
              "      <td>0.00</td>\n",
              "      <td>USD</td>\n",
              "      <td>10M</td>\n",
              "      <td>5.0 and up</td>\n",
              "      <td>Bhakti</td>\n",
              "      <td>Aug 1, 2016</td>\n",
              "      <td>May 05, 2021</td>\n",
              "      <td>Everyone</td>\n",
              "      <td>True</td>\n",
              "      <td>False</td>\n",
              "      <td>False</td>\n",
              "      <td>2021-06-16 12:59:19</td>\n",
              "    </tr>\n",
              "  </tbody>\n",
              "</table>\n",
              "<p>134998 rows × 18 columns</p>\n",
              "</div>"
            ],
            "text/plain": [
              "                                App_Name  ...         Scraped_Time\n",
              "2377            Bhagavad Gita in English  ...  2021-06-15 20:21:53\n",
              "2562                             Mancala  ...  2021-06-15 20:22:03\n",
              "3339                             Gallery  ...  2021-06-15 20:22:48\n",
              "4642                      Age Calculator  ...  2021-06-15 20:24:03\n",
              "4771                Vacuum Cleaner Sound  ...  2021-06-15 20:24:11\n",
              "...                                  ...  ...                  ...\n",
              "2312930                              PAX  ...  2021-06-16 12:59:18\n",
              "2312934  Vietnamese - English Translator  ...  2021-06-16 12:59:18\n",
              "2312935                 Floral Wallpaper  ...  2021-06-16 12:59:18\n",
              "2312941                   Data Structure  ...  2021-06-16 12:59:19\n",
              "2312942                      Devi Suktam  ...  2021-06-16 12:59:19\n",
              "\n",
              "[134998 rows x 18 columns]"
            ]
          },
          "metadata": {},
          "execution_count": 23
        }
      ]
    },
    {
      "cell_type": "code",
      "metadata": {
        "colab": {
          "base_uri": "https://localhost:8080/"
        },
        "id": "Jjbf6Hmobv4H",
        "outputId": "8fb391d7-09d1-4658-a1c1-f503b9dbc50a"
      },
      "source": [
        "len(apps_data[apps_data.duplicated(subset=['App_Name','Scraped_Time'])])"
      ],
      "execution_count": null,
      "outputs": [
        {
          "output_type": "execute_result",
          "data": {
            "text/plain": [
              "16"
            ]
          },
          "metadata": {},
          "execution_count": 24
        }
      ]
    },
    {
      "cell_type": "markdown",
      "metadata": {
        "id": "LOkDpqpuawoF"
      },
      "source": [
        "There are some duplicate app names. Lets drop them."
      ]
    },
    {
      "cell_type": "code",
      "metadata": {
        "id": "uzPMmTQoaar3"
      },
      "source": [
        "apps_data = apps_data.drop_duplicates(subset=['App_Name'])"
      ],
      "execution_count": null,
      "outputs": []
    },
    {
      "cell_type": "code",
      "metadata": {
        "colab": {
          "base_uri": "https://localhost:8080/"
        },
        "id": "f2Ym_fkia-WG",
        "outputId": "f8252796-6f33-4317-ed15-5871e92ce2c4"
      },
      "source": [
        "apps_data[apps_data.App_Name.duplicated()]"
      ],
      "execution_count": null,
      "outputs": [
        {
          "output_type": "execute_result",
          "data": {
            "text/html": [
              "<div>\n",
              "<style scoped>\n",
              "    .dataframe tbody tr th:only-of-type {\n",
              "        vertical-align: middle;\n",
              "    }\n",
              "\n",
              "    .dataframe tbody tr th {\n",
              "        vertical-align: top;\n",
              "    }\n",
              "\n",
              "    .dataframe thead th {\n",
              "        text-align: right;\n",
              "    }\n",
              "</style>\n",
              "<table border=\"1\" class=\"dataframe\">\n",
              "  <thead>\n",
              "    <tr style=\"text-align: right;\">\n",
              "      <th></th>\n",
              "      <th>App_Name</th>\n",
              "      <th>Category</th>\n",
              "      <th>Rating</th>\n",
              "      <th>Rating_Count</th>\n",
              "      <th>Maximum_Installs</th>\n",
              "      <th>Free</th>\n",
              "      <th>Price</th>\n",
              "      <th>Currency</th>\n",
              "      <th>Size</th>\n",
              "      <th>Minimum_Android</th>\n",
              "      <th>Developer_Id</th>\n",
              "      <th>Released</th>\n",
              "      <th>Last_Updated</th>\n",
              "      <th>Content_Rating</th>\n",
              "      <th>Ad_Supported</th>\n",
              "      <th>In_App_Purchases</th>\n",
              "      <th>Editors_Choice</th>\n",
              "      <th>Scraped_Time</th>\n",
              "    </tr>\n",
              "  </thead>\n",
              "  <tbody>\n",
              "  </tbody>\n",
              "</table>\n",
              "</div>"
            ],
            "text/plain": [
              "Empty DataFrame\n",
              "Columns: [App_Name, Category, Rating, Rating_Count, Maximum_Installs, Free, Price, Currency, Size, Minimum_Android, Developer_Id, Released, Last_Updated, Content_Rating, Ad_Supported, In_App_Purchases, Editors_Choice, Scraped_Time]\n",
              "Index: []"
            ]
          },
          "metadata": {},
          "execution_count": 26
        }
      ]
    },
    {
      "cell_type": "code",
      "metadata": {
        "colab": {
          "base_uri": "https://localhost:8080/"
        },
        "id": "vLXwkd2xcWka",
        "outputId": "56b5a733-8f02-457f-a911-b02def844913"
      },
      "source": [
        "len(apps_data)"
      ],
      "execution_count": null,
      "outputs": [
        {
          "output_type": "execute_result",
          "data": {
            "text/plain": [
              "2177944"
            ]
          },
          "metadata": {},
          "execution_count": 27
        }
      ]
    },
    {
      "cell_type": "markdown",
      "metadata": {
        "id": "9Z1jBsQAexAT"
      },
      "source": [
        "## Tackling Category"
      ]
    },
    {
      "cell_type": "code",
      "metadata": {
        "colab": {
          "base_uri": "https://localhost:8080/"
        },
        "id": "PNkSjwy4ewTE",
        "outputId": "f405a8ab-10ff-414d-f851-4902a58ee5e8"
      },
      "source": [
        "apps_data.Category.value_counts()"
      ],
      "execution_count": null,
      "outputs": [
        {
          "output_type": "execute_result",
          "data": {
            "text/plain": [
              "Education                  227982\n",
              "Music & Audio              145619\n",
              "Business                   140381\n",
              "Tools                      131878\n",
              "Entertainment              128555\n",
              "Lifestyle                  111836\n",
              "Books & Reference          107601\n",
              "Health & Fitness            79807\n",
              "Personalization             76996\n",
              "Productivity                75388\n",
              "Shopping                    73524\n",
              "Food & Drink                71151\n",
              "Travel & Local              65764\n",
              "Finance                     62904\n",
              "Arcade                      49182\n",
              "Casual                      46911\n",
              "Puzzle                      46509\n",
              "Communication               46318\n",
              "Sports                      46130\n",
              "Social                      42468\n",
              "News & Magazines            41063\n",
              "Medical                     31248\n",
              "Photography                 29990\n",
              "Action                      26426\n",
              "Maps & Navigation           25937\n",
              "Simulation                  22627\n",
              "Adventure                   22315\n",
              "Educational                 20230\n",
              "Auto & Vehicles             17747\n",
              "Art & Design                16872\n",
              "House & Home                13611\n",
              "Video Players & Editors     12674\n",
              "Events                      12473\n",
              "Beauty                      11159\n",
              "Trivia                      11103\n",
              "Racing                       9973\n",
              "Role Playing                 9878\n",
              "Board                        9247\n",
              "Strategy                     8100\n",
              "Word                         7925\n",
              "Card                         7098\n",
              "Weather                      6803\n",
              "Dating                       6237\n",
              "Libraries & Demo             4972\n",
              "Casino                       4826\n",
              "Music                        4073\n",
              "Parenting                    3657\n",
              "Comics                       2776\n",
              "Name: Category, dtype: int64"
            ]
          },
          "metadata": {},
          "execution_count": 28
        }
      ]
    },
    {
      "cell_type": "code",
      "metadata": {
        "colab": {
          "base_uri": "https://localhost:8080/"
        },
        "id": "xiY4TCaSewPm",
        "outputId": "8778828c-f964-40b8-c763-3886682c1807"
      },
      "source": [
        "print(np.sort(apps_data.Category.unique()))"
      ],
      "execution_count": null,
      "outputs": [
        {
          "output_type": "stream",
          "name": "stdout",
          "text": [
            "['Action' 'Adventure' 'Arcade' 'Art & Design' 'Auto & Vehicles' 'Beauty'\n",
            " 'Board' 'Books & Reference' 'Business' 'Card' 'Casino' 'Casual' 'Comics'\n",
            " 'Communication' 'Dating' 'Education' 'Educational' 'Entertainment'\n",
            " 'Events' 'Finance' 'Food & Drink' 'Health & Fitness' 'House & Home'\n",
            " 'Libraries & Demo' 'Lifestyle' 'Maps & Navigation' 'Medical' 'Music'\n",
            " 'Music & Audio' 'News & Magazines' 'Parenting' 'Personalization'\n",
            " 'Photography' 'Productivity' 'Puzzle' 'Racing' 'Role Playing' 'Shopping'\n",
            " 'Simulation' 'Social' 'Sports' 'Strategy' 'Tools' 'Travel & Local'\n",
            " 'Trivia' 'Video Players & Editors' 'Weather' 'Word']\n"
          ]
        }
      ]
    },
    {
      "cell_type": "markdown",
      "metadata": {
        "id": "JhqAY2HnhkQ-"
      },
      "source": [
        "1. Education and Educational are similar.\n",
        "2. Music and Music & Audio are similar"
      ]
    },
    {
      "cell_type": "code",
      "metadata": {
        "id": "xAjkAz0LhJnw"
      },
      "source": [
        "apps_data.loc[apps_data.Category == 'Educational','Category'] = 'Education'"
      ],
      "execution_count": null,
      "outputs": []
    },
    {
      "cell_type": "code",
      "metadata": {
        "id": "7aMUH73KjBGH"
      },
      "source": [
        "apps_data.loc[apps_data.Category == 'Music','Category'] = 'Music & Audio'"
      ],
      "execution_count": null,
      "outputs": []
    },
    {
      "cell_type": "code",
      "metadata": {
        "colab": {
          "base_uri": "https://localhost:8080/"
        },
        "id": "xm9y_f6ajP-8",
        "outputId": "75e00211-b2a5-4826-ced1-3a9420430b6e"
      },
      "source": [
        "print(np.sort(apps_data.Category.unique()))"
      ],
      "execution_count": null,
      "outputs": [
        {
          "output_type": "stream",
          "name": "stdout",
          "text": [
            "['Action' 'Adventure' 'Arcade' 'Art & Design' 'Auto & Vehicles' 'Beauty'\n",
            " 'Board' 'Books & Reference' 'Business' 'Card' 'Casino' 'Casual' 'Comics'\n",
            " 'Communication' 'Dating' 'Education' 'Entertainment' 'Events' 'Finance'\n",
            " 'Food & Drink' 'Health & Fitness' 'House & Home' 'Libraries & Demo'\n",
            " 'Lifestyle' 'Maps & Navigation' 'Medical' 'Music & Audio'\n",
            " 'News & Magazines' 'Parenting' 'Personalization' 'Photography'\n",
            " 'Productivity' 'Puzzle' 'Racing' 'Role Playing' 'Shopping' 'Simulation'\n",
            " 'Social' 'Sports' 'Strategy' 'Tools' 'Travel & Local' 'Trivia'\n",
            " 'Video Players & Editors' 'Weather' 'Word']\n"
          ]
        }
      ]
    },
    {
      "cell_type": "code",
      "metadata": {
        "colab": {
          "base_uri": "https://localhost:8080/"
        },
        "id": "qOi9B0tulNvl",
        "outputId": "06a3d1b6-c265-4e0a-be33-04d5d07ebc5a"
      },
      "source": [
        "apps_data.Category.value_counts()"
      ],
      "execution_count": null,
      "outputs": [
        {
          "output_type": "execute_result",
          "data": {
            "text/plain": [
              "Education                  248212\n",
              "Music & Audio              149692\n",
              "Business                   140381\n",
              "Tools                      131878\n",
              "Entertainment              128555\n",
              "Lifestyle                  111836\n",
              "Books & Reference          107601\n",
              "Health & Fitness            79807\n",
              "Personalization             76996\n",
              "Productivity                75388\n",
              "Shopping                    73524\n",
              "Food & Drink                71151\n",
              "Travel & Local              65764\n",
              "Finance                     62904\n",
              "Arcade                      49182\n",
              "Casual                      46911\n",
              "Puzzle                      46509\n",
              "Communication               46318\n",
              "Sports                      46130\n",
              "Social                      42468\n",
              "News & Magazines            41063\n",
              "Medical                     31248\n",
              "Photography                 29990\n",
              "Action                      26426\n",
              "Maps & Navigation           25937\n",
              "Simulation                  22627\n",
              "Adventure                   22315\n",
              "Auto & Vehicles             17747\n",
              "Art & Design                16872\n",
              "House & Home                13611\n",
              "Video Players & Editors     12674\n",
              "Events                      12473\n",
              "Beauty                      11159\n",
              "Trivia                      11103\n",
              "Racing                       9973\n",
              "Role Playing                 9878\n",
              "Board                        9247\n",
              "Strategy                     8100\n",
              "Word                         7925\n",
              "Card                         7098\n",
              "Weather                      6803\n",
              "Dating                       6237\n",
              "Libraries & Demo             4972\n",
              "Casino                       4826\n",
              "Parenting                    3657\n",
              "Comics                       2776\n",
              "Name: Category, dtype: int64"
            ]
          },
          "metadata": {},
          "execution_count": 33
        }
      ]
    },
    {
      "cell_type": "code",
      "metadata": {
        "colab": {
          "base_uri": "https://localhost:8080/"
        },
        "id": "s1byNzxilTa1",
        "outputId": "34977886-bcb5-4bfd-f2e5-a990c02e5fb3"
      },
      "source": [
        "apps_data.Category.isnull().sum()"
      ],
      "execution_count": null,
      "outputs": [
        {
          "output_type": "execute_result",
          "data": {
            "text/plain": [
              "0"
            ]
          },
          "metadata": {},
          "execution_count": 34
        }
      ]
    },
    {
      "cell_type": "markdown",
      "metadata": {
        "id": "52cUA47vlgwc"
      },
      "source": [
        "There is no null value"
      ]
    },
    {
      "cell_type": "code",
      "metadata": {
        "colab": {
          "base_uri": "https://localhost:8080/"
        },
        "id": "3D9JzHHhlZ5F",
        "outputId": "605907c2-062b-47c7-fbbd-e6483d542a78"
      },
      "source": [
        "print(len(apps_data),len(apps_data.Category))"
      ],
      "execution_count": null,
      "outputs": [
        {
          "output_type": "stream",
          "name": "stdout",
          "text": [
            "2177944 2177944\n"
          ]
        }
      ]
    },
    {
      "cell_type": "code",
      "metadata": {
        "id": "9QIzXwusmfLI"
      },
      "source": [
        "apps_data.Category = apps_data.Category.astype('category')"
      ],
      "execution_count": null,
      "outputs": []
    },
    {
      "cell_type": "code",
      "metadata": {
        "colab": {
          "base_uri": "https://localhost:8080/"
        },
        "id": "s1SY8CYqnNi6",
        "outputId": "11a01c65-cc0c-4e78-c8ad-ba2fc6852ce4"
      },
      "source": [
        "apps_data.info()"
      ],
      "execution_count": null,
      "outputs": [
        {
          "output_type": "stream",
          "name": "stdout",
          "text": [
            "<class 'pandas.core.frame.DataFrame'>\n",
            "Int64Index: 2177944 entries, 0 to 2312943\n",
            "Data columns (total 18 columns):\n",
            " #   Column            Dtype   \n",
            "---  ------            -----   \n",
            " 0   App_Name          object  \n",
            " 1   Category          category\n",
            " 2   Rating            float64 \n",
            " 3   Rating_Count      float64 \n",
            " 4   Maximum_Installs  int64   \n",
            " 5   Free              bool    \n",
            " 6   Price             float64 \n",
            " 7   Currency          object  \n",
            " 8   Size              object  \n",
            " 9   Minimum_Android   object  \n",
            " 10  Developer_Id      object  \n",
            " 11  Released          object  \n",
            " 12  Last_Updated      object  \n",
            " 13  Content_Rating    object  \n",
            " 14  Ad_Supported      bool    \n",
            " 15  In_App_Purchases  bool    \n",
            " 16  Editors_Choice    bool    \n",
            " 17  Scraped_Time      object  \n",
            "dtypes: bool(4), category(1), float64(3), int64(1), object(9)\n",
            "memory usage: 243.0+ MB\n"
          ]
        }
      ]
    },
    {
      "cell_type": "markdown",
      "metadata": {
        "id": "GDmtyPsFlrwz"
      },
      "source": [
        "## Tackling Rating"
      ]
    },
    {
      "cell_type": "code",
      "metadata": {
        "colab": {
          "base_uri": "https://localhost:8080/"
        },
        "id": "fmHyGDe_lpKf",
        "outputId": "5ddb7445-1212-42b6-e09d-329892e62baa"
      },
      "source": [
        "apps_data[apps_data.Rating>5]"
      ],
      "execution_count": null,
      "outputs": [
        {
          "output_type": "execute_result",
          "data": {
            "text/html": [
              "<div>\n",
              "<style scoped>\n",
              "    .dataframe tbody tr th:only-of-type {\n",
              "        vertical-align: middle;\n",
              "    }\n",
              "\n",
              "    .dataframe tbody tr th {\n",
              "        vertical-align: top;\n",
              "    }\n",
              "\n",
              "    .dataframe thead th {\n",
              "        text-align: right;\n",
              "    }\n",
              "</style>\n",
              "<table border=\"1\" class=\"dataframe\">\n",
              "  <thead>\n",
              "    <tr style=\"text-align: right;\">\n",
              "      <th></th>\n",
              "      <th>App_Name</th>\n",
              "      <th>Category</th>\n",
              "      <th>Rating</th>\n",
              "      <th>Rating_Count</th>\n",
              "      <th>Maximum_Installs</th>\n",
              "      <th>Free</th>\n",
              "      <th>Price</th>\n",
              "      <th>Currency</th>\n",
              "      <th>Size</th>\n",
              "      <th>Minimum_Android</th>\n",
              "      <th>Developer_Id</th>\n",
              "      <th>Released</th>\n",
              "      <th>Last_Updated</th>\n",
              "      <th>Content_Rating</th>\n",
              "      <th>Ad_Supported</th>\n",
              "      <th>In_App_Purchases</th>\n",
              "      <th>Editors_Choice</th>\n",
              "      <th>Scraped_Time</th>\n",
              "    </tr>\n",
              "  </thead>\n",
              "  <tbody>\n",
              "  </tbody>\n",
              "</table>\n",
              "</div>"
            ],
            "text/plain": [
              "Empty DataFrame\n",
              "Columns: [App_Name, Category, Rating, Rating_Count, Maximum_Installs, Free, Price, Currency, Size, Minimum_Android, Developer_Id, Released, Last_Updated, Content_Rating, Ad_Supported, In_App_Purchases, Editors_Choice, Scraped_Time]\n",
              "Index: []"
            ]
          },
          "metadata": {},
          "execution_count": 38
        }
      ]
    },
    {
      "cell_type": "code",
      "metadata": {
        "colab": {
          "base_uri": "https://localhost:8080/"
        },
        "id": "P4wXGpWUmBCB",
        "outputId": "e968ef0f-68fb-40e8-cc73-9cda8f1fb62a"
      },
      "source": [
        "apps_data[apps_data.Rating<0]"
      ],
      "execution_count": null,
      "outputs": [
        {
          "output_type": "execute_result",
          "data": {
            "text/html": [
              "<div>\n",
              "<style scoped>\n",
              "    .dataframe tbody tr th:only-of-type {\n",
              "        vertical-align: middle;\n",
              "    }\n",
              "\n",
              "    .dataframe tbody tr th {\n",
              "        vertical-align: top;\n",
              "    }\n",
              "\n",
              "    .dataframe thead th {\n",
              "        text-align: right;\n",
              "    }\n",
              "</style>\n",
              "<table border=\"1\" class=\"dataframe\">\n",
              "  <thead>\n",
              "    <tr style=\"text-align: right;\">\n",
              "      <th></th>\n",
              "      <th>App_Name</th>\n",
              "      <th>Category</th>\n",
              "      <th>Rating</th>\n",
              "      <th>Rating_Count</th>\n",
              "      <th>Maximum_Installs</th>\n",
              "      <th>Free</th>\n",
              "      <th>Price</th>\n",
              "      <th>Currency</th>\n",
              "      <th>Size</th>\n",
              "      <th>Minimum_Android</th>\n",
              "      <th>Developer_Id</th>\n",
              "      <th>Released</th>\n",
              "      <th>Last_Updated</th>\n",
              "      <th>Content_Rating</th>\n",
              "      <th>Ad_Supported</th>\n",
              "      <th>In_App_Purchases</th>\n",
              "      <th>Editors_Choice</th>\n",
              "      <th>Scraped_Time</th>\n",
              "    </tr>\n",
              "  </thead>\n",
              "  <tbody>\n",
              "  </tbody>\n",
              "</table>\n",
              "</div>"
            ],
            "text/plain": [
              "Empty DataFrame\n",
              "Columns: [App_Name, Category, Rating, Rating_Count, Maximum_Installs, Free, Price, Currency, Size, Minimum_Android, Developer_Id, Released, Last_Updated, Content_Rating, Ad_Supported, In_App_Purchases, Editors_Choice, Scraped_Time]\n",
              "Index: []"
            ]
          },
          "metadata": {},
          "execution_count": 39
        }
      ]
    },
    {
      "cell_type": "code",
      "metadata": {
        "colab": {
          "base_uri": "https://localhost:8080/"
        },
        "id": "IkOuECTkmDpL",
        "outputId": "239ebbb2-2e5d-42be-fcdc-d61a1d62b3d4"
      },
      "source": [
        "apps_data.Rating.unique()"
      ],
      "execution_count": null,
      "outputs": [
        {
          "output_type": "execute_result",
          "data": {
            "text/plain": [
              "array([0. , 4.4, 5. , 4.5, 2. , 4.7, 4.9, 3.9, 3.7, 4.2, 3.4, 3.8, 4.6,\n",
              "       4.1, 2.5, 2.3, 2.1, 2.7, 4.3, 3.1, 4.8, 3.3, 4. , 2.4, 3.2, 3.6,\n",
              "       2.6, nan, 1.5, 3.5, 2.9, 1.3, 2.8, 3. , 2.2, 1.8, 1.4, 1.2, 1.9,\n",
              "       1.7, 1.6, 1. , 1.1])"
            ]
          },
          "metadata": {},
          "execution_count": 40
        }
      ]
    },
    {
      "cell_type": "code",
      "metadata": {
        "colab": {
          "base_uri": "https://localhost:8080/"
        },
        "id": "LDPH_hHimNHB",
        "outputId": "749b22cb-c334-4000-8ebc-71ea409409a5"
      },
      "source": [
        "apps_data.Rating.isnull().sum()"
      ],
      "execution_count": null,
      "outputs": [
        {
          "output_type": "execute_result",
          "data": {
            "text/plain": [
              "21568"
            ]
          },
          "metadata": {},
          "execution_count": 41
        }
      ]
    },
    {
      "cell_type": "code",
      "metadata": {
        "colab": {
          "base_uri": "https://localhost:8080/"
        },
        "id": "5FR5GXWRmU2F",
        "outputId": "c4eb7ae8-e34f-4130-dd0b-f925bda2f22c"
      },
      "source": [
        "apps_data.Rating.describe()"
      ],
      "execution_count": null,
      "outputs": [
        {
          "output_type": "execute_result",
          "data": {
            "text/plain": [
              "count    2.156376e+06\n",
              "mean     2.193655e+00\n",
              "std      2.106109e+00\n",
              "min      0.000000e+00\n",
              "25%      0.000000e+00\n",
              "50%      2.900000e+00\n",
              "75%      4.300000e+00\n",
              "max      5.000000e+00\n",
              "Name: Rating, dtype: float64"
            ]
          },
          "metadata": {},
          "execution_count": 42
        }
      ]
    },
    {
      "cell_type": "code",
      "metadata": {
        "colab": {
          "base_uri": "https://localhost:8080/"
        },
        "id": "fpb8BjhGodPr",
        "outputId": "2568a618-d0a6-42b0-b15c-c39b3b302369"
      },
      "source": [
        "apps_data.Rating.value_counts()"
      ],
      "execution_count": null,
      "outputs": [
        {
          "output_type": "execute_result",
          "data": {
            "text/plain": [
              "0.0    1002064\n",
              "5.0      95179\n",
              "4.2      81496\n",
              "4.4      79931\n",
              "4.3      77099\n",
              "4.6      73196\n",
              "4.5      71327\n",
              "4.1      64758\n",
              "4.0      62747\n",
              "4.7      58512\n",
              "4.8      57877\n",
              "3.9      51783\n",
              "3.8      50395\n",
              "4.9      42320\n",
              "3.7      40639\n",
              "3.6      33861\n",
              "3.5      29930\n",
              "3.4      27294\n",
              "3.3      21414\n",
              "3.2      20387\n",
              "3.0      16444\n",
              "3.1      14828\n",
              "2.8      11680\n",
              "2.9      10977\n",
              "2.7       8803\n",
              "2.6       8800\n",
              "2.5       6673\n",
              "2.4       5805\n",
              "2.3       5224\n",
              "2.2       4778\n",
              "2.0       3649\n",
              "2.1       3556\n",
              "1.8       2880\n",
              "1.9       2503\n",
              "1.7       1873\n",
              "1.6       1592\n",
              "1.5       1130\n",
              "1.4        975\n",
              "1.0        690\n",
              "1.3        563\n",
              "1.2        518\n",
              "1.1        226\n",
              "Name: Rating, dtype: int64"
            ]
          },
          "metadata": {},
          "execution_count": 43
        }
      ]
    },
    {
      "cell_type": "markdown",
      "metadata": {
        "id": "yMPE3nKWpD9l"
      },
      "source": [
        "Since 0.0 has maximum counts I am filling null values with 0.0"
      ]
    },
    {
      "cell_type": "code",
      "metadata": {
        "id": "qBN2KWDboitS"
      },
      "source": [
        "apps_data.Rating = apps_data.Rating.fillna(0)"
      ],
      "execution_count": null,
      "outputs": []
    },
    {
      "cell_type": "code",
      "metadata": {
        "colab": {
          "base_uri": "https://localhost:8080/"
        },
        "id": "AeoFZduhpRdN",
        "outputId": "e6280143-5ac9-4cc9-9dde-9483fce61e8d"
      },
      "source": [
        "apps_data.Rating.isnull().sum()"
      ],
      "execution_count": null,
      "outputs": [
        {
          "output_type": "execute_result",
          "data": {
            "text/plain": [
              "0"
            ]
          },
          "metadata": {},
          "execution_count": 45
        }
      ]
    },
    {
      "cell_type": "code",
      "metadata": {
        "colab": {
          "base_uri": "https://localhost:8080/"
        },
        "id": "Xivuh3OTpVeE",
        "outputId": "75a0bfc5-5863-407d-a73f-2f67a7fb3b9d"
      },
      "source": [
        "apps_data.Rating.unique()"
      ],
      "execution_count": null,
      "outputs": [
        {
          "output_type": "execute_result",
          "data": {
            "text/plain": [
              "array([0. , 4.4, 5. , 4.5, 2. , 4.7, 4.9, 3.9, 3.7, 4.2, 3.4, 3.8, 4.6,\n",
              "       4.1, 2.5, 2.3, 2.1, 2.7, 4.3, 3.1, 4.8, 3.3, 4. , 2.4, 3.2, 3.6,\n",
              "       2.6, 1.5, 3.5, 2.9, 1.3, 2.8, 3. , 2.2, 1.8, 1.4, 1.2, 1.9, 1.7,\n",
              "       1.6, 1. , 1.1])"
            ]
          },
          "metadata": {},
          "execution_count": 46
        }
      ]
    },
    {
      "cell_type": "markdown",
      "metadata": {
        "id": "eLVw4LHNplir"
      },
      "source": [
        "## Tackling Rating_Conunt"
      ]
    },
    {
      "cell_type": "code",
      "metadata": {
        "colab": {
          "base_uri": "https://localhost:8080/"
        },
        "id": "fk1Zf8a1pdpH",
        "outputId": "311a853e-774d-4b97-fe66-285068eac5de"
      },
      "source": [
        "apps_data.Rating_Count.describe()"
      ],
      "execution_count": null,
      "outputs": [
        {
          "output_type": "execute_result",
          "data": {
            "text/plain": [
              "count    2.156376e+06\n",
              "mean     2.848836e+03\n",
              "std      2.175644e+05\n",
              "min      0.000000e+00\n",
              "25%      0.000000e+00\n",
              "50%      6.000000e+00\n",
              "75%      4.100000e+01\n",
              "max      1.385576e+08\n",
              "Name: Rating_Count, dtype: float64"
            ]
          },
          "metadata": {},
          "execution_count": 47
        }
      ]
    },
    {
      "cell_type": "code",
      "metadata": {
        "colab": {
          "base_uri": "https://localhost:8080/"
        },
        "id": "DB7LVh4Vp1wV",
        "outputId": "98cfcac8-cef8-4879-8021-2c1eb25722f9"
      },
      "source": [
        "apps_data.Rating_Count.isnull().sum()"
      ],
      "execution_count": null,
      "outputs": [
        {
          "output_type": "execute_result",
          "data": {
            "text/plain": [
              "21568"
            ]
          },
          "metadata": {},
          "execution_count": 48
        }
      ]
    },
    {
      "cell_type": "markdown",
      "metadata": {
        "id": "jhx-DjqPqcMP"
      },
      "source": [
        "Since 25% of ratings are 0 then filling null values with 0"
      ]
    },
    {
      "cell_type": "code",
      "metadata": {
        "id": "-SY3LlkTqYJw"
      },
      "source": [
        "apps_data.Rating_Count = apps_data.Rating_Count.fillna(0)"
      ],
      "execution_count": null,
      "outputs": []
    },
    {
      "cell_type": "code",
      "metadata": {
        "colab": {
          "base_uri": "https://localhost:8080/"
        },
        "id": "RFF0MsBhq3SV",
        "outputId": "2f5862ef-2686-42cb-ad42-7b3d6e4d16ab"
      },
      "source": [
        "apps_data.Rating_Count.isnull().sum()"
      ],
      "execution_count": null,
      "outputs": [
        {
          "output_type": "execute_result",
          "data": {
            "text/plain": [
              "0"
            ]
          },
          "metadata": {},
          "execution_count": 50
        }
      ]
    },
    {
      "cell_type": "code",
      "metadata": {
        "colab": {
          "base_uri": "https://localhost:8080/"
        },
        "id": "vHADBROQrIdS",
        "outputId": "383cc112-f487-4888-b69b-3c0778319ed2"
      },
      "source": [
        "apps_data.info()"
      ],
      "execution_count": null,
      "outputs": [
        {
          "output_type": "stream",
          "name": "stdout",
          "text": [
            "<class 'pandas.core.frame.DataFrame'>\n",
            "Int64Index: 2177944 entries, 0 to 2312943\n",
            "Data columns (total 18 columns):\n",
            " #   Column            Dtype   \n",
            "---  ------            -----   \n",
            " 0   App_Name          object  \n",
            " 1   Category          category\n",
            " 2   Rating            float64 \n",
            " 3   Rating_Count      float64 \n",
            " 4   Maximum_Installs  int64   \n",
            " 5   Free              bool    \n",
            " 6   Price             float64 \n",
            " 7   Currency          object  \n",
            " 8   Size              object  \n",
            " 9   Minimum_Android   object  \n",
            " 10  Developer_Id      object  \n",
            " 11  Released          object  \n",
            " 12  Last_Updated      object  \n",
            " 13  Content_Rating    object  \n",
            " 14  Ad_Supported      bool    \n",
            " 15  In_App_Purchases  bool    \n",
            " 16  Editors_Choice    bool    \n",
            " 17  Scraped_Time      object  \n",
            "dtypes: bool(4), category(1), float64(3), int64(1), object(9)\n",
            "memory usage: 243.0+ MB\n"
          ]
        }
      ]
    },
    {
      "cell_type": "markdown",
      "metadata": {
        "id": "UvQCmyiYq7sK"
      },
      "source": [
        "## Tackling Maximum installs, Free and Price"
      ]
    },
    {
      "cell_type": "code",
      "metadata": {
        "colab": {
          "base_uri": "https://localhost:8080/"
        },
        "id": "wju05CocrktP",
        "outputId": "8eb2aafd-c194-439f-db1d-050e6f315d0c"
      },
      "source": [
        "apps_data.isnull().sum()"
      ],
      "execution_count": null,
      "outputs": [
        {
          "output_type": "execute_result",
          "data": {
            "text/plain": [
              "App_Name                0\n",
              "Category                0\n",
              "Rating                  0\n",
              "Rating_Count            0\n",
              "Maximum_Installs        0\n",
              "Free                    0\n",
              "Price                   0\n",
              "Currency              135\n",
              "Size                  177\n",
              "Minimum_Android      6241\n",
              "Developer_Id           33\n",
              "Released            68607\n",
              "Last_Updated            0\n",
              "Content_Rating          0\n",
              "Ad_Supported            0\n",
              "In_App_Purchases        0\n",
              "Editors_Choice          0\n",
              "Scraped_Time            0\n",
              "dtype: int64"
            ]
          },
          "metadata": {},
          "execution_count": 52
        }
      ]
    },
    {
      "cell_type": "code",
      "metadata": {
        "colab": {
          "base_uri": "https://localhost:8080/"
        },
        "id": "OD-b6CUmr3lf",
        "outputId": "688573fd-1322-42c7-94c2-2a0370c62e5e"
      },
      "source": [
        "apps_data.Free.unique()"
      ],
      "execution_count": null,
      "outputs": [
        {
          "output_type": "execute_result",
          "data": {
            "text/plain": [
              "array([ True, False])"
            ]
          },
          "metadata": {},
          "execution_count": 53
        }
      ]
    },
    {
      "cell_type": "markdown",
      "metadata": {
        "id": "04ZCBPMQsXz7"
      },
      "source": [
        "since Maximum installs, Free and Price don't have any null values and Free has only True and false I don't need any change"
      ]
    },
    {
      "cell_type": "markdown",
      "metadata": {
        "id": "5OJpDwXIsqyo"
      },
      "source": [
        "## Tackling Currency"
      ]
    },
    {
      "cell_type": "code",
      "metadata": {
        "colab": {
          "base_uri": "https://localhost:8080/"
        },
        "id": "yjN_KMVvsXjV",
        "outputId": "166ca82e-434c-4b17-c0ac-132953a30dc6"
      },
      "source": [
        "apps_data.Currency.describe()"
      ],
      "execution_count": null,
      "outputs": [
        {
          "output_type": "execute_result",
          "data": {
            "text/plain": [
              "count     2177809\n",
              "unique         14\n",
              "top           USD\n",
              "freq      2176585\n",
              "Name: Currency, dtype: object"
            ]
          },
          "metadata": {},
          "execution_count": 54
        }
      ]
    },
    {
      "cell_type": "code",
      "metadata": {
        "colab": {
          "base_uri": "https://localhost:8080/"
        },
        "id": "iOHzc4pvsQH2",
        "outputId": "4778b3e4-4ee7-45b0-a718-aee747a4d9da"
      },
      "source": [
        "apps_data.Currency.value_counts()"
      ],
      "execution_count": null,
      "outputs": [
        {
          "output_type": "execute_result",
          "data": {
            "text/plain": [
              "USD    2176585\n",
              "XXX       1200\n",
              "EUR          6\n",
              "INR          5\n",
              "GBP          3\n",
              "CAD          2\n",
              "AUD          1\n",
              "BRL          1\n",
              "KRW          1\n",
              "PKR          1\n",
              "SGD          1\n",
              "TRY          1\n",
              "VND          1\n",
              "ZAR          1\n",
              "Name: Currency, dtype: int64"
            ]
          },
          "metadata": {},
          "execution_count": 55
        }
      ]
    },
    {
      "cell_type": "code",
      "metadata": {
        "colab": {
          "base_uri": "https://localhost:8080/"
        },
        "id": "ooLNhsQ9s_0J",
        "outputId": "21b1209e-873f-4285-a6d1-1bf0e75132a0"
      },
      "source": [
        "apps_data.Currency.unique()"
      ],
      "execution_count": null,
      "outputs": [
        {
          "output_type": "execute_result",
          "data": {
            "text/plain": [
              "array(['USD', 'XXX', 'CAD', 'EUR', 'INR', nan, 'VND', 'GBP', 'BRL', 'KRW',\n",
              "       'TRY', 'SGD', 'AUD', 'PKR', 'ZAR'], dtype=object)"
            ]
          },
          "metadata": {},
          "execution_count": 56
        }
      ]
    },
    {
      "cell_type": "code",
      "metadata": {
        "colab": {
          "base_uri": "https://localhost:8080/"
        },
        "id": "I2np55fmtFoO",
        "outputId": "ab2ed33d-5ffe-432b-a097-cb73ce4ba8b5"
      },
      "source": [
        "apps_data.Currency.isnull().sum()"
      ],
      "execution_count": null,
      "outputs": [
        {
          "output_type": "execute_result",
          "data": {
            "text/plain": [
              "135"
            ]
          },
          "metadata": {},
          "execution_count": 57
        }
      ]
    },
    {
      "cell_type": "markdown",
      "metadata": {
        "id": "Ez_JewW7tOs_"
      },
      "source": [
        "Filling null with USD"
      ]
    },
    {
      "cell_type": "code",
      "metadata": {
        "id": "XFJ9bG5PtMYn"
      },
      "source": [
        "apps_data.Currency = apps_data.Currency.fillna('USD')"
      ],
      "execution_count": null,
      "outputs": []
    },
    {
      "cell_type": "code",
      "metadata": {
        "colab": {
          "base_uri": "https://localhost:8080/"
        },
        "id": "Yb7Xo_qJtUgn",
        "outputId": "4891d600-2b8d-40d7-ff14-cc774a017775"
      },
      "source": [
        "apps_data.Currency.value_counts()"
      ],
      "execution_count": null,
      "outputs": [
        {
          "output_type": "execute_result",
          "data": {
            "text/plain": [
              "USD    2176720\n",
              "XXX       1200\n",
              "EUR          6\n",
              "INR          5\n",
              "GBP          3\n",
              "CAD          2\n",
              "AUD          1\n",
              "BRL          1\n",
              "KRW          1\n",
              "PKR          1\n",
              "SGD          1\n",
              "TRY          1\n",
              "VND          1\n",
              "ZAR          1\n",
              "Name: Currency, dtype: int64"
            ]
          },
          "metadata": {},
          "execution_count": 59
        }
      ]
    },
    {
      "cell_type": "code",
      "metadata": {
        "colab": {
          "base_uri": "https://localhost:8080/"
        },
        "id": "XrAYyWUBtW5r",
        "outputId": "df70b156-d313-4fb1-b839-78d31d622b9e"
      },
      "source": [
        "apps_data.Currency.unique()"
      ],
      "execution_count": null,
      "outputs": [
        {
          "output_type": "execute_result",
          "data": {
            "text/plain": [
              "array(['USD', 'XXX', 'CAD', 'EUR', 'INR', 'VND', 'GBP', 'BRL', 'KRW',\n",
              "       'TRY', 'SGD', 'AUD', 'PKR', 'ZAR'], dtype=object)"
            ]
          },
          "metadata": {},
          "execution_count": 60
        }
      ]
    },
    {
      "cell_type": "code",
      "metadata": {
        "colab": {
          "base_uri": "https://localhost:8080/"
        },
        "id": "Rv5dQTK7tZnS",
        "outputId": "4c2b069e-fbc9-49ca-a306-0972004e4efe"
      },
      "source": [
        "apps_data.Currency.isnull().sum()"
      ],
      "execution_count": null,
      "outputs": [
        {
          "output_type": "execute_result",
          "data": {
            "text/plain": [
              "0"
            ]
          },
          "metadata": {},
          "execution_count": 61
        }
      ]
    },
    {
      "cell_type": "code",
      "metadata": {
        "id": "tY5TpYM-tcah"
      },
      "source": [
        "apps_data.Currency = apps_data.Currency.astype('category')"
      ],
      "execution_count": null,
      "outputs": []
    },
    {
      "cell_type": "code",
      "metadata": {
        "colab": {
          "base_uri": "https://localhost:8080/"
        },
        "id": "Ovo7EsoPtgp4",
        "outputId": "495f6ce7-dee1-4e7f-e4ee-de10e2548e41"
      },
      "source": [
        "apps_data.info()"
      ],
      "execution_count": null,
      "outputs": [
        {
          "output_type": "stream",
          "name": "stdout",
          "text": [
            "<class 'pandas.core.frame.DataFrame'>\n",
            "Int64Index: 2177944 entries, 0 to 2312943\n",
            "Data columns (total 18 columns):\n",
            " #   Column            Dtype   \n",
            "---  ------            -----   \n",
            " 0   App_Name          object  \n",
            " 1   Category          category\n",
            " 2   Rating            float64 \n",
            " 3   Rating_Count      float64 \n",
            " 4   Maximum_Installs  int64   \n",
            " 5   Free              bool    \n",
            " 6   Price             float64 \n",
            " 7   Currency          category\n",
            " 8   Size              object  \n",
            " 9   Minimum_Android   object  \n",
            " 10  Developer_Id      object  \n",
            " 11  Released          object  \n",
            " 12  Last_Updated      object  \n",
            " 13  Content_Rating    object  \n",
            " 14  Ad_Supported      bool    \n",
            " 15  In_App_Purchases  bool    \n",
            " 16  Editors_Choice    bool    \n",
            " 17  Scraped_Time      object  \n",
            "dtypes: bool(4), category(2), float64(3), int64(1), object(8)\n",
            "memory usage: 228.5+ MB\n"
          ]
        }
      ]
    },
    {
      "cell_type": "markdown",
      "metadata": {
        "id": "UG_7RG1Gt_GQ"
      },
      "source": [
        "## Tackling Size"
      ]
    },
    {
      "cell_type": "code",
      "metadata": {
        "colab": {
          "base_uri": "https://localhost:8080/"
        },
        "id": "0jiqoZrPtzfs",
        "outputId": "94c98809-8ca7-4cdd-d358-2cf14b5a669b"
      },
      "source": [
        "apps_data.Size"
      ],
      "execution_count": null,
      "outputs": [
        {
          "output_type": "execute_result",
          "data": {
            "text/plain": [
              "0           10M\n",
              "1          2.9M\n",
              "2          3.7M\n",
              "3          1.8M\n",
              "4          6.2M\n",
              "           ... \n",
              "2312937    6.6M\n",
              "2312938     10M\n",
              "2312939     77M\n",
              "2312940     44M\n",
              "2312943    5.2M\n",
              "Name: Size, Length: 2177944, dtype: object"
            ]
          },
          "metadata": {},
          "execution_count": 64
        }
      ]
    },
    {
      "cell_type": "markdown",
      "metadata": {
        "id": "AjBA05HAuOzn"
      },
      "source": [
        "There are M,k,G so converting M and G to k"
      ]
    },
    {
      "cell_type": "code",
      "metadata": {
        "id": "kqFq8FTXuLwN"
      },
      "source": [
        "apps_data.Size = apps_data.Size.str.replace('M','*1024')\n",
        "apps_data.Size = apps_data.Size.str.replace('G','*1048576')\n",
        "apps_data.Size = apps_data.Size.str.replace('k','*1')"
      ],
      "execution_count": null,
      "outputs": []
    },
    {
      "cell_type": "code",
      "metadata": {
        "colab": {
          "base_uri": "https://localhost:8080/"
        },
        "id": "WMezMEyJufP3",
        "outputId": "f0f4d131-728c-43d0-b78d-60c86b2e1b16"
      },
      "source": [
        "apps_data.Size"
      ],
      "execution_count": null,
      "outputs": [
        {
          "output_type": "execute_result",
          "data": {
            "text/plain": [
              "0           10*1024\n",
              "1          2.9*1024\n",
              "2          3.7*1024\n",
              "3          1.8*1024\n",
              "4          6.2*1024\n",
              "             ...   \n",
              "2312937    6.6*1024\n",
              "2312938     10*1024\n",
              "2312939     77*1024\n",
              "2312940     44*1024\n",
              "2312943    5.2*1024\n",
              "Name: Size, Length: 2177944, dtype: object"
            ]
          },
          "metadata": {},
          "execution_count": 66
        }
      ]
    },
    {
      "cell_type": "code",
      "metadata": {
        "colab": {
          "base_uri": "https://localhost:8080/"
        },
        "id": "ZnzqH14kuinK",
        "outputId": "5ca09743-5d1e-4e8a-abc5-4435c0fd403f"
      },
      "source": [
        "apps_data.Size.describe()"
      ],
      "execution_count": null,
      "outputs": [
        {
          "output_type": "execute_result",
          "data": {
            "text/plain": [
              "count                2177767\n",
              "unique                  1656\n",
              "top       Varies with device\n",
              "freq                   71192\n",
              "Name: Size, dtype: object"
            ]
          },
          "metadata": {},
          "execution_count": 67
        }
      ]
    },
    {
      "cell_type": "code",
      "metadata": {
        "id": "HEnXAokQvMJ6"
      },
      "source": [
        "modified_size = []\n",
        "for size in apps_data.Size:\n",
        "  if isinstance(size,float):\n",
        "    modified_size.append(size)\n",
        "    continue\n",
        "  size = size.replace(',','')\n",
        "  if size != \"Varies with device\":\n",
        "    size = eval(size)\n",
        "  else:\n",
        "    size = None\n",
        "  modified_size.append(size)"
      ],
      "execution_count": null,
      "outputs": []
    },
    {
      "cell_type": "code",
      "metadata": {
        "id": "Z8LWEQ5ZvbBW"
      },
      "source": [
        "apps_data.Size = modified_size"
      ],
      "execution_count": null,
      "outputs": []
    },
    {
      "cell_type": "code",
      "metadata": {
        "colab": {
          "base_uri": "https://localhost:8080/"
        },
        "id": "-kXjVeaou1-N",
        "outputId": "a57f4b74-6603-4565-84b2-37d349f76cd0"
      },
      "source": [
        "len(apps_data[apps_data.Size==\"Varies with device\"])"
      ],
      "execution_count": null,
      "outputs": [
        {
          "output_type": "execute_result",
          "data": {
            "text/plain": [
              "0"
            ]
          },
          "metadata": {},
          "execution_count": 70
        }
      ]
    },
    {
      "cell_type": "code",
      "metadata": {
        "colab": {
          "base_uri": "https://localhost:8080/"
        },
        "id": "AFzIVNabxH0p",
        "outputId": "b5838bba-17f3-4de7-cd40-1c021ea4c3a3"
      },
      "source": [
        "apps_data.Size "
      ],
      "execution_count": null,
      "outputs": [
        {
          "output_type": "execute_result",
          "data": {
            "text/plain": [
              "0          10240.0\n",
              "1           2969.6\n",
              "2           3788.8\n",
              "3           1843.2\n",
              "4           6348.8\n",
              "            ...   \n",
              "2312937     6758.4\n",
              "2312938    10240.0\n",
              "2312939    78848.0\n",
              "2312940    45056.0\n",
              "2312943     5324.8\n",
              "Name: Size, Length: 2177944, dtype: float64"
            ]
          },
          "metadata": {},
          "execution_count": 71
        }
      ]
    },
    {
      "cell_type": "markdown",
      "metadata": {
        "id": "pYu-JWAwvA0k"
      },
      "source": [
        "Lets add mean size In varies with device"
      ]
    },
    {
      "cell_type": "code",
      "metadata": {
        "colab": {
          "base_uri": "https://localhost:8080/"
        },
        "id": "vD3C1dtOu_uC",
        "outputId": "4230615a-2fdd-47cc-b13b-ab9cdf00d40e"
      },
      "source": [
        "apps_data.Size.isnull().sum()"
      ],
      "execution_count": null,
      "outputs": [
        {
          "output_type": "execute_result",
          "data": {
            "text/plain": [
              "71369"
            ]
          },
          "metadata": {},
          "execution_count": 72
        }
      ]
    },
    {
      "cell_type": "code",
      "metadata": {
        "colab": {
          "base_uri": "https://localhost:8080/"
        },
        "id": "FqGC8i_8xNgd",
        "outputId": "53f7d73a-8cee-40ce-c384-100138a30574"
      },
      "source": [
        "apps_data.Size.mean()"
      ],
      "execution_count": null,
      "outputs": [
        {
          "output_type": "execute_result",
          "data": {
            "text/plain": [
              "20006.687629964592"
            ]
          },
          "metadata": {},
          "execution_count": 73
        }
      ]
    },
    {
      "cell_type": "code",
      "metadata": {
        "id": "-E2sV3rcwE_i"
      },
      "source": [
        "apps_data.Size = apps_data.Size.fillna(apps_data.Size.mean())"
      ],
      "execution_count": null,
      "outputs": []
    },
    {
      "cell_type": "code",
      "metadata": {
        "colab": {
          "base_uri": "https://localhost:8080/"
        },
        "id": "zVo6Y_xewOh_",
        "outputId": "1c262def-3e5f-48b4-cdd5-d27423771bcf"
      },
      "source": [
        "apps_data.Size.isnull().sum()"
      ],
      "execution_count": null,
      "outputs": [
        {
          "output_type": "execute_result",
          "data": {
            "text/plain": [
              "0"
            ]
          },
          "metadata": {},
          "execution_count": 75
        }
      ]
    },
    {
      "cell_type": "code",
      "metadata": {
        "colab": {
          "base_uri": "https://localhost:8080/"
        },
        "id": "F5a0AT8IwQPV",
        "outputId": "d1d93ac3-f063-4f7c-e908-8d12fef20ea1"
      },
      "source": [
        "apps_data.Size"
      ],
      "execution_count": null,
      "outputs": [
        {
          "output_type": "execute_result",
          "data": {
            "text/plain": [
              "0          10240.0\n",
              "1           2969.6\n",
              "2           3788.8\n",
              "3           1843.2\n",
              "4           6348.8\n",
              "            ...   \n",
              "2312937     6758.4\n",
              "2312938    10240.0\n",
              "2312939    78848.0\n",
              "2312940    45056.0\n",
              "2312943     5324.8\n",
              "Name: Size, Length: 2177944, dtype: float64"
            ]
          },
          "metadata": {},
          "execution_count": 76
        }
      ]
    },
    {
      "cell_type": "code",
      "metadata": {
        "colab": {
          "base_uri": "https://localhost:8080/"
        },
        "id": "7ynkmjzbwViN",
        "outputId": "4f2ccd2a-8eee-43b1-909a-381b232336c2"
      },
      "source": [
        "apps_data.isnull().sum()"
      ],
      "execution_count": null,
      "outputs": [
        {
          "output_type": "execute_result",
          "data": {
            "text/plain": [
              "App_Name                0\n",
              "Category                0\n",
              "Rating                  0\n",
              "Rating_Count            0\n",
              "Maximum_Installs        0\n",
              "Free                    0\n",
              "Price                   0\n",
              "Currency                0\n",
              "Size                    0\n",
              "Minimum_Android      6241\n",
              "Developer_Id           33\n",
              "Released            68607\n",
              "Last_Updated            0\n",
              "Content_Rating          0\n",
              "Ad_Supported            0\n",
              "In_App_Purchases        0\n",
              "Editors_Choice          0\n",
              "Scraped_Time            0\n",
              "dtype: int64"
            ]
          },
          "metadata": {},
          "execution_count": 77
        }
      ]
    },
    {
      "cell_type": "markdown",
      "metadata": {
        "id": "Wc_19K7YxhU0"
      },
      "source": [
        "## Tackling Minimum_Android"
      ]
    },
    {
      "cell_type": "code",
      "metadata": {
        "id": "95UdwtozxXw_",
        "colab": {
          "base_uri": "https://localhost:8080/"
        },
        "outputId": "6da91068-4400-4ee7-afa9-7e34cd2fcd5a"
      },
      "source": [
        "apps_data.Minimum_Android.unique()"
      ],
      "execution_count": null,
      "outputs": [
        {
          "output_type": "execute_result",
          "data": {
            "text/plain": [
              "array(['7.1 and up', '5.0 and up', '4.0.3 and up', '4.1 and up',\n",
              "       '6.0 and up', '4.4 and up', '4.0 and up', '4.2 and up',\n",
              "       '2.1 and up', '7.0 and up', '2.2 and up', '2.3 and up',\n",
              "       '4.3 and up', '5.1 and up', nan, '1.6 and up', '3.0 and up',\n",
              "       'Varies with device', '8.0 and up', '2.3.3 and up', '4.4W and up',\n",
              "       '3.2 and up', '1.5 and up', '4.0.3 - 7.1.1', '3.1 and up',\n",
              "       '2.0 and up', '1.0 and up', '1.1 and up', '2.0.1 and up',\n",
              "       '4.4 - 6.0', '2.1 - 4.4', '4.0 - 5.0', '2.0 - 2.3.4', '2.2 - 4.4',\n",
              "       '4.1 - 7.0', '4.1 - 6.0', '4.0 - 4.4W', '4.0 - 4.4', '4.0.3 - 7.0',\n",
              "       '2.3 - 5.0', '4.0 - 7.1.1', '4.0 - 7.0', '4.1 - 8.0', '4.0 - 6.0',\n",
              "       '4.0 - 8.0', '2.3 - 6.0', '2.1 - 2.3.4', '3.0 - 4.1.1',\n",
              "       '4.1 - 7.1.1', '2.2 - 3.0', '2.0 - 8.0', '4.0.3 - 8.0',\n",
              "       '3.0 - 4.4W', '4.4 - 7.1.1', '4.4 - 8.0', '4.0.3 - 6.0',\n",
              "       '1.6 - 4.0.4', '8.0', '2.3 - 5.1', '2.1 - 7.1.1', '2.3 - 4.4W',\n",
              "       '4.4 - 7.0', '6.0 - 7.1.1', '2.3 - 4.4', '2.2 - 4.0.4',\n",
              "       '2.1 - 4.1.1', '3.0 - 8.0', '3.0 - 5.1', '2.1 - 6.0', '6.0 - 8.0',\n",
              "       '5.0 - 8.0', '4.1 - 5.1', '3.2 - 4.4', '2.1 - 5.0', '4.1 - 4.3',\n",
              "       '5.0 - 6.0', '5.1 - 7.1.1', '2.2 - 5.1', '4.1 - 5.0',\n",
              "       '2.3.3 - 4.4', '2.2 - 5.0', '2.2', '4.1 - 4.4', '1.6 - 5.1',\n",
              "       '4.2 - 7.1.1', '2.1 - 5.1', '1.6 - 4.4W', '4.3 - 4.4W',\n",
              "       '3.0 - 4.4', '2.1 - 3.1', '2.3 - 7.1.1', '1.6 - 4.0.2',\n",
              "       '4.0 - 4.0.4', '4.2 - 4.4W', '3.0 - 7.1.1', '3.2 - 7.1.1',\n",
              "       '3.0 - 6.0', '2.2 - 4.4W', '4.0.3 - 4.4', '4.0.3 - 5.1', '6.0',\n",
              "       '4.3', '1.1 - 4.4', '2.3.3 - 8.0', '2.3.3 - 5.0', '2.2 - 6.0',\n",
              "       '3.0 - 5.0', '2.3.3 - 2.3.4', '1.5 - 2.1', '2.2 - 3.2',\n",
              "       '5.0 - 7.1.1', '2.1 - 3.2', '4.2 - 4.2.2', '2.3.3 - 5.1',\n",
              "       '2.2 - 4.1.1', '1.6 - 4.4', '4.2 - 4.3', '4.0 - 5.1', '1.6 - 7.0',\n",
              "       '3.0 - 7.0', '1.0 - 6.0', '2.3.3 - 4.0.4', '2.3 - 3.2',\n",
              "       '4.3 - 8.0', '2.3 - 8.0', '3.2 - 6.0', '2.3 - 7.0',\n",
              "       '2.3.3 - 7.1.1', '4.2 - 8.0', '2.2 - 4.3', '3.2 - 4.1.1',\n",
              "       '4.4 - 5.1', '2.3 - 4.1.1', '2.1 - 4.4W', '4.4', '2.3.3 - 4.4W',\n",
              "       '1.6 - 7.1.1', '2.2 - 4.2.2', '4.3 - 5.1', '4.0.3 - 4.2.2',\n",
              "       '2.2 - 2.3.4', '4.3 - 4.4', '4.2 - 6.0', '4.4 - 4.4W',\n",
              "       '2.3 - 4.0.2', '7.0', '3.0 - 3.2', '1.6 - 4.2.2', '5.1',\n",
              "       '2.2 - 8.0', '1.6 - 2.1', '2.3.3 - 6.0', '3.2 - 5.1'], dtype=object)"
            ]
          },
          "metadata": {},
          "execution_count": 78
        }
      ]
    },
    {
      "cell_type": "markdown",
      "metadata": {
        "id": "xOyobimwxw2z"
      },
      "source": [
        "Taking only first character"
      ]
    },
    {
      "cell_type": "code",
      "metadata": {
        "id": "B4ceY26rxwen"
      },
      "source": [
        "apps_data.Minimum_Android = apps_data.Minimum_Android.str.slice(0,1)"
      ],
      "execution_count": null,
      "outputs": []
    },
    {
      "cell_type": "code",
      "metadata": {
        "colab": {
          "base_uri": "https://localhost:8080/"
        },
        "id": "NP6AxtDRxpOt",
        "outputId": "7846d2e2-44e2-4360-d5f8-f712eefb6a1e"
      },
      "source": [
        "apps_data.Minimum_Android.unique()"
      ],
      "execution_count": null,
      "outputs": [
        {
          "output_type": "execute_result",
          "data": {
            "text/plain": [
              "array(['7', '5', '4', '6', '2', nan, '1', '3', 'V', '8'], dtype=object)"
            ]
          },
          "metadata": {},
          "execution_count": 80
        }
      ]
    },
    {
      "cell_type": "code",
      "metadata": {
        "colab": {
          "base_uri": "https://localhost:8080/"
        },
        "id": "1h88x4QQx6JY",
        "outputId": "db862e8b-d741-4097-d665-fad1243770d8"
      },
      "source": [
        "apps_data.Minimum_Android.value_counts()"
      ],
      "execution_count": null,
      "outputs": [
        {
          "output_type": "execute_result",
          "data": {
            "text/plain": [
              "4    1403374\n",
              "5     436463\n",
              "2     121533\n",
              "6      86816\n",
              "V      43652\n",
              "7      36256\n",
              "3      19921\n",
              "8      13231\n",
              "1      10457\n",
              "Name: Minimum_Android, dtype: int64"
            ]
          },
          "metadata": {},
          "execution_count": 81
        }
      ]
    },
    {
      "cell_type": "markdown",
      "metadata": {
        "id": "J9gjIIdWyPv9"
      },
      "source": [
        "Since 4 is required by maximum apps so filling 4 with var and nan"
      ]
    },
    {
      "cell_type": "code",
      "metadata": {
        "id": "4D0lqYTTx_tE"
      },
      "source": [
        "apps_data.Minimum_Android = apps_data.Minimum_Android.str.replace('V','4')"
      ],
      "execution_count": null,
      "outputs": []
    },
    {
      "cell_type": "code",
      "metadata": {
        "id": "DttvJ3-qyJ-e"
      },
      "source": [
        "apps_data.Minimum_Android = apps_data.Minimum_Android.fillna('4')"
      ],
      "execution_count": null,
      "outputs": []
    },
    {
      "cell_type": "code",
      "metadata": {
        "colab": {
          "base_uri": "https://localhost:8080/"
        },
        "id": "oxImEgKUyPC7",
        "outputId": "977d94dd-f4a8-433f-e8c9-3d002aadf4df"
      },
      "source": [
        "apps_data.Minimum_Android.value_counts()"
      ],
      "execution_count": null,
      "outputs": [
        {
          "output_type": "execute_result",
          "data": {
            "text/plain": [
              "4    1453267\n",
              "5     436463\n",
              "2     121533\n",
              "6      86816\n",
              "7      36256\n",
              "3      19921\n",
              "8      13231\n",
              "1      10457\n",
              "Name: Minimum_Android, dtype: int64"
            ]
          },
          "metadata": {},
          "execution_count": 84
        }
      ]
    },
    {
      "cell_type": "code",
      "metadata": {
        "colab": {
          "base_uri": "https://localhost:8080/"
        },
        "id": "wHu2aiBwydL1",
        "outputId": "90a2f66a-e4b7-4ac0-cf20-6ed6d08fcedb"
      },
      "source": [
        "apps_data.Minimum_Android.unique()"
      ],
      "execution_count": null,
      "outputs": [
        {
          "output_type": "execute_result",
          "data": {
            "text/plain": [
              "array(['7', '5', '4', '6', '2', '1', '3', '8'], dtype=object)"
            ]
          },
          "metadata": {},
          "execution_count": 85
        }
      ]
    },
    {
      "cell_type": "code",
      "metadata": {
        "colab": {
          "base_uri": "https://localhost:8080/"
        },
        "id": "-v6RklvyyfrL",
        "outputId": "cd401d64-6b49-4d71-ab51-efb480edcd11"
      },
      "source": [
        "apps_data.Minimum_Android.isna().sum()"
      ],
      "execution_count": null,
      "outputs": [
        {
          "output_type": "execute_result",
          "data": {
            "text/plain": [
              "0"
            ]
          },
          "metadata": {},
          "execution_count": 86
        }
      ]
    },
    {
      "cell_type": "code",
      "metadata": {
        "id": "gPTZ0NwcykTz"
      },
      "source": [
        "apps_data.Minimum_Android = apps_data.Minimum_Android.astype('category')"
      ],
      "execution_count": null,
      "outputs": []
    },
    {
      "cell_type": "code",
      "metadata": {
        "colab": {
          "base_uri": "https://localhost:8080/"
        },
        "id": "6Yd6ETBaznUA",
        "outputId": "81c9d744-aff3-4058-d749-900dfc8edcd9"
      },
      "source": [
        "apps_data.info()"
      ],
      "execution_count": null,
      "outputs": [
        {
          "output_type": "stream",
          "name": "stdout",
          "text": [
            "<class 'pandas.core.frame.DataFrame'>\n",
            "Int64Index: 2177944 entries, 0 to 2312943\n",
            "Data columns (total 18 columns):\n",
            " #   Column            Dtype   \n",
            "---  ------            -----   \n",
            " 0   App_Name          object  \n",
            " 1   Category          category\n",
            " 2   Rating            float64 \n",
            " 3   Rating_Count      float64 \n",
            " 4   Maximum_Installs  int64   \n",
            " 5   Free              bool    \n",
            " 6   Price             float64 \n",
            " 7   Currency          category\n",
            " 8   Size              float64 \n",
            " 9   Minimum_Android   category\n",
            " 10  Developer_Id      object  \n",
            " 11  Released          object  \n",
            " 12  Last_Updated      object  \n",
            " 13  Content_Rating    object  \n",
            " 14  Ad_Supported      bool    \n",
            " 15  In_App_Purchases  bool    \n",
            " 16  Editors_Choice    bool    \n",
            " 17  Scraped_Time      object  \n",
            "dtypes: bool(4), category(3), float64(4), int64(1), object(6)\n",
            "memory usage: 213.9+ MB\n"
          ]
        }
      ]
    },
    {
      "cell_type": "markdown",
      "metadata": {
        "id": "-4I9f45KzvTk"
      },
      "source": [
        "## Tackling developer_id"
      ]
    },
    {
      "cell_type": "code",
      "metadata": {
        "colab": {
          "base_uri": "https://localhost:8080/"
        },
        "id": "NIOX9OQSzryG",
        "outputId": "ef502338-08de-46e8-c6e5-01cafa81e877"
      },
      "source": [
        "apps_data.Developer_Id.isnull().sum()"
      ],
      "execution_count": null,
      "outputs": [
        {
          "output_type": "execute_result",
          "data": {
            "text/plain": [
              "33"
            ]
          },
          "metadata": {},
          "execution_count": 89
        }
      ]
    },
    {
      "cell_type": "markdown",
      "metadata": {
        "id": "823cGodq2DAD"
      },
      "source": [
        "There are some apps with no developer id so lets drop that rows"
      ]
    },
    {
      "cell_type": "code",
      "metadata": {
        "id": "aRVAW7YP0Rbq"
      },
      "source": [
        "apps_data = apps_data[apps_data['Developer_Id'].notna()]"
      ],
      "execution_count": null,
      "outputs": []
    },
    {
      "cell_type": "code",
      "metadata": {
        "colab": {
          "base_uri": "https://localhost:8080/"
        },
        "id": "ou-e0ghW2Wm4",
        "outputId": "c03a8502-dd86-415f-d86c-fe01204c2269"
      },
      "source": [
        "apps_data.Developer_Id.isnull().sum()"
      ],
      "execution_count": null,
      "outputs": [
        {
          "output_type": "execute_result",
          "data": {
            "text/plain": [
              "0"
            ]
          },
          "metadata": {},
          "execution_count": 91
        }
      ]
    },
    {
      "cell_type": "code",
      "metadata": {
        "colab": {
          "base_uri": "https://localhost:8080/"
        },
        "id": "wet4Ck802YY2",
        "outputId": "aa96f5ec-76b0-4d47-85a3-63ccdbba445e"
      },
      "source": [
        "apps_data.info()"
      ],
      "execution_count": null,
      "outputs": [
        {
          "output_type": "stream",
          "name": "stdout",
          "text": [
            "<class 'pandas.core.frame.DataFrame'>\n",
            "Int64Index: 2177911 entries, 0 to 2312943\n",
            "Data columns (total 18 columns):\n",
            " #   Column            Dtype   \n",
            "---  ------            -----   \n",
            " 0   App_Name          object  \n",
            " 1   Category          category\n",
            " 2   Rating            float64 \n",
            " 3   Rating_Count      float64 \n",
            " 4   Maximum_Installs  int64   \n",
            " 5   Free              bool    \n",
            " 6   Price             float64 \n",
            " 7   Currency          category\n",
            " 8   Size              float64 \n",
            " 9   Minimum_Android   category\n",
            " 10  Developer_Id      object  \n",
            " 11  Released          object  \n",
            " 12  Last_Updated      object  \n",
            " 13  Content_Rating    object  \n",
            " 14  Ad_Supported      bool    \n",
            " 15  In_App_Purchases  bool    \n",
            " 16  Editors_Choice    bool    \n",
            " 17  Scraped_Time      object  \n",
            "dtypes: bool(4), category(3), float64(4), int64(1), object(6)\n",
            "memory usage: 213.9+ MB\n"
          ]
        }
      ]
    },
    {
      "cell_type": "markdown",
      "metadata": {
        "id": "KnW1kCa32jtW"
      },
      "source": [
        "## Tackling Released,Last_Updated and Scrapped_Time now"
      ]
    },
    {
      "cell_type": "markdown",
      "metadata": {
        "id": "mN_iQ9xv6kiM"
      },
      "source": [
        "Calculated number of days between Released and Scrapped_time"
      ]
    },
    {
      "cell_type": "code",
      "metadata": {
        "id": "5Oo8KXV52bHw"
      },
      "source": [
        "released_date = apps_data.Released\n",
        "scrapped_date = apps_data.Scraped_Time"
      ],
      "execution_count": null,
      "outputs": []
    },
    {
      "cell_type": "code",
      "metadata": {
        "id": "L_S6Zh9l3dJi"
      },
      "source": [
        "released_date_modified = []\n",
        "released_date_data_type = []\n",
        "for date in released_date:\n",
        "  if isinstance(date,float):\n",
        "    released_date_data_type.append(date)"
      ],
      "execution_count": null,
      "outputs": []
    },
    {
      "cell_type": "code",
      "metadata": {
        "id": "oOjrRkMG3g46"
      },
      "source": [
        "days_modified = []\n",
        "for rdate,sdate in zip(released_date,scrapped_date):\n",
        "  sdate = datetime.strptime(sdate, '%Y-%m-%d %H:%M:%S')\n",
        "  if not isinstance(rdate,float):\n",
        "    rdate = rdate.replace(',','')\n",
        "    rdate = datetime.strptime(rdate, '%b %d %Y')\n",
        "    delta = sdate-rdate\n",
        "    n_days=delta.days\n",
        "  else:\n",
        "    n_days = None\n",
        "  days_modified.append(n_days)\n"
      ],
      "execution_count": null,
      "outputs": []
    },
    {
      "cell_type": "code",
      "metadata": {
        "colab": {
          "base_uri": "https://localhost:8080/"
        },
        "id": "gINPMdQ33kOD",
        "outputId": "af6a578a-fcd6-4963-9cb5-a113990b81fd"
      },
      "source": [
        "days_modified.count(None)"
      ],
      "execution_count": null,
      "outputs": [
        {
          "output_type": "execute_result",
          "data": {
            "text/plain": [
              "68605"
            ]
          },
          "metadata": {},
          "execution_count": 96
        }
      ]
    },
    {
      "cell_type": "code",
      "metadata": {
        "id": "CwqyheTd3xbS"
      },
      "source": [
        "apps_data['Days'] = days_modified"
      ],
      "execution_count": null,
      "outputs": []
    },
    {
      "cell_type": "code",
      "metadata": {
        "colab": {
          "base_uri": "https://localhost:8080/"
        },
        "id": "FljoAz0A35HJ",
        "outputId": "f1027a01-f2c3-46c1-bdc3-c53db89190f9"
      },
      "source": [
        "apps_data.head()"
      ],
      "execution_count": null,
      "outputs": [
        {
          "output_type": "execute_result",
          "data": {
            "text/html": [
              "<div>\n",
              "<style scoped>\n",
              "    .dataframe tbody tr th:only-of-type {\n",
              "        vertical-align: middle;\n",
              "    }\n",
              "\n",
              "    .dataframe tbody tr th {\n",
              "        vertical-align: top;\n",
              "    }\n",
              "\n",
              "    .dataframe thead th {\n",
              "        text-align: right;\n",
              "    }\n",
              "</style>\n",
              "<table border=\"1\" class=\"dataframe\">\n",
              "  <thead>\n",
              "    <tr style=\"text-align: right;\">\n",
              "      <th></th>\n",
              "      <th>App_Name</th>\n",
              "      <th>Category</th>\n",
              "      <th>Rating</th>\n",
              "      <th>Rating_Count</th>\n",
              "      <th>Maximum_Installs</th>\n",
              "      <th>Free</th>\n",
              "      <th>Price</th>\n",
              "      <th>Currency</th>\n",
              "      <th>Size</th>\n",
              "      <th>Minimum_Android</th>\n",
              "      <th>Developer_Id</th>\n",
              "      <th>Released</th>\n",
              "      <th>Last_Updated</th>\n",
              "      <th>Content_Rating</th>\n",
              "      <th>Ad_Supported</th>\n",
              "      <th>In_App_Purchases</th>\n",
              "      <th>Editors_Choice</th>\n",
              "      <th>Scraped_Time</th>\n",
              "      <th>Days</th>\n",
              "    </tr>\n",
              "  </thead>\n",
              "  <tbody>\n",
              "    <tr>\n",
              "      <th>0</th>\n",
              "      <td>Gakondo</td>\n",
              "      <td>Adventure</td>\n",
              "      <td>0.0</td>\n",
              "      <td>0.0</td>\n",
              "      <td>15</td>\n",
              "      <td>True</td>\n",
              "      <td>0.0</td>\n",
              "      <td>USD</td>\n",
              "      <td>10240.0</td>\n",
              "      <td>7</td>\n",
              "      <td>Jean Confident Irénée NIYIZIBYOSE</td>\n",
              "      <td>Feb 26, 2020</td>\n",
              "      <td>Feb 26, 2020</td>\n",
              "      <td>Everyone</td>\n",
              "      <td>False</td>\n",
              "      <td>False</td>\n",
              "      <td>False</td>\n",
              "      <td>2021-06-15 20:19:35</td>\n",
              "      <td>475.0</td>\n",
              "    </tr>\n",
              "    <tr>\n",
              "      <th>1</th>\n",
              "      <td>Ampere Battery Info</td>\n",
              "      <td>Tools</td>\n",
              "      <td>4.4</td>\n",
              "      <td>64.0</td>\n",
              "      <td>7662</td>\n",
              "      <td>True</td>\n",
              "      <td>0.0</td>\n",
              "      <td>USD</td>\n",
              "      <td>2969.6</td>\n",
              "      <td>5</td>\n",
              "      <td>Webserveis</td>\n",
              "      <td>May 21, 2020</td>\n",
              "      <td>May 06, 2021</td>\n",
              "      <td>Everyone</td>\n",
              "      <td>True</td>\n",
              "      <td>False</td>\n",
              "      <td>False</td>\n",
              "      <td>2021-06-15 20:19:35</td>\n",
              "      <td>390.0</td>\n",
              "    </tr>\n",
              "    <tr>\n",
              "      <th>2</th>\n",
              "      <td>Vibook</td>\n",
              "      <td>Productivity</td>\n",
              "      <td>0.0</td>\n",
              "      <td>0.0</td>\n",
              "      <td>58</td>\n",
              "      <td>True</td>\n",
              "      <td>0.0</td>\n",
              "      <td>USD</td>\n",
              "      <td>3788.8</td>\n",
              "      <td>4</td>\n",
              "      <td>Cabin Crew</td>\n",
              "      <td>Aug 9, 2019</td>\n",
              "      <td>Aug 19, 2019</td>\n",
              "      <td>Everyone</td>\n",
              "      <td>False</td>\n",
              "      <td>False</td>\n",
              "      <td>False</td>\n",
              "      <td>2021-06-15 20:19:35</td>\n",
              "      <td>676.0</td>\n",
              "    </tr>\n",
              "    <tr>\n",
              "      <th>3</th>\n",
              "      <td>Smart City Trichy Public Service Vehicles 17UC...</td>\n",
              "      <td>Communication</td>\n",
              "      <td>5.0</td>\n",
              "      <td>5.0</td>\n",
              "      <td>19</td>\n",
              "      <td>True</td>\n",
              "      <td>0.0</td>\n",
              "      <td>USD</td>\n",
              "      <td>1843.2</td>\n",
              "      <td>4</td>\n",
              "      <td>Climate Smart Tech2</td>\n",
              "      <td>Sep 10, 2018</td>\n",
              "      <td>Oct 13, 2018</td>\n",
              "      <td>Everyone</td>\n",
              "      <td>True</td>\n",
              "      <td>False</td>\n",
              "      <td>False</td>\n",
              "      <td>2021-06-15 20:19:35</td>\n",
              "      <td>1009.0</td>\n",
              "    </tr>\n",
              "    <tr>\n",
              "      <th>4</th>\n",
              "      <td>GROW.me</td>\n",
              "      <td>Tools</td>\n",
              "      <td>0.0</td>\n",
              "      <td>0.0</td>\n",
              "      <td>478</td>\n",
              "      <td>True</td>\n",
              "      <td>0.0</td>\n",
              "      <td>USD</td>\n",
              "      <td>6348.8</td>\n",
              "      <td>4</td>\n",
              "      <td>Rafal Milek-Horodyski</td>\n",
              "      <td>Feb 21, 2020</td>\n",
              "      <td>Nov 12, 2018</td>\n",
              "      <td>Everyone</td>\n",
              "      <td>False</td>\n",
              "      <td>False</td>\n",
              "      <td>False</td>\n",
              "      <td>2021-06-15 20:19:35</td>\n",
              "      <td>480.0</td>\n",
              "    </tr>\n",
              "  </tbody>\n",
              "</table>\n",
              "</div>"
            ],
            "text/plain": [
              "                                            App_Name  ...    Days\n",
              "0                                            Gakondo  ...   475.0\n",
              "1                                Ampere Battery Info  ...   390.0\n",
              "2                                             Vibook  ...   676.0\n",
              "3  Smart City Trichy Public Service Vehicles 17UC...  ...  1009.0\n",
              "4                                            GROW.me  ...   480.0\n",
              "\n",
              "[5 rows x 19 columns]"
            ]
          },
          "metadata": {},
          "execution_count": 98
        }
      ]
    },
    {
      "cell_type": "markdown",
      "metadata": {
        "id": "4s1F9Qpv6uNs"
      },
      "source": [
        "Making An attribute updated which tells if the app is updated or not"
      ]
    },
    {
      "cell_type": "code",
      "metadata": {
        "id": "QqxFGbNa5LKd"
      },
      "source": [
        "apps_data['Updated'] = True"
      ],
      "execution_count": null,
      "outputs": []
    },
    {
      "cell_type": "code",
      "metadata": {
        "colab": {
          "base_uri": "https://localhost:8080/"
        },
        "id": "fbEJgRd65Qqs",
        "outputId": "e3d382fa-e636-42a5-a083-c37db27c6dbb"
      },
      "source": [
        "apps_data.head()"
      ],
      "execution_count": null,
      "outputs": [
        {
          "output_type": "execute_result",
          "data": {
            "text/html": [
              "<div>\n",
              "<style scoped>\n",
              "    .dataframe tbody tr th:only-of-type {\n",
              "        vertical-align: middle;\n",
              "    }\n",
              "\n",
              "    .dataframe tbody tr th {\n",
              "        vertical-align: top;\n",
              "    }\n",
              "\n",
              "    .dataframe thead th {\n",
              "        text-align: right;\n",
              "    }\n",
              "</style>\n",
              "<table border=\"1\" class=\"dataframe\">\n",
              "  <thead>\n",
              "    <tr style=\"text-align: right;\">\n",
              "      <th></th>\n",
              "      <th>App_Name</th>\n",
              "      <th>Category</th>\n",
              "      <th>Rating</th>\n",
              "      <th>Rating_Count</th>\n",
              "      <th>Maximum_Installs</th>\n",
              "      <th>Free</th>\n",
              "      <th>Price</th>\n",
              "      <th>Currency</th>\n",
              "      <th>Size</th>\n",
              "      <th>Minimum_Android</th>\n",
              "      <th>Developer_Id</th>\n",
              "      <th>Released</th>\n",
              "      <th>Last_Updated</th>\n",
              "      <th>Content_Rating</th>\n",
              "      <th>Ad_Supported</th>\n",
              "      <th>In_App_Purchases</th>\n",
              "      <th>Editors_Choice</th>\n",
              "      <th>Scraped_Time</th>\n",
              "      <th>Days</th>\n",
              "      <th>Updated</th>\n",
              "    </tr>\n",
              "  </thead>\n",
              "  <tbody>\n",
              "    <tr>\n",
              "      <th>0</th>\n",
              "      <td>Gakondo</td>\n",
              "      <td>Adventure</td>\n",
              "      <td>0.0</td>\n",
              "      <td>0.0</td>\n",
              "      <td>15</td>\n",
              "      <td>True</td>\n",
              "      <td>0.0</td>\n",
              "      <td>USD</td>\n",
              "      <td>10240.0</td>\n",
              "      <td>7</td>\n",
              "      <td>Jean Confident Irénée NIYIZIBYOSE</td>\n",
              "      <td>Feb 26, 2020</td>\n",
              "      <td>Feb 26, 2020</td>\n",
              "      <td>Everyone</td>\n",
              "      <td>False</td>\n",
              "      <td>False</td>\n",
              "      <td>False</td>\n",
              "      <td>2021-06-15 20:19:35</td>\n",
              "      <td>475.0</td>\n",
              "      <td>True</td>\n",
              "    </tr>\n",
              "    <tr>\n",
              "      <th>1</th>\n",
              "      <td>Ampere Battery Info</td>\n",
              "      <td>Tools</td>\n",
              "      <td>4.4</td>\n",
              "      <td>64.0</td>\n",
              "      <td>7662</td>\n",
              "      <td>True</td>\n",
              "      <td>0.0</td>\n",
              "      <td>USD</td>\n",
              "      <td>2969.6</td>\n",
              "      <td>5</td>\n",
              "      <td>Webserveis</td>\n",
              "      <td>May 21, 2020</td>\n",
              "      <td>May 06, 2021</td>\n",
              "      <td>Everyone</td>\n",
              "      <td>True</td>\n",
              "      <td>False</td>\n",
              "      <td>False</td>\n",
              "      <td>2021-06-15 20:19:35</td>\n",
              "      <td>390.0</td>\n",
              "      <td>True</td>\n",
              "    </tr>\n",
              "    <tr>\n",
              "      <th>2</th>\n",
              "      <td>Vibook</td>\n",
              "      <td>Productivity</td>\n",
              "      <td>0.0</td>\n",
              "      <td>0.0</td>\n",
              "      <td>58</td>\n",
              "      <td>True</td>\n",
              "      <td>0.0</td>\n",
              "      <td>USD</td>\n",
              "      <td>3788.8</td>\n",
              "      <td>4</td>\n",
              "      <td>Cabin Crew</td>\n",
              "      <td>Aug 9, 2019</td>\n",
              "      <td>Aug 19, 2019</td>\n",
              "      <td>Everyone</td>\n",
              "      <td>False</td>\n",
              "      <td>False</td>\n",
              "      <td>False</td>\n",
              "      <td>2021-06-15 20:19:35</td>\n",
              "      <td>676.0</td>\n",
              "      <td>True</td>\n",
              "    </tr>\n",
              "    <tr>\n",
              "      <th>3</th>\n",
              "      <td>Smart City Trichy Public Service Vehicles 17UC...</td>\n",
              "      <td>Communication</td>\n",
              "      <td>5.0</td>\n",
              "      <td>5.0</td>\n",
              "      <td>19</td>\n",
              "      <td>True</td>\n",
              "      <td>0.0</td>\n",
              "      <td>USD</td>\n",
              "      <td>1843.2</td>\n",
              "      <td>4</td>\n",
              "      <td>Climate Smart Tech2</td>\n",
              "      <td>Sep 10, 2018</td>\n",
              "      <td>Oct 13, 2018</td>\n",
              "      <td>Everyone</td>\n",
              "      <td>True</td>\n",
              "      <td>False</td>\n",
              "      <td>False</td>\n",
              "      <td>2021-06-15 20:19:35</td>\n",
              "      <td>1009.0</td>\n",
              "      <td>True</td>\n",
              "    </tr>\n",
              "    <tr>\n",
              "      <th>4</th>\n",
              "      <td>GROW.me</td>\n",
              "      <td>Tools</td>\n",
              "      <td>0.0</td>\n",
              "      <td>0.0</td>\n",
              "      <td>478</td>\n",
              "      <td>True</td>\n",
              "      <td>0.0</td>\n",
              "      <td>USD</td>\n",
              "      <td>6348.8</td>\n",
              "      <td>4</td>\n",
              "      <td>Rafal Milek-Horodyski</td>\n",
              "      <td>Feb 21, 2020</td>\n",
              "      <td>Nov 12, 2018</td>\n",
              "      <td>Everyone</td>\n",
              "      <td>False</td>\n",
              "      <td>False</td>\n",
              "      <td>False</td>\n",
              "      <td>2021-06-15 20:19:35</td>\n",
              "      <td>480.0</td>\n",
              "      <td>True</td>\n",
              "    </tr>\n",
              "  </tbody>\n",
              "</table>\n",
              "</div>"
            ],
            "text/plain": [
              "                                            App_Name  ... Updated\n",
              "0                                            Gakondo  ...    True\n",
              "1                                Ampere Battery Info  ...    True\n",
              "2                                             Vibook  ...    True\n",
              "3  Smart City Trichy Public Service Vehicles 17UC...  ...    True\n",
              "4                                            GROW.me  ...    True\n",
              "\n",
              "[5 rows x 20 columns]"
            ]
          },
          "metadata": {},
          "execution_count": 100
        }
      ]
    },
    {
      "cell_type": "code",
      "metadata": {
        "id": "e6AJxncs37bU"
      },
      "source": [
        "apps_data.loc[apps_data.Released == apps_data.Last_Updated , 'Updated'] = False"
      ],
      "execution_count": null,
      "outputs": []
    },
    {
      "cell_type": "code",
      "metadata": {
        "colab": {
          "base_uri": "https://localhost:8080/"
        },
        "id": "YtjuI3jv4riV",
        "outputId": "1a5c2fe6-ef68-4b1f-8d7b-3211d3ccbade"
      },
      "source": [
        "apps_data.Updated.value_counts()"
      ],
      "execution_count": null,
      "outputs": [
        {
          "output_type": "execute_result",
          "data": {
            "text/plain": [
              "True     1864614\n",
              "False     313297\n",
              "Name: Updated, dtype: int64"
            ]
          },
          "metadata": {},
          "execution_count": 102
        }
      ]
    },
    {
      "cell_type": "markdown",
      "metadata": {
        "id": "7CNYrQcs63Zz"
      },
      "source": [
        "dropping Released,Last_Updated and Scrapped_Time"
      ]
    },
    {
      "cell_type": "code",
      "metadata": {
        "colab": {
          "base_uri": "https://localhost:8080/"
        },
        "id": "ieu2HI217Bq5",
        "outputId": "172e48fa-6a1f-44e9-d5b7-5c31d2cb6ecf"
      },
      "source": [
        "apps_data.columns"
      ],
      "execution_count": null,
      "outputs": [
        {
          "output_type": "execute_result",
          "data": {
            "text/plain": [
              "Index(['App_Name', 'Category', 'Rating', 'Rating_Count', 'Maximum_Installs',\n",
              "       'Free', 'Price', 'Currency', 'Size', 'Minimum_Android', 'Developer_Id',\n",
              "       'Released', 'Last_Updated', 'Content_Rating', 'Ad_Supported',\n",
              "       'In_App_Purchases', 'Editors_Choice', 'Scraped_Time', 'Days',\n",
              "       'Updated'],\n",
              "      dtype='object')"
            ]
          },
          "metadata": {},
          "execution_count": 103
        }
      ]
    },
    {
      "cell_type": "code",
      "metadata": {
        "id": "uA1AYmIr6BEv"
      },
      "source": [
        "apps_data = apps_data.drop(['Scraped_Time','Released','Last_Updated'], axis=1)"
      ],
      "execution_count": null,
      "outputs": []
    },
    {
      "cell_type": "code",
      "metadata": {
        "colab": {
          "base_uri": "https://localhost:8080/"
        },
        "id": "gsXudApB7Pk-",
        "outputId": "af3df7b1-31e2-4b1b-92a5-c788ee8cce68"
      },
      "source": [
        "apps_data.head()"
      ],
      "execution_count": null,
      "outputs": [
        {
          "output_type": "execute_result",
          "data": {
            "text/html": [
              "<div>\n",
              "<style scoped>\n",
              "    .dataframe tbody tr th:only-of-type {\n",
              "        vertical-align: middle;\n",
              "    }\n",
              "\n",
              "    .dataframe tbody tr th {\n",
              "        vertical-align: top;\n",
              "    }\n",
              "\n",
              "    .dataframe thead th {\n",
              "        text-align: right;\n",
              "    }\n",
              "</style>\n",
              "<table border=\"1\" class=\"dataframe\">\n",
              "  <thead>\n",
              "    <tr style=\"text-align: right;\">\n",
              "      <th></th>\n",
              "      <th>App_Name</th>\n",
              "      <th>Category</th>\n",
              "      <th>Rating</th>\n",
              "      <th>Rating_Count</th>\n",
              "      <th>Maximum_Installs</th>\n",
              "      <th>Free</th>\n",
              "      <th>Price</th>\n",
              "      <th>Currency</th>\n",
              "      <th>Size</th>\n",
              "      <th>Minimum_Android</th>\n",
              "      <th>Developer_Id</th>\n",
              "      <th>Content_Rating</th>\n",
              "      <th>Ad_Supported</th>\n",
              "      <th>In_App_Purchases</th>\n",
              "      <th>Editors_Choice</th>\n",
              "      <th>Days</th>\n",
              "      <th>Updated</th>\n",
              "    </tr>\n",
              "  </thead>\n",
              "  <tbody>\n",
              "    <tr>\n",
              "      <th>0</th>\n",
              "      <td>Gakondo</td>\n",
              "      <td>Adventure</td>\n",
              "      <td>0.0</td>\n",
              "      <td>0.0</td>\n",
              "      <td>15</td>\n",
              "      <td>True</td>\n",
              "      <td>0.0</td>\n",
              "      <td>USD</td>\n",
              "      <td>10240.0</td>\n",
              "      <td>7</td>\n",
              "      <td>Jean Confident Irénée NIYIZIBYOSE</td>\n",
              "      <td>Everyone</td>\n",
              "      <td>False</td>\n",
              "      <td>False</td>\n",
              "      <td>False</td>\n",
              "      <td>475.0</td>\n",
              "      <td>False</td>\n",
              "    </tr>\n",
              "    <tr>\n",
              "      <th>1</th>\n",
              "      <td>Ampere Battery Info</td>\n",
              "      <td>Tools</td>\n",
              "      <td>4.4</td>\n",
              "      <td>64.0</td>\n",
              "      <td>7662</td>\n",
              "      <td>True</td>\n",
              "      <td>0.0</td>\n",
              "      <td>USD</td>\n",
              "      <td>2969.6</td>\n",
              "      <td>5</td>\n",
              "      <td>Webserveis</td>\n",
              "      <td>Everyone</td>\n",
              "      <td>True</td>\n",
              "      <td>False</td>\n",
              "      <td>False</td>\n",
              "      <td>390.0</td>\n",
              "      <td>True</td>\n",
              "    </tr>\n",
              "    <tr>\n",
              "      <th>2</th>\n",
              "      <td>Vibook</td>\n",
              "      <td>Productivity</td>\n",
              "      <td>0.0</td>\n",
              "      <td>0.0</td>\n",
              "      <td>58</td>\n",
              "      <td>True</td>\n",
              "      <td>0.0</td>\n",
              "      <td>USD</td>\n",
              "      <td>3788.8</td>\n",
              "      <td>4</td>\n",
              "      <td>Cabin Crew</td>\n",
              "      <td>Everyone</td>\n",
              "      <td>False</td>\n",
              "      <td>False</td>\n",
              "      <td>False</td>\n",
              "      <td>676.0</td>\n",
              "      <td>True</td>\n",
              "    </tr>\n",
              "    <tr>\n",
              "      <th>3</th>\n",
              "      <td>Smart City Trichy Public Service Vehicles 17UC...</td>\n",
              "      <td>Communication</td>\n",
              "      <td>5.0</td>\n",
              "      <td>5.0</td>\n",
              "      <td>19</td>\n",
              "      <td>True</td>\n",
              "      <td>0.0</td>\n",
              "      <td>USD</td>\n",
              "      <td>1843.2</td>\n",
              "      <td>4</td>\n",
              "      <td>Climate Smart Tech2</td>\n",
              "      <td>Everyone</td>\n",
              "      <td>True</td>\n",
              "      <td>False</td>\n",
              "      <td>False</td>\n",
              "      <td>1009.0</td>\n",
              "      <td>True</td>\n",
              "    </tr>\n",
              "    <tr>\n",
              "      <th>4</th>\n",
              "      <td>GROW.me</td>\n",
              "      <td>Tools</td>\n",
              "      <td>0.0</td>\n",
              "      <td>0.0</td>\n",
              "      <td>478</td>\n",
              "      <td>True</td>\n",
              "      <td>0.0</td>\n",
              "      <td>USD</td>\n",
              "      <td>6348.8</td>\n",
              "      <td>4</td>\n",
              "      <td>Rafal Milek-Horodyski</td>\n",
              "      <td>Everyone</td>\n",
              "      <td>False</td>\n",
              "      <td>False</td>\n",
              "      <td>False</td>\n",
              "      <td>480.0</td>\n",
              "      <td>True</td>\n",
              "    </tr>\n",
              "  </tbody>\n",
              "</table>\n",
              "</div>"
            ],
            "text/plain": [
              "                                            App_Name  ... Updated\n",
              "0                                            Gakondo  ...   False\n",
              "1                                Ampere Battery Info  ...    True\n",
              "2                                             Vibook  ...    True\n",
              "3  Smart City Trichy Public Service Vehicles 17UC...  ...    True\n",
              "4                                            GROW.me  ...    True\n",
              "\n",
              "[5 rows x 17 columns]"
            ]
          },
          "metadata": {},
          "execution_count": 105
        }
      ]
    },
    {
      "cell_type": "code",
      "metadata": {
        "colab": {
          "base_uri": "https://localhost:8080/"
        },
        "id": "r7mB6_EJ7S1h",
        "outputId": "d9044694-99f0-4e4d-c308-776d437aef52"
      },
      "source": [
        "apps_data.Days.describe()"
      ],
      "execution_count": null,
      "outputs": [
        {
          "output_type": "execute_result",
          "data": {
            "text/plain": [
              "count    2.109306e+06\n",
              "mean     1.016779e+03\n",
              "std      7.724067e+02\n",
              "min      0.000000e+00\n",
              "25%      4.250000e+02\n",
              "50%      8.120000e+02\n",
              "75%      1.436000e+03\n",
              "max      4.157000e+03\n",
              "Name: Days, dtype: float64"
            ]
          },
          "metadata": {},
          "execution_count": 106
        }
      ]
    },
    {
      "cell_type": "code",
      "metadata": {
        "colab": {
          "base_uri": "https://localhost:8080/"
        },
        "id": "fm5GXuiD72yd",
        "outputId": "e95b977a-c0c6-4e84-a914-802bc7132b64"
      },
      "source": [
        "apps_data.Days.isnull().sum()"
      ],
      "execution_count": null,
      "outputs": [
        {
          "output_type": "execute_result",
          "data": {
            "text/plain": [
              "68605"
            ]
          },
          "metadata": {},
          "execution_count": 107
        }
      ]
    },
    {
      "cell_type": "code",
      "metadata": {
        "colab": {
          "base_uri": "https://localhost:8080/"
        },
        "id": "w318i9ZG8Hhh",
        "outputId": "5ef2f1ca-0b11-441d-9148-8872f390c26c"
      },
      "source": [
        "apps_data.Days.mean()"
      ],
      "execution_count": null,
      "outputs": [
        {
          "output_type": "execute_result",
          "data": {
            "text/plain": [
              "1016.7793127218147"
            ]
          },
          "metadata": {},
          "execution_count": 108
        }
      ]
    },
    {
      "cell_type": "code",
      "metadata": {
        "id": "a0lHGOTg78qF"
      },
      "source": [
        "apps_data.Days = apps_data.Days.fillna(int(apps_data.Days.mean()))"
      ],
      "execution_count": null,
      "outputs": []
    },
    {
      "cell_type": "code",
      "metadata": {
        "colab": {
          "base_uri": "https://localhost:8080/"
        },
        "id": "gSJtw9_H8YZk",
        "outputId": "9810466a-564e-4b5b-b2bc-315282c75a71"
      },
      "source": [
        "apps_data.Days.isnull().sum()"
      ],
      "execution_count": null,
      "outputs": [
        {
          "output_type": "execute_result",
          "data": {
            "text/plain": [
              "0"
            ]
          },
          "metadata": {},
          "execution_count": 110
        }
      ]
    },
    {
      "cell_type": "code",
      "metadata": {
        "colab": {
          "base_uri": "https://localhost:8080/"
        },
        "id": "2uGepArr8aoV",
        "outputId": "48560cff-943e-4c66-df1d-97b3fcba4465"
      },
      "source": [
        "apps_data.info()"
      ],
      "execution_count": null,
      "outputs": [
        {
          "output_type": "stream",
          "name": "stdout",
          "text": [
            "<class 'pandas.core.frame.DataFrame'>\n",
            "Int64Index: 2177911 entries, 0 to 2312943\n",
            "Data columns (total 17 columns):\n",
            " #   Column            Dtype   \n",
            "---  ------            -----   \n",
            " 0   App_Name          object  \n",
            " 1   Category          category\n",
            " 2   Rating            float64 \n",
            " 3   Rating_Count      float64 \n",
            " 4   Maximum_Installs  int64   \n",
            " 5   Free              bool    \n",
            " 6   Price             float64 \n",
            " 7   Currency          category\n",
            " 8   Size              float64 \n",
            " 9   Minimum_Android   category\n",
            " 10  Developer_Id      object  \n",
            " 11  Content_Rating    object  \n",
            " 12  Ad_Supported      bool    \n",
            " 13  In_App_Purchases  bool    \n",
            " 14  Editors_Choice    bool    \n",
            " 15  Days              float64 \n",
            " 16  Updated           bool    \n",
            "dtypes: bool(5), category(3), float64(5), int64(1), object(3)\n",
            "memory usage: 182.8+ MB\n"
          ]
        }
      ]
    },
    {
      "cell_type": "markdown",
      "metadata": {
        "id": "8iti8aWP-mgA"
      },
      "source": [
        "## Tackling Content_Rating"
      ]
    },
    {
      "cell_type": "code",
      "metadata": {
        "colab": {
          "base_uri": "https://localhost:8080/"
        },
        "id": "UaBqpjNK-YsA",
        "outputId": "e72d7e30-ca41-471d-e465-c3d51893765b"
      },
      "source": [
        "apps_data.Content_Rating.describe()"
      ],
      "execution_count": null,
      "outputs": [
        {
          "output_type": "execute_result",
          "data": {
            "text/plain": [
              "count      2177911\n",
              "unique           6\n",
              "top       Everyone\n",
              "freq       1900522\n",
              "Name: Content_Rating, dtype: object"
            ]
          },
          "metadata": {},
          "execution_count": 112
        }
      ]
    },
    {
      "cell_type": "code",
      "metadata": {
        "colab": {
          "base_uri": "https://localhost:8080/"
        },
        "id": "qlY6BHE8-2ro",
        "outputId": "638d2606-dce0-432f-94bd-c276a88d4dce"
      },
      "source": [
        "apps_data.Content_Rating.unique()"
      ],
      "execution_count": null,
      "outputs": [
        {
          "output_type": "execute_result",
          "data": {
            "text/plain": [
              "array(['Everyone', 'Teen', 'Mature 17+', 'Everyone 10+',\n",
              "       'Adults only 18+', 'Unrated'], dtype=object)"
            ]
          },
          "metadata": {},
          "execution_count": 113
        }
      ]
    },
    {
      "cell_type": "code",
      "metadata": {
        "colab": {
          "base_uri": "https://localhost:8080/"
        },
        "id": "zzJm0Vxf-6fZ",
        "outputId": "7fced782-6e3b-4318-e8ee-4fdc785dc255"
      },
      "source": [
        "apps_data.Content_Rating.value_counts()"
      ],
      "execution_count": null,
      "outputs": [
        {
          "output_type": "execute_result",
          "data": {
            "text/plain": [
              "Everyone           1900522\n",
              "Teen                187310\n",
              "Mature 17+           57138\n",
              "Everyone 10+         32665\n",
              "Unrated                143\n",
              "Adults only 18+        133\n",
              "Name: Content_Rating, dtype: int64"
            ]
          },
          "metadata": {},
          "execution_count": 114
        }
      ]
    },
    {
      "cell_type": "code",
      "metadata": {
        "id": "dRvSlPs__DaL"
      },
      "source": [
        "apps_data.Content_Rating = apps_data.Content_Rating.astype('category')"
      ],
      "execution_count": null,
      "outputs": []
    },
    {
      "cell_type": "code",
      "metadata": {
        "colab": {
          "base_uri": "https://localhost:8080/"
        },
        "id": "TuReEnQn_N3W",
        "outputId": "26bd55a7-54af-4e33-e4e9-ffa2f67104d5"
      },
      "source": [
        "apps_data.Content_Rating.isnull().sum()"
      ],
      "execution_count": null,
      "outputs": [
        {
          "output_type": "execute_result",
          "data": {
            "text/plain": [
              "0"
            ]
          },
          "metadata": {},
          "execution_count": 116
        }
      ]
    },
    {
      "cell_type": "code",
      "metadata": {
        "colab": {
          "base_uri": "https://localhost:8080/"
        },
        "id": "PEc4LM0z_Rrn",
        "outputId": "d80d3d50-adbc-449a-ec9b-9a813b4f8708"
      },
      "source": [
        "apps_data.info()"
      ],
      "execution_count": null,
      "outputs": [
        {
          "output_type": "stream",
          "name": "stdout",
          "text": [
            "<class 'pandas.core.frame.DataFrame'>\n",
            "Int64Index: 2177911 entries, 0 to 2312943\n",
            "Data columns (total 17 columns):\n",
            " #   Column            Dtype   \n",
            "---  ------            -----   \n",
            " 0   App_Name          object  \n",
            " 1   Category          category\n",
            " 2   Rating            float64 \n",
            " 3   Rating_Count      float64 \n",
            " 4   Maximum_Installs  int64   \n",
            " 5   Free              bool    \n",
            " 6   Price             float64 \n",
            " 7   Currency          category\n",
            " 8   Size              float64 \n",
            " 9   Minimum_Android   category\n",
            " 10  Developer_Id      object  \n",
            " 11  Content_Rating    category\n",
            " 12  Ad_Supported      bool    \n",
            " 13  In_App_Purchases  bool    \n",
            " 14  Editors_Choice    bool    \n",
            " 15  Days              float64 \n",
            " 16  Updated           bool    \n",
            "dtypes: bool(5), category(4), float64(5), int64(1), object(2)\n",
            "memory usage: 168.2+ MB\n"
          ]
        }
      ]
    },
    {
      "cell_type": "markdown",
      "metadata": {
        "id": "EAFM-32x_db5"
      },
      "source": [
        "## Tackling rest of attributes"
      ]
    },
    {
      "cell_type": "code",
      "metadata": {
        "colab": {
          "base_uri": "https://localhost:8080/"
        },
        "id": "a3SEKeD0_VGa",
        "outputId": "e282fce3-e43d-4300-89d8-20a37479ad0d"
      },
      "source": [
        "apps_data.isnull().sum()"
      ],
      "execution_count": null,
      "outputs": [
        {
          "output_type": "execute_result",
          "data": {
            "text/plain": [
              "App_Name            0\n",
              "Category            0\n",
              "Rating              0\n",
              "Rating_Count        0\n",
              "Maximum_Installs    0\n",
              "Free                0\n",
              "Price               0\n",
              "Currency            0\n",
              "Size                0\n",
              "Minimum_Android     0\n",
              "Developer_Id        0\n",
              "Content_Rating      0\n",
              "Ad_Supported        0\n",
              "In_App_Purchases    0\n",
              "Editors_Choice      0\n",
              "Days                0\n",
              "Updated             0\n",
              "dtype: int64"
            ]
          },
          "metadata": {},
          "execution_count": 118
        }
      ]
    },
    {
      "cell_type": "markdown",
      "metadata": {
        "id": "lbpFCPvs_vPZ"
      },
      "source": [
        "since Ad_Supported,In_App_Purchases and Editors_Choice are bool and have no null value, they don't need anything to do"
      ]
    },
    {
      "cell_type": "markdown",
      "metadata": {
        "id": "G17uhGsbAAbp"
      },
      "source": [
        "## Download the dataset"
      ]
    },
    {
      "cell_type": "code",
      "metadata": {
        "colab": {
          "base_uri": "https://localhost:8080/"
        },
        "id": "TEA8XuPF_bJz",
        "outputId": "707610d7-3dee-4806-a5ca-b68ae9311ad8"
      },
      "source": [
        "apps_data.head()"
      ],
      "execution_count": null,
      "outputs": [
        {
          "output_type": "execute_result",
          "data": {
            "text/html": [
              "<div>\n",
              "<style scoped>\n",
              "    .dataframe tbody tr th:only-of-type {\n",
              "        vertical-align: middle;\n",
              "    }\n",
              "\n",
              "    .dataframe tbody tr th {\n",
              "        vertical-align: top;\n",
              "    }\n",
              "\n",
              "    .dataframe thead th {\n",
              "        text-align: right;\n",
              "    }\n",
              "</style>\n",
              "<table border=\"1\" class=\"dataframe\">\n",
              "  <thead>\n",
              "    <tr style=\"text-align: right;\">\n",
              "      <th></th>\n",
              "      <th>App_Name</th>\n",
              "      <th>Category</th>\n",
              "      <th>Rating</th>\n",
              "      <th>Rating_Count</th>\n",
              "      <th>Maximum_Installs</th>\n",
              "      <th>Free</th>\n",
              "      <th>Price</th>\n",
              "      <th>Currency</th>\n",
              "      <th>Size</th>\n",
              "      <th>Minimum_Android</th>\n",
              "      <th>Developer_Id</th>\n",
              "      <th>Content_Rating</th>\n",
              "      <th>Ad_Supported</th>\n",
              "      <th>In_App_Purchases</th>\n",
              "      <th>Editors_Choice</th>\n",
              "      <th>Days</th>\n",
              "      <th>Updated</th>\n",
              "    </tr>\n",
              "  </thead>\n",
              "  <tbody>\n",
              "    <tr>\n",
              "      <th>0</th>\n",
              "      <td>Gakondo</td>\n",
              "      <td>Adventure</td>\n",
              "      <td>0.0</td>\n",
              "      <td>0.0</td>\n",
              "      <td>15</td>\n",
              "      <td>True</td>\n",
              "      <td>0.0</td>\n",
              "      <td>USD</td>\n",
              "      <td>10240.0</td>\n",
              "      <td>7</td>\n",
              "      <td>Jean Confident Irénée NIYIZIBYOSE</td>\n",
              "      <td>Everyone</td>\n",
              "      <td>False</td>\n",
              "      <td>False</td>\n",
              "      <td>False</td>\n",
              "      <td>475.0</td>\n",
              "      <td>False</td>\n",
              "    </tr>\n",
              "    <tr>\n",
              "      <th>1</th>\n",
              "      <td>Ampere Battery Info</td>\n",
              "      <td>Tools</td>\n",
              "      <td>4.4</td>\n",
              "      <td>64.0</td>\n",
              "      <td>7662</td>\n",
              "      <td>True</td>\n",
              "      <td>0.0</td>\n",
              "      <td>USD</td>\n",
              "      <td>2969.6</td>\n",
              "      <td>5</td>\n",
              "      <td>Webserveis</td>\n",
              "      <td>Everyone</td>\n",
              "      <td>True</td>\n",
              "      <td>False</td>\n",
              "      <td>False</td>\n",
              "      <td>390.0</td>\n",
              "      <td>True</td>\n",
              "    </tr>\n",
              "    <tr>\n",
              "      <th>2</th>\n",
              "      <td>Vibook</td>\n",
              "      <td>Productivity</td>\n",
              "      <td>0.0</td>\n",
              "      <td>0.0</td>\n",
              "      <td>58</td>\n",
              "      <td>True</td>\n",
              "      <td>0.0</td>\n",
              "      <td>USD</td>\n",
              "      <td>3788.8</td>\n",
              "      <td>4</td>\n",
              "      <td>Cabin Crew</td>\n",
              "      <td>Everyone</td>\n",
              "      <td>False</td>\n",
              "      <td>False</td>\n",
              "      <td>False</td>\n",
              "      <td>676.0</td>\n",
              "      <td>True</td>\n",
              "    </tr>\n",
              "    <tr>\n",
              "      <th>3</th>\n",
              "      <td>Smart City Trichy Public Service Vehicles 17UC...</td>\n",
              "      <td>Communication</td>\n",
              "      <td>5.0</td>\n",
              "      <td>5.0</td>\n",
              "      <td>19</td>\n",
              "      <td>True</td>\n",
              "      <td>0.0</td>\n",
              "      <td>USD</td>\n",
              "      <td>1843.2</td>\n",
              "      <td>4</td>\n",
              "      <td>Climate Smart Tech2</td>\n",
              "      <td>Everyone</td>\n",
              "      <td>True</td>\n",
              "      <td>False</td>\n",
              "      <td>False</td>\n",
              "      <td>1009.0</td>\n",
              "      <td>True</td>\n",
              "    </tr>\n",
              "    <tr>\n",
              "      <th>4</th>\n",
              "      <td>GROW.me</td>\n",
              "      <td>Tools</td>\n",
              "      <td>0.0</td>\n",
              "      <td>0.0</td>\n",
              "      <td>478</td>\n",
              "      <td>True</td>\n",
              "      <td>0.0</td>\n",
              "      <td>USD</td>\n",
              "      <td>6348.8</td>\n",
              "      <td>4</td>\n",
              "      <td>Rafal Milek-Horodyski</td>\n",
              "      <td>Everyone</td>\n",
              "      <td>False</td>\n",
              "      <td>False</td>\n",
              "      <td>False</td>\n",
              "      <td>480.0</td>\n",
              "      <td>True</td>\n",
              "    </tr>\n",
              "  </tbody>\n",
              "</table>\n",
              "</div>"
            ],
            "text/plain": [
              "                                            App_Name  ... Updated\n",
              "0                                            Gakondo  ...   False\n",
              "1                                Ampere Battery Info  ...    True\n",
              "2                                             Vibook  ...    True\n",
              "3  Smart City Trichy Public Service Vehicles 17UC...  ...    True\n",
              "4                                            GROW.me  ...    True\n",
              "\n",
              "[5 rows x 17 columns]"
            ]
          },
          "metadata": {},
          "execution_count": 119
        }
      ]
    },
    {
      "cell_type": "code",
      "metadata": {
        "colab": {
          "base_uri": "https://localhost:8080/"
        },
        "id": "vgk4D7Z-AFx0",
        "outputId": "ec9b7852-85df-430d-c2c0-6d17c498ac60"
      },
      "source": [
        "len(apps_data)"
      ],
      "execution_count": null,
      "outputs": [
        {
          "output_type": "execute_result",
          "data": {
            "text/plain": [
              "2177911"
            ]
          },
          "metadata": {},
          "execution_count": 120
        }
      ]
    },
    {
      "cell_type": "code",
      "metadata": {
        "id": "fljseq8qAQtJ"
      },
      "source": [
        "apps_data.to_csv('cleaned_data.csv')"
      ],
      "execution_count": null,
      "outputs": []
    },
    {
      "cell_type": "code",
      "metadata": {
        "id": "Ccio_Q8_Ah_c"
      },
      "source": [
        ""
      ],
      "execution_count": null,
      "outputs": []
    },
    {
      "cell_type": "markdown",
      "metadata": {
        "id": "M8ic989SAudm"
      },
      "source": [
        "# Step 3: Doing EDA"
      ]
    },
    {
      "cell_type": "code",
      "metadata": {
        "id": "XaXhLtqIAwnB"
      },
      "source": [
        "df = pd.read_csv('cleaned_data.csv')"
      ],
      "execution_count": null,
      "outputs": []
    },
    {
      "cell_type": "code",
      "metadata": {
        "id": "rCFx_xr4YWPT"
      },
      "source": [
        "df = df.iloc[:,1:]"
      ],
      "execution_count": null,
      "outputs": []
    },
    {
      "cell_type": "code",
      "metadata": {
        "id": "JOXevLafX3w6",
        "colab": {
          "base_uri": "https://localhost:8080/",
          "height": 411
        },
        "outputId": "774b5aaa-210c-4de3-c0f7-53ceb9a7139f"
      },
      "source": [
        "df.head()"
      ],
      "execution_count": null,
      "outputs": [
        {
          "output_type": "execute_result",
          "data": {
            "text/html": [
              "<div>\n",
              "<style scoped>\n",
              "    .dataframe tbody tr th:only-of-type {\n",
              "        vertical-align: middle;\n",
              "    }\n",
              "\n",
              "    .dataframe tbody tr th {\n",
              "        vertical-align: top;\n",
              "    }\n",
              "\n",
              "    .dataframe thead th {\n",
              "        text-align: right;\n",
              "    }\n",
              "</style>\n",
              "<table border=\"1\" class=\"dataframe\">\n",
              "  <thead>\n",
              "    <tr style=\"text-align: right;\">\n",
              "      <th></th>\n",
              "      <th>App_Name</th>\n",
              "      <th>Category</th>\n",
              "      <th>Rating</th>\n",
              "      <th>Rating_Count</th>\n",
              "      <th>Maximum_Installs</th>\n",
              "      <th>Free</th>\n",
              "      <th>Price</th>\n",
              "      <th>Currency</th>\n",
              "      <th>Size</th>\n",
              "      <th>Minimum_Android</th>\n",
              "      <th>Developer_Id</th>\n",
              "      <th>Content_Rating</th>\n",
              "      <th>Ad_Supported</th>\n",
              "      <th>In_App_Purchases</th>\n",
              "      <th>Editors_Choice</th>\n",
              "      <th>Days</th>\n",
              "      <th>Updated</th>\n",
              "    </tr>\n",
              "  </thead>\n",
              "  <tbody>\n",
              "    <tr>\n",
              "      <th>0</th>\n",
              "      <td>Gakondo</td>\n",
              "      <td>Adventure</td>\n",
              "      <td>0.0</td>\n",
              "      <td>0.0</td>\n",
              "      <td>15</td>\n",
              "      <td>True</td>\n",
              "      <td>0.0</td>\n",
              "      <td>USD</td>\n",
              "      <td>10240.0</td>\n",
              "      <td>7</td>\n",
              "      <td>Jean Confident Irénée NIYIZIBYOSE</td>\n",
              "      <td>Everyone</td>\n",
              "      <td>False</td>\n",
              "      <td>False</td>\n",
              "      <td>False</td>\n",
              "      <td>475.0</td>\n",
              "      <td>False</td>\n",
              "    </tr>\n",
              "    <tr>\n",
              "      <th>1</th>\n",
              "      <td>Ampere Battery Info</td>\n",
              "      <td>Tools</td>\n",
              "      <td>4.4</td>\n",
              "      <td>64.0</td>\n",
              "      <td>7662</td>\n",
              "      <td>True</td>\n",
              "      <td>0.0</td>\n",
              "      <td>USD</td>\n",
              "      <td>2969.6</td>\n",
              "      <td>5</td>\n",
              "      <td>Webserveis</td>\n",
              "      <td>Everyone</td>\n",
              "      <td>True</td>\n",
              "      <td>False</td>\n",
              "      <td>False</td>\n",
              "      <td>390.0</td>\n",
              "      <td>True</td>\n",
              "    </tr>\n",
              "    <tr>\n",
              "      <th>2</th>\n",
              "      <td>Vibook</td>\n",
              "      <td>Productivity</td>\n",
              "      <td>0.0</td>\n",
              "      <td>0.0</td>\n",
              "      <td>58</td>\n",
              "      <td>True</td>\n",
              "      <td>0.0</td>\n",
              "      <td>USD</td>\n",
              "      <td>3788.8</td>\n",
              "      <td>4</td>\n",
              "      <td>Cabin Crew</td>\n",
              "      <td>Everyone</td>\n",
              "      <td>False</td>\n",
              "      <td>False</td>\n",
              "      <td>False</td>\n",
              "      <td>676.0</td>\n",
              "      <td>True</td>\n",
              "    </tr>\n",
              "    <tr>\n",
              "      <th>3</th>\n",
              "      <td>Smart City Trichy Public Service Vehicles 17UC...</td>\n",
              "      <td>Communication</td>\n",
              "      <td>5.0</td>\n",
              "      <td>5.0</td>\n",
              "      <td>19</td>\n",
              "      <td>True</td>\n",
              "      <td>0.0</td>\n",
              "      <td>USD</td>\n",
              "      <td>1843.2</td>\n",
              "      <td>4</td>\n",
              "      <td>Climate Smart Tech2</td>\n",
              "      <td>Everyone</td>\n",
              "      <td>True</td>\n",
              "      <td>False</td>\n",
              "      <td>False</td>\n",
              "      <td>1009.0</td>\n",
              "      <td>True</td>\n",
              "    </tr>\n",
              "    <tr>\n",
              "      <th>4</th>\n",
              "      <td>GROW.me</td>\n",
              "      <td>Tools</td>\n",
              "      <td>0.0</td>\n",
              "      <td>0.0</td>\n",
              "      <td>478</td>\n",
              "      <td>True</td>\n",
              "      <td>0.0</td>\n",
              "      <td>USD</td>\n",
              "      <td>6348.8</td>\n",
              "      <td>4</td>\n",
              "      <td>Rafal Milek-Horodyski</td>\n",
              "      <td>Everyone</td>\n",
              "      <td>False</td>\n",
              "      <td>False</td>\n",
              "      <td>False</td>\n",
              "      <td>480.0</td>\n",
              "      <td>True</td>\n",
              "    </tr>\n",
              "  </tbody>\n",
              "</table>\n",
              "</div>"
            ],
            "text/plain": [
              "                                            App_Name  ... Updated\n",
              "0                                            Gakondo  ...   False\n",
              "1                                Ampere Battery Info  ...    True\n",
              "2                                             Vibook  ...    True\n",
              "3  Smart City Trichy Public Service Vehicles 17UC...  ...    True\n",
              "4                                            GROW.me  ...    True\n",
              "\n",
              "[5 rows x 17 columns]"
            ]
          },
          "metadata": {},
          "execution_count": 124
        }
      ]
    },
    {
      "cell_type": "code",
      "metadata": {
        "id": "2BMwjfQaXwka"
      },
      "source": [
        "Free_Apps = df[df['Free'] == True]\n",
        "Paid_Apps = df[df['Free'] == False]"
      ],
      "execution_count": null,
      "outputs": []
    },
    {
      "cell_type": "code",
      "metadata": {
        "id": "enfUbQ71YC1j",
        "colab": {
          "base_uri": "https://localhost:8080/",
          "height": 216
        },
        "outputId": "acaab3b8-1842-4677-fb6e-4fc9226c4824"
      },
      "source": [
        "Free_Apps.head(2)"
      ],
      "execution_count": null,
      "outputs": [
        {
          "output_type": "execute_result",
          "data": {
            "text/html": [
              "<div>\n",
              "<style scoped>\n",
              "    .dataframe tbody tr th:only-of-type {\n",
              "        vertical-align: middle;\n",
              "    }\n",
              "\n",
              "    .dataframe tbody tr th {\n",
              "        vertical-align: top;\n",
              "    }\n",
              "\n",
              "    .dataframe thead th {\n",
              "        text-align: right;\n",
              "    }\n",
              "</style>\n",
              "<table border=\"1\" class=\"dataframe\">\n",
              "  <thead>\n",
              "    <tr style=\"text-align: right;\">\n",
              "      <th></th>\n",
              "      <th>App_Name</th>\n",
              "      <th>Category</th>\n",
              "      <th>Rating</th>\n",
              "      <th>Rating_Count</th>\n",
              "      <th>Maximum_Installs</th>\n",
              "      <th>Free</th>\n",
              "      <th>Price</th>\n",
              "      <th>Currency</th>\n",
              "      <th>Size</th>\n",
              "      <th>Minimum_Android</th>\n",
              "      <th>Developer_Id</th>\n",
              "      <th>Content_Rating</th>\n",
              "      <th>Ad_Supported</th>\n",
              "      <th>In_App_Purchases</th>\n",
              "      <th>Editors_Choice</th>\n",
              "      <th>Days</th>\n",
              "      <th>Updated</th>\n",
              "    </tr>\n",
              "  </thead>\n",
              "  <tbody>\n",
              "    <tr>\n",
              "      <th>0</th>\n",
              "      <td>Gakondo</td>\n",
              "      <td>Adventure</td>\n",
              "      <td>0.0</td>\n",
              "      <td>0.0</td>\n",
              "      <td>15</td>\n",
              "      <td>True</td>\n",
              "      <td>0.0</td>\n",
              "      <td>USD</td>\n",
              "      <td>10240.0</td>\n",
              "      <td>7</td>\n",
              "      <td>Jean Confident Irénée NIYIZIBYOSE</td>\n",
              "      <td>Everyone</td>\n",
              "      <td>False</td>\n",
              "      <td>False</td>\n",
              "      <td>False</td>\n",
              "      <td>475.0</td>\n",
              "      <td>False</td>\n",
              "    </tr>\n",
              "    <tr>\n",
              "      <th>1</th>\n",
              "      <td>Ampere Battery Info</td>\n",
              "      <td>Tools</td>\n",
              "      <td>4.4</td>\n",
              "      <td>64.0</td>\n",
              "      <td>7662</td>\n",
              "      <td>True</td>\n",
              "      <td>0.0</td>\n",
              "      <td>USD</td>\n",
              "      <td>2969.6</td>\n",
              "      <td>5</td>\n",
              "      <td>Webserveis</td>\n",
              "      <td>Everyone</td>\n",
              "      <td>True</td>\n",
              "      <td>False</td>\n",
              "      <td>False</td>\n",
              "      <td>390.0</td>\n",
              "      <td>True</td>\n",
              "    </tr>\n",
              "  </tbody>\n",
              "</table>\n",
              "</div>"
            ],
            "text/plain": [
              "              App_Name   Category  Rating  ...  Editors_Choice   Days  Updated\n",
              "0              Gakondo  Adventure     0.0  ...           False  475.0    False\n",
              "1  Ampere Battery Info      Tools     4.4  ...           False  390.0     True\n",
              "\n",
              "[2 rows x 17 columns]"
            ]
          },
          "metadata": {},
          "execution_count": 126
        }
      ]
    },
    {
      "cell_type": "code",
      "metadata": {
        "id": "cptY5pAuYGku",
        "colab": {
          "base_uri": "https://localhost:8080/",
          "height": 182
        },
        "outputId": "1123500c-2ad4-4737-c92b-5915343decfb"
      },
      "source": [
        "Paid_Apps.head(2)"
      ],
      "execution_count": null,
      "outputs": [
        {
          "output_type": "execute_result",
          "data": {
            "text/html": [
              "<div>\n",
              "<style scoped>\n",
              "    .dataframe tbody tr th:only-of-type {\n",
              "        vertical-align: middle;\n",
              "    }\n",
              "\n",
              "    .dataframe tbody tr th {\n",
              "        vertical-align: top;\n",
              "    }\n",
              "\n",
              "    .dataframe thead th {\n",
              "        text-align: right;\n",
              "    }\n",
              "</style>\n",
              "<table border=\"1\" class=\"dataframe\">\n",
              "  <thead>\n",
              "    <tr style=\"text-align: right;\">\n",
              "      <th></th>\n",
              "      <th>App_Name</th>\n",
              "      <th>Category</th>\n",
              "      <th>Rating</th>\n",
              "      <th>Rating_Count</th>\n",
              "      <th>Maximum_Installs</th>\n",
              "      <th>Free</th>\n",
              "      <th>Price</th>\n",
              "      <th>Currency</th>\n",
              "      <th>Size</th>\n",
              "      <th>Minimum_Android</th>\n",
              "      <th>Developer_Id</th>\n",
              "      <th>Content_Rating</th>\n",
              "      <th>Ad_Supported</th>\n",
              "      <th>In_App_Purchases</th>\n",
              "      <th>Editors_Choice</th>\n",
              "      <th>Days</th>\n",
              "      <th>Updated</th>\n",
              "    </tr>\n",
              "  </thead>\n",
              "  <tbody>\n",
              "    <tr>\n",
              "      <th>273</th>\n",
              "      <td>Limitless Paint</td>\n",
              "      <td>Tools</td>\n",
              "      <td>4.5</td>\n",
              "      <td>236.0</td>\n",
              "      <td>34125</td>\n",
              "      <td>False</td>\n",
              "      <td>1.99</td>\n",
              "      <td>USD</td>\n",
              "      <td>1638.4</td>\n",
              "      <td>4</td>\n",
              "      <td>Bitscaffold</td>\n",
              "      <td>Everyone</td>\n",
              "      <td>False</td>\n",
              "      <td>False</td>\n",
              "      <td>False</td>\n",
              "      <td>928.0</td>\n",
              "      <td>True</td>\n",
              "    </tr>\n",
              "    <tr>\n",
              "      <th>296</th>\n",
              "      <td>Standalone Golf GPS by Hole19</td>\n",
              "      <td>Sports</td>\n",
              "      <td>2.8</td>\n",
              "      <td>160.0</td>\n",
              "      <td>10407</td>\n",
              "      <td>False</td>\n",
              "      <td>4.99</td>\n",
              "      <td>USD</td>\n",
              "      <td>30720.0</td>\n",
              "      <td>7</td>\n",
              "      <td>Hole19</td>\n",
              "      <td>Everyone</td>\n",
              "      <td>False</td>\n",
              "      <td>False</td>\n",
              "      <td>False</td>\n",
              "      <td>1589.0</td>\n",
              "      <td>True</td>\n",
              "    </tr>\n",
              "  </tbody>\n",
              "</table>\n",
              "</div>"
            ],
            "text/plain": [
              "                          App_Name Category  ...    Days  Updated\n",
              "273                Limitless Paint    Tools  ...   928.0     True\n",
              "296  Standalone Golf GPS by Hole19   Sports  ...  1589.0     True\n",
              "\n",
              "[2 rows x 17 columns]"
            ]
          },
          "metadata": {},
          "execution_count": 127
        }
      ]
    },
    {
      "cell_type": "code",
      "metadata": {
        "id": "G_uRhDg2geSH",
        "colab": {
          "base_uri": "https://localhost:8080/",
          "height": 335
        },
        "outputId": "d47a1681-6310-4c4b-d934-80e9eb3d2c65"
      },
      "source": [
        "plt.figure(figsize=(5,5), dpi=80)\n",
        "plt.pie([len(Free_Apps),len(Paid_Apps)],labels=['Free_Apps','Paid_Apps'],explode=[0,0.2],autopct='%1.0f%%')\n",
        "plt.legend()\n",
        "plt.show()"
      ],
      "execution_count": null,
      "outputs": [
        {
          "output_type": "display_data",
          "data": {
            "image/png": "[encoded data removed]",
            "text/plain": [
              "<Figure size 400x400 with 1 Axes>"
            ]
          },
          "metadata": {}
        }
      ]
    },
    {
      "cell_type": "code",
      "metadata": {
        "id": "MwUmv3baYOLk",
        "colab": {
          "base_uri": "https://localhost:8080/",
          "height": 504
        },
        "outputId": "87143bbb-8161-443a-8096-c31428e1c87f"
      },
      "source": [
        "plt.figure(figsize=(7,7), dpi=80)\n",
        "plt.scatter(Paid_Apps['Price'],Paid_Apps['Maximum_Installs'],alpha=0.1)\n",
        "plt.xlabel('Price in USD')\n",
        "plt.ylabel('Number of Installs')\n",
        "plt.title('Relationship between Price and number of installs')\n",
        "plt.show()"
      ],
      "execution_count": null,
      "outputs": [
        {
          "output_type": "display_data",
          "data": {
            "image/png": "[encoded data removed]",
            "text/plain": [
              "<Figure size 560x560 with 1 Axes>"
            ]
          },
          "metadata": {
            "needs_background": "light"
          }
        }
      ]
    },
    {
      "cell_type": "code",
      "metadata": {
        "id": "Jq7xtsEcZFWf",
        "colab": {
          "base_uri": "https://localhost:8080/",
          "height": 504
        },
        "outputId": "f9191ab2-f96e-4479-9e8d-ced70a7cbc06"
      },
      "source": [
        "plt.figure(figsize=(7,7), dpi=80)\n",
        "plt.scatter(Paid_Apps.loc[Paid_Apps.Price>100]['Price'],Paid_Apps.loc[Paid_Apps.Price>100]['Maximum_Installs'],alpha=0.1)\n",
        "plt.xlabel('Price in USD')\n",
        "plt.ylabel('Number of Installs')\n",
        "plt.title('Relationship between Price and number of installs where price is greater than 100')\n",
        "plt.show()"
      ],
      "execution_count": null,
      "outputs": [
        {
          "output_type": "display_data",
          "data": {
            "image/png": "[encoded data removed]",
            "text/plain": [
              "<Figure size 560x560 with 1 Axes>"
            ]
          },
          "metadata": {
            "needs_background": "light"
          }
        }
      ]
    },
    {
      "cell_type": "code",
      "metadata": {
        "id": "RMxSdXy4ZqAI",
        "colab": {
          "base_uri": "https://localhost:8080/",
          "height": 1000
        },
        "outputId": "e8030ced-730a-4d45-dae4-4e35098856eb"
      },
      "source": [
        "Paid_Apps.loc[Paid_Apps.Price>350]"
      ],
      "execution_count": null,
      "outputs": [
        {
          "output_type": "execute_result",
          "data": {
            "text/html": [
              "<div>\n",
              "<style scoped>\n",
              "    .dataframe tbody tr th:only-of-type {\n",
              "        vertical-align: middle;\n",
              "    }\n",
              "\n",
              "    .dataframe tbody tr th {\n",
              "        vertical-align: top;\n",
              "    }\n",
              "\n",
              "    .dataframe thead th {\n",
              "        text-align: right;\n",
              "    }\n",
              "</style>\n",
              "<table border=\"1\" class=\"dataframe\">\n",
              "  <thead>\n",
              "    <tr style=\"text-align: right;\">\n",
              "      <th></th>\n",
              "      <th>App_Name</th>\n",
              "      <th>Category</th>\n",
              "      <th>Rating</th>\n",
              "      <th>Rating_Count</th>\n",
              "      <th>Maximum_Installs</th>\n",
              "      <th>Free</th>\n",
              "      <th>Price</th>\n",
              "      <th>Currency</th>\n",
              "      <th>Size</th>\n",
              "      <th>Minimum_Android</th>\n",
              "      <th>Developer_Id</th>\n",
              "      <th>Content_Rating</th>\n",
              "      <th>Ad_Supported</th>\n",
              "      <th>In_App_Purchases</th>\n",
              "      <th>Editors_Choice</th>\n",
              "      <th>Days</th>\n",
              "      <th>Updated</th>\n",
              "    </tr>\n",
              "  </thead>\n",
              "  <tbody>\n",
              "    <tr>\n",
              "      <th>20081</th>\n",
              "      <td>TEST EGY</td>\n",
              "      <td>Tools</td>\n",
              "      <td>0.0</td>\n",
              "      <td>0.0</td>\n",
              "      <td>0</td>\n",
              "      <td>False</td>\n",
              "      <td>399.99</td>\n",
              "      <td>USD</td>\n",
              "      <td>16384.0</td>\n",
              "      <td>5</td>\n",
              "      <td>Marten Jack</td>\n",
              "      <td>Everyone</td>\n",
              "      <td>False</td>\n",
              "      <td>False</td>\n",
              "      <td>False</td>\n",
              "      <td>359.0</td>\n",
              "      <td>True</td>\n",
              "    </tr>\n",
              "    <tr>\n",
              "      <th>264384</th>\n",
              "      <td>Taxes</td>\n",
              "      <td>Business</td>\n",
              "      <td>0.0</td>\n",
              "      <td>0.0</td>\n",
              "      <td>0</td>\n",
              "      <td>False</td>\n",
              "      <td>399.99</td>\n",
              "      <td>USD</td>\n",
              "      <td>3481.6</td>\n",
              "      <td>2</td>\n",
              "      <td>business555</td>\n",
              "      <td>Teen</td>\n",
              "      <td>False</td>\n",
              "      <td>False</td>\n",
              "      <td>False</td>\n",
              "      <td>439.0</td>\n",
              "      <td>True</td>\n",
              "    </tr>\n",
              "    <tr>\n",
              "      <th>279825</th>\n",
              "      <td>Accounting Provider for Green Office Flow</td>\n",
              "      <td>Tools</td>\n",
              "      <td>0.0</td>\n",
              "      <td>0.0</td>\n",
              "      <td>0</td>\n",
              "      <td>False</td>\n",
              "      <td>399.99</td>\n",
              "      <td>USD</td>\n",
              "      <td>1433.6</td>\n",
              "      <td>3</td>\n",
              "      <td>AHMAD HUSNI</td>\n",
              "      <td>Everyone</td>\n",
              "      <td>False</td>\n",
              "      <td>False</td>\n",
              "      <td>False</td>\n",
              "      <td>1154.0</td>\n",
              "      <td>True</td>\n",
              "    </tr>\n",
              "    <tr>\n",
              "      <th>326380</th>\n",
              "      <td>Most Expensive Chat</td>\n",
              "      <td>Social</td>\n",
              "      <td>0.0</td>\n",
              "      <td>0.0</td>\n",
              "      <td>1</td>\n",
              "      <td>False</td>\n",
              "      <td>379.99</td>\n",
              "      <td>USD</td>\n",
              "      <td>3276.8</td>\n",
              "      <td>2</td>\n",
              "      <td>ExpensiveDev</td>\n",
              "      <td>Teen</td>\n",
              "      <td>False</td>\n",
              "      <td>False</td>\n",
              "      <td>False</td>\n",
              "      <td>400.0</td>\n",
              "      <td>False</td>\n",
              "    </tr>\n",
              "    <tr>\n",
              "      <th>429979</th>\n",
              "      <td>Most Expensive Note Taking App to Ever Exist</td>\n",
              "      <td>Tools</td>\n",
              "      <td>0.0</td>\n",
              "      <td>0.0</td>\n",
              "      <td>3</td>\n",
              "      <td>False</td>\n",
              "      <td>379.99</td>\n",
              "      <td>USD</td>\n",
              "      <td>2252.8</td>\n",
              "      <td>4</td>\n",
              "      <td>Kyle Cox</td>\n",
              "      <td>Everyone</td>\n",
              "      <td>False</td>\n",
              "      <td>False</td>\n",
              "      <td>False</td>\n",
              "      <td>732.0</td>\n",
              "      <td>False</td>\n",
              "    </tr>\n",
              "    <tr>\n",
              "      <th>523395</th>\n",
              "      <td>Presidential Election Campaign</td>\n",
              "      <td>Simulation</td>\n",
              "      <td>0.0</td>\n",
              "      <td>0.0</td>\n",
              "      <td>5</td>\n",
              "      <td>False</td>\n",
              "      <td>379.99</td>\n",
              "      <td>USD</td>\n",
              "      <td>65536.0</td>\n",
              "      <td>5</td>\n",
              "      <td>MarcLee</td>\n",
              "      <td>Everyone</td>\n",
              "      <td>False</td>\n",
              "      <td>False</td>\n",
              "      <td>False</td>\n",
              "      <td>261.0</td>\n",
              "      <td>True</td>\n",
              "    </tr>\n",
              "    <tr>\n",
              "      <th>527096</th>\n",
              "      <td>Nothing the app</td>\n",
              "      <td>Puzzle</td>\n",
              "      <td>0.0</td>\n",
              "      <td>0.0</td>\n",
              "      <td>0</td>\n",
              "      <td>False</td>\n",
              "      <td>379.99</td>\n",
              "      <td>USD</td>\n",
              "      <td>11264.0</td>\n",
              "      <td>4</td>\n",
              "      <td>Dark Thoughts Entertainment</td>\n",
              "      <td>Everyone</td>\n",
              "      <td>False</td>\n",
              "      <td>False</td>\n",
              "      <td>False</td>\n",
              "      <td>666.0</td>\n",
              "      <td>True</td>\n",
              "    </tr>\n",
              "    <tr>\n",
              "      <th>530127</th>\n",
              "      <td>MESH Connect</td>\n",
              "      <td>Productivity</td>\n",
              "      <td>0.0</td>\n",
              "      <td>0.0</td>\n",
              "      <td>25</td>\n",
              "      <td>False</td>\n",
              "      <td>400.00</td>\n",
              "      <td>USD</td>\n",
              "      <td>20480.0</td>\n",
              "      <td>4</td>\n",
              "      <td>Go Evo</td>\n",
              "      <td>Everyone</td>\n",
              "      <td>False</td>\n",
              "      <td>False</td>\n",
              "      <td>False</td>\n",
              "      <td>1378.0</td>\n",
              "      <td>True</td>\n",
              "    </tr>\n",
              "    <tr>\n",
              "      <th>552399</th>\n",
              "      <td>Movies App - Latest, Upcoming, Popular Movies</td>\n",
              "      <td>Entertainment</td>\n",
              "      <td>4.4</td>\n",
              "      <td>5.0</td>\n",
              "      <td>27</td>\n",
              "      <td>False</td>\n",
              "      <td>354.99</td>\n",
              "      <td>USD</td>\n",
              "      <td>7680.0</td>\n",
              "      <td>5</td>\n",
              "      <td>Rams solanki</td>\n",
              "      <td>Everyone</td>\n",
              "      <td>False</td>\n",
              "      <td>False</td>\n",
              "      <td>False</td>\n",
              "      <td>648.0</td>\n",
              "      <td>True</td>\n",
              "    </tr>\n",
              "    <tr>\n",
              "      <th>625413</th>\n",
              "      <td>Challenge Impossible Ball for you</td>\n",
              "      <td>Arcade</td>\n",
              "      <td>5.0</td>\n",
              "      <td>6.0</td>\n",
              "      <td>4</td>\n",
              "      <td>False</td>\n",
              "      <td>399.99</td>\n",
              "      <td>USD</td>\n",
              "      <td>11264.0</td>\n",
              "      <td>4</td>\n",
              "      <td>Ibrahim Tornado</td>\n",
              "      <td>Everyone</td>\n",
              "      <td>False</td>\n",
              "      <td>False</td>\n",
              "      <td>False</td>\n",
              "      <td>463.0</td>\n",
              "      <td>True</td>\n",
              "    </tr>\n",
              "    <tr>\n",
              "      <th>633118</th>\n",
              "      <td>secret of life</td>\n",
              "      <td>Books &amp; Reference</td>\n",
              "      <td>0.0</td>\n",
              "      <td>0.0</td>\n",
              "      <td>0</td>\n",
              "      <td>False</td>\n",
              "      <td>399.99</td>\n",
              "      <td>USD</td>\n",
              "      <td>1536.0</td>\n",
              "      <td>4</td>\n",
              "      <td>Shaŕk</td>\n",
              "      <td>Everyone</td>\n",
              "      <td>False</td>\n",
              "      <td>False</td>\n",
              "      <td>False</td>\n",
              "      <td>1206.0</td>\n",
              "      <td>False</td>\n",
              "    </tr>\n",
              "    <tr>\n",
              "      <th>763626</th>\n",
              "      <td>Acid Reflux Treatment</td>\n",
              "      <td>Health &amp; Fitness</td>\n",
              "      <td>0.0</td>\n",
              "      <td>0.0</td>\n",
              "      <td>1</td>\n",
              "      <td>False</td>\n",
              "      <td>399.99</td>\n",
              "      <td>USD</td>\n",
              "      <td>3584.0</td>\n",
              "      <td>4</td>\n",
              "      <td>Happy Healthy Apps</td>\n",
              "      <td>Everyone</td>\n",
              "      <td>False</td>\n",
              "      <td>False</td>\n",
              "      <td>False</td>\n",
              "      <td>746.0</td>\n",
              "      <td>True</td>\n",
              "    </tr>\n",
              "    <tr>\n",
              "      <th>789746</th>\n",
              "      <td>Most Expensive Clicker</td>\n",
              "      <td>Casual</td>\n",
              "      <td>0.0</td>\n",
              "      <td>0.0</td>\n",
              "      <td>5</td>\n",
              "      <td>False</td>\n",
              "      <td>399.99</td>\n",
              "      <td>USD</td>\n",
              "      <td>15360.0</td>\n",
              "      <td>5</td>\n",
              "      <td>Sit Think Develop Earn Studio</td>\n",
              "      <td>Everyone</td>\n",
              "      <td>False</td>\n",
              "      <td>False</td>\n",
              "      <td>False</td>\n",
              "      <td>383.0</td>\n",
              "      <td>True</td>\n",
              "    </tr>\n",
              "    <tr>\n",
              "      <th>801360</th>\n",
              "      <td>Premium Luxury Watches - Luxury Watches Brands</td>\n",
              "      <td>Shopping</td>\n",
              "      <td>0.0</td>\n",
              "      <td>0.0</td>\n",
              "      <td>18</td>\n",
              "      <td>False</td>\n",
              "      <td>399.99</td>\n",
              "      <td>USD</td>\n",
              "      <td>11264.0</td>\n",
              "      <td>4</td>\n",
              "      <td>Happy Healthy Apps</td>\n",
              "      <td>Everyone</td>\n",
              "      <td>False</td>\n",
              "      <td>False</td>\n",
              "      <td>False</td>\n",
              "      <td>1017.0</td>\n",
              "      <td>True</td>\n",
              "    </tr>\n",
              "    <tr>\n",
              "      <th>888736</th>\n",
              "      <td>Luxsure</td>\n",
              "      <td>Entertainment</td>\n",
              "      <td>0.0</td>\n",
              "      <td>0.0</td>\n",
              "      <td>1</td>\n",
              "      <td>False</td>\n",
              "      <td>399.99</td>\n",
              "      <td>USD</td>\n",
              "      <td>37888.0</td>\n",
              "      <td>5</td>\n",
              "      <td>Luxsure Developer</td>\n",
              "      <td>Everyone</td>\n",
              "      <td>False</td>\n",
              "      <td>False</td>\n",
              "      <td>False</td>\n",
              "      <td>421.0</td>\n",
              "      <td>True</td>\n",
              "    </tr>\n",
              "    <tr>\n",
              "      <th>964598</th>\n",
              "      <td>Career Guidance/Consultation 2020</td>\n",
              "      <td>Education</td>\n",
              "      <td>0.0</td>\n",
              "      <td>0.0</td>\n",
              "      <td>0</td>\n",
              "      <td>False</td>\n",
              "      <td>354.99</td>\n",
              "      <td>USD</td>\n",
              "      <td>503.0</td>\n",
              "      <td>2</td>\n",
              "      <td>The Kid</td>\n",
              "      <td>Everyone</td>\n",
              "      <td>False</td>\n",
              "      <td>False</td>\n",
              "      <td>False</td>\n",
              "      <td>422.0</td>\n",
              "      <td>False</td>\n",
              "    </tr>\n",
              "    <tr>\n",
              "      <th>967840</th>\n",
              "      <td>C Programming Tutorial Pro</td>\n",
              "      <td>Education</td>\n",
              "      <td>0.0</td>\n",
              "      <td>0.0</td>\n",
              "      <td>8</td>\n",
              "      <td>False</td>\n",
              "      <td>354.99</td>\n",
              "      <td>USD</td>\n",
              "      <td>3686.4</td>\n",
              "      <td>2</td>\n",
              "      <td>Snowbell Studios</td>\n",
              "      <td>Everyone</td>\n",
              "      <td>False</td>\n",
              "      <td>False</td>\n",
              "      <td>False</td>\n",
              "      <td>1765.0</td>\n",
              "      <td>False</td>\n",
              "    </tr>\n",
              "    <tr>\n",
              "      <th>1200862</th>\n",
              "      <td>Autism &amp; Pervasive Developmental Disorders 4e</td>\n",
              "      <td>Medical</td>\n",
              "      <td>0.0</td>\n",
              "      <td>0.0</td>\n",
              "      <td>0</td>\n",
              "      <td>False</td>\n",
              "      <td>365.99</td>\n",
              "      <td>USD</td>\n",
              "      <td>8089.6</td>\n",
              "      <td>4</td>\n",
              "      <td>Indextra AB</td>\n",
              "      <td>Everyone</td>\n",
              "      <td>False</td>\n",
              "      <td>False</td>\n",
              "      <td>False</td>\n",
              "      <td>1214.0</td>\n",
              "      <td>False</td>\n",
              "    </tr>\n",
              "    <tr>\n",
              "      <th>1225105</th>\n",
              "      <td>RichWall</td>\n",
              "      <td>Social</td>\n",
              "      <td>0.0</td>\n",
              "      <td>0.0</td>\n",
              "      <td>0</td>\n",
              "      <td>False</td>\n",
              "      <td>399.99</td>\n",
              "      <td>USD</td>\n",
              "      <td>2969.6</td>\n",
              "      <td>4</td>\n",
              "      <td>Luis Pagola</td>\n",
              "      <td>Mature 17+</td>\n",
              "      <td>False</td>\n",
              "      <td>False</td>\n",
              "      <td>False</td>\n",
              "      <td>469.0</td>\n",
              "      <td>True</td>\n",
              "    </tr>\n",
              "    <tr>\n",
              "      <th>1269154</th>\n",
              "      <td>Youmeunit PRO — ver.4U4M34353RY1</td>\n",
              "      <td>Social</td>\n",
              "      <td>0.0</td>\n",
              "      <td>0.0</td>\n",
              "      <td>0</td>\n",
              "      <td>False</td>\n",
              "      <td>399.99</td>\n",
              "      <td>USD</td>\n",
              "      <td>11264.0</td>\n",
              "      <td>4</td>\n",
              "      <td>Misshapen Cloud</td>\n",
              "      <td>Everyone</td>\n",
              "      <td>False</td>\n",
              "      <td>True</td>\n",
              "      <td>False</td>\n",
              "      <td>244.0</td>\n",
              "      <td>True</td>\n",
              "    </tr>\n",
              "    <tr>\n",
              "      <th>1336651</th>\n",
              "      <td>Most expensive word game</td>\n",
              "      <td>Board</td>\n",
              "      <td>3.4</td>\n",
              "      <td>122.0</td>\n",
              "      <td>5523</td>\n",
              "      <td>False</td>\n",
              "      <td>399.99</td>\n",
              "      <td>USD</td>\n",
              "      <td>24576.0</td>\n",
              "      <td>4</td>\n",
              "      <td>Vadaaa</td>\n",
              "      <td>Everyone</td>\n",
              "      <td>True</td>\n",
              "      <td>False</td>\n",
              "      <td>False</td>\n",
              "      <td>400.0</td>\n",
              "      <td>True</td>\n",
              "    </tr>\n",
              "    <tr>\n",
              "      <th>1370913</th>\n",
              "      <td>VPN Tornado Pro - Paid Vpn 2021</td>\n",
              "      <td>Tools</td>\n",
              "      <td>0.0</td>\n",
              "      <td>0.0</td>\n",
              "      <td>7</td>\n",
              "      <td>False</td>\n",
              "      <td>389.99</td>\n",
              "      <td>USD</td>\n",
              "      <td>11264.0</td>\n",
              "      <td>4</td>\n",
              "      <td>ABDULLAH AL ABAD</td>\n",
              "      <td>Everyone</td>\n",
              "      <td>False</td>\n",
              "      <td>False</td>\n",
              "      <td>False</td>\n",
              "      <td>238.0</td>\n",
              "      <td>False</td>\n",
              "    </tr>\n",
              "    <tr>\n",
              "      <th>1378458</th>\n",
              "      <td>Plasma duct - Premium Game</td>\n",
              "      <td>Puzzle</td>\n",
              "      <td>3.5</td>\n",
              "      <td>88.0</td>\n",
              "      <td>3369</td>\n",
              "      <td>False</td>\n",
              "      <td>399.99</td>\n",
              "      <td>USD</td>\n",
              "      <td>18432.0</td>\n",
              "      <td>4</td>\n",
              "      <td>Synthesis</td>\n",
              "      <td>Everyone</td>\n",
              "      <td>False</td>\n",
              "      <td>True</td>\n",
              "      <td>False</td>\n",
              "      <td>835.0</td>\n",
              "      <td>True</td>\n",
              "    </tr>\n",
              "    <tr>\n",
              "      <th>1422866</th>\n",
              "      <td>I am very RICH</td>\n",
              "      <td>Lifestyle</td>\n",
              "      <td>0.0</td>\n",
              "      <td>0.0</td>\n",
              "      <td>0</td>\n",
              "      <td>False</td>\n",
              "      <td>394.99</td>\n",
              "      <td>USD</td>\n",
              "      <td>8601.6</td>\n",
              "      <td>4</td>\n",
              "      <td>ZioCain</td>\n",
              "      <td>Everyone</td>\n",
              "      <td>False</td>\n",
              "      <td>False</td>\n",
              "      <td>False</td>\n",
              "      <td>338.0</td>\n",
              "      <td>False</td>\n",
              "    </tr>\n",
              "    <tr>\n",
              "      <th>1433059</th>\n",
              "      <td>[Legacy] Alarmy (Sleep If U Can)</td>\n",
              "      <td>Lifestyle</td>\n",
              "      <td>4.1</td>\n",
              "      <td>11534.0</td>\n",
              "      <td>45305</td>\n",
              "      <td>False</td>\n",
              "      <td>379.99</td>\n",
              "      <td>USD</td>\n",
              "      <td>43008.0</td>\n",
              "      <td>4</td>\n",
              "      <td>Alarm Clock Alarmy</td>\n",
              "      <td>Everyone</td>\n",
              "      <td>False</td>\n",
              "      <td>False</td>\n",
              "      <td>False</td>\n",
              "      <td>3118.0</td>\n",
              "      <td>True</td>\n",
              "    </tr>\n",
              "    <tr>\n",
              "      <th>1501981</th>\n",
              "      <td>JAVAD Mobile Tools</td>\n",
              "      <td>Tools</td>\n",
              "      <td>3.7</td>\n",
              "      <td>141.0</td>\n",
              "      <td>1114</td>\n",
              "      <td>False</td>\n",
              "      <td>389.99</td>\n",
              "      <td>USD</td>\n",
              "      <td>34816.0</td>\n",
              "      <td>4</td>\n",
              "      <td>JAVAD GNSS INC</td>\n",
              "      <td>Everyone</td>\n",
              "      <td>False</td>\n",
              "      <td>False</td>\n",
              "      <td>False</td>\n",
              "      <td>2574.0</td>\n",
              "      <td>True</td>\n",
              "    </tr>\n",
              "    <tr>\n",
              "      <th>1504425</th>\n",
              "      <td>Baby Nightmares</td>\n",
              "      <td>Arcade</td>\n",
              "      <td>0.0</td>\n",
              "      <td>0.0</td>\n",
              "      <td>5</td>\n",
              "      <td>False</td>\n",
              "      <td>399.99</td>\n",
              "      <td>USD</td>\n",
              "      <td>12288.0</td>\n",
              "      <td>4</td>\n",
              "      <td>Andari Bros</td>\n",
              "      <td>Everyone</td>\n",
              "      <td>False</td>\n",
              "      <td>False</td>\n",
              "      <td>False</td>\n",
              "      <td>553.0</td>\n",
              "      <td>True</td>\n",
              "    </tr>\n",
              "    <tr>\n",
              "      <th>1524500</th>\n",
              "      <td>I'm Rich - VIP Club Limited</td>\n",
              "      <td>Business</td>\n",
              "      <td>0.0</td>\n",
              "      <td>0.0</td>\n",
              "      <td>0</td>\n",
              "      <td>False</td>\n",
              "      <td>399.99</td>\n",
              "      <td>USD</td>\n",
              "      <td>9216.0</td>\n",
              "      <td>2</td>\n",
              "      <td>Project Games Inc</td>\n",
              "      <td>Everyone</td>\n",
              "      <td>False</td>\n",
              "      <td>False</td>\n",
              "      <td>False</td>\n",
              "      <td>1267.0</td>\n",
              "      <td>False</td>\n",
              "    </tr>\n",
              "    <tr>\n",
              "      <th>1527779</th>\n",
              "      <td>Most Expensive Wordsearch</td>\n",
              "      <td>Word</td>\n",
              "      <td>0.0</td>\n",
              "      <td>0.0</td>\n",
              "      <td>0</td>\n",
              "      <td>False</td>\n",
              "      <td>384.99</td>\n",
              "      <td>USD</td>\n",
              "      <td>7680.0</td>\n",
              "      <td>4</td>\n",
              "      <td>Bubblwords</td>\n",
              "      <td>Everyone</td>\n",
              "      <td>False</td>\n",
              "      <td>False</td>\n",
              "      <td>False</td>\n",
              "      <td>572.0</td>\n",
              "      <td>False</td>\n",
              "    </tr>\n",
              "    <tr>\n",
              "      <th>1557012</th>\n",
              "      <td>10.000 Moving Cities – Same but Different</td>\n",
              "      <td>Art &amp; Design</td>\n",
              "      <td>0.0</td>\n",
              "      <td>0.0</td>\n",
              "      <td>6</td>\n",
              "      <td>False</td>\n",
              "      <td>354.99</td>\n",
              "      <td>USD</td>\n",
              "      <td>49152.0</td>\n",
              "      <td>5</td>\n",
              "      <td>MarcLee</td>\n",
              "      <td>Everyone 10+</td>\n",
              "      <td>False</td>\n",
              "      <td>False</td>\n",
              "      <td>False</td>\n",
              "      <td>963.0</td>\n",
              "      <td>True</td>\n",
              "    </tr>\n",
              "    <tr>\n",
              "      <th>1558280</th>\n",
              "      <td>Точки интереса</td>\n",
              "      <td>Maps &amp; Navigation</td>\n",
              "      <td>4.1</td>\n",
              "      <td>261.0</td>\n",
              "      <td>1000</td>\n",
              "      <td>False</td>\n",
              "      <td>399.99</td>\n",
              "      <td>USD</td>\n",
              "      <td>8294.4</td>\n",
              "      <td>2</td>\n",
              "      <td>Serhii Mahda,Dmytro Gumburov,Veresh Stepan</td>\n",
              "      <td>Teen</td>\n",
              "      <td>False</td>\n",
              "      <td>False</td>\n",
              "      <td>False</td>\n",
              "      <td>1074.0</td>\n",
              "      <td>True</td>\n",
              "    </tr>\n",
              "    <tr>\n",
              "      <th>1611672</th>\n",
              "      <td>PSC Login</td>\n",
              "      <td>Education</td>\n",
              "      <td>0.0</td>\n",
              "      <td>0.0</td>\n",
              "      <td>1</td>\n",
              "      <td>False</td>\n",
              "      <td>364.99</td>\n",
              "      <td>USD</td>\n",
              "      <td>3174.4</td>\n",
              "      <td>2</td>\n",
              "      <td>Air Palace</td>\n",
              "      <td>Everyone</td>\n",
              "      <td>False</td>\n",
              "      <td>False</td>\n",
              "      <td>False</td>\n",
              "      <td>869.0</td>\n",
              "      <td>True</td>\n",
              "    </tr>\n",
              "    <tr>\n",
              "      <th>1613609</th>\n",
              "      <td>Report Form Pro Nitro</td>\n",
              "      <td>Productivity</td>\n",
              "      <td>0.0</td>\n",
              "      <td>0.0</td>\n",
              "      <td>12</td>\n",
              "      <td>False</td>\n",
              "      <td>399.99</td>\n",
              "      <td>USD</td>\n",
              "      <td>19456.0</td>\n",
              "      <td>5</td>\n",
              "      <td>Home Inspection Report</td>\n",
              "      <td>Everyone</td>\n",
              "      <td>False</td>\n",
              "      <td>False</td>\n",
              "      <td>False</td>\n",
              "      <td>672.0</td>\n",
              "      <td>True</td>\n",
              "    </tr>\n",
              "    <tr>\n",
              "      <th>1726899</th>\n",
              "      <td>Auto File Transfer (deprecated)</td>\n",
              "      <td>Tools</td>\n",
              "      <td>4.3</td>\n",
              "      <td>44.0</td>\n",
              "      <td>695</td>\n",
              "      <td>False</td>\n",
              "      <td>394.99</td>\n",
              "      <td>USD</td>\n",
              "      <td>528.0</td>\n",
              "      <td>5</td>\n",
              "      <td>Noople</td>\n",
              "      <td>Everyone</td>\n",
              "      <td>False</td>\n",
              "      <td>False</td>\n",
              "      <td>False</td>\n",
              "      <td>1252.0</td>\n",
              "      <td>True</td>\n",
              "    </tr>\n",
              "    <tr>\n",
              "      <th>1762432</th>\n",
              "      <td>AudD</td>\n",
              "      <td>Music &amp; Audio</td>\n",
              "      <td>3.2</td>\n",
              "      <td>66.0</td>\n",
              "      <td>4397</td>\n",
              "      <td>False</td>\n",
              "      <td>399.99</td>\n",
              "      <td>USD</td>\n",
              "      <td>2150.4</td>\n",
              "      <td>5</td>\n",
              "      <td>AudD, LLC</td>\n",
              "      <td>Everyone</td>\n",
              "      <td>False</td>\n",
              "      <td>False</td>\n",
              "      <td>False</td>\n",
              "      <td>1215.0</td>\n",
              "      <td>False</td>\n",
              "    </tr>\n",
              "    <tr>\n",
              "      <th>1812019</th>\n",
              "      <td>Nu Media TV Live</td>\n",
              "      <td>Dating</td>\n",
              "      <td>0.0</td>\n",
              "      <td>0.0</td>\n",
              "      <td>2</td>\n",
              "      <td>False</td>\n",
              "      <td>399.99</td>\n",
              "      <td>USD</td>\n",
              "      <td>45056.0</td>\n",
              "      <td>5</td>\n",
              "      <td>Nu Media Tech</td>\n",
              "      <td>Mature 17+</td>\n",
              "      <td>True</td>\n",
              "      <td>True</td>\n",
              "      <td>False</td>\n",
              "      <td>245.0</td>\n",
              "      <td>True</td>\n",
              "    </tr>\n",
              "    <tr>\n",
              "      <th>1949564</th>\n",
              "      <td>Most Expensive NOTHING</td>\n",
              "      <td>Lifestyle</td>\n",
              "      <td>0.0</td>\n",
              "      <td>0.0</td>\n",
              "      <td>0</td>\n",
              "      <td>False</td>\n",
              "      <td>369.99</td>\n",
              "      <td>USD</td>\n",
              "      <td>3788.8</td>\n",
              "      <td>4</td>\n",
              "      <td>P3TRK</td>\n",
              "      <td>Everyone</td>\n",
              "      <td>False</td>\n",
              "      <td>False</td>\n",
              "      <td>False</td>\n",
              "      <td>585.0</td>\n",
              "      <td>True</td>\n",
              "    </tr>\n",
              "    <tr>\n",
              "      <th>1970038</th>\n",
              "      <td>Series Addict Pro - TV Guide</td>\n",
              "      <td>Entertainment</td>\n",
              "      <td>4.1</td>\n",
              "      <td>58.0</td>\n",
              "      <td>639</td>\n",
              "      <td>False</td>\n",
              "      <td>399.99</td>\n",
              "      <td>USD</td>\n",
              "      <td>5529.6</td>\n",
              "      <td>5</td>\n",
              "      <td>Raquib-ul Alam</td>\n",
              "      <td>Teen</td>\n",
              "      <td>False</td>\n",
              "      <td>False</td>\n",
              "      <td>False</td>\n",
              "      <td>2443.0</td>\n",
              "      <td>True</td>\n",
              "    </tr>\n",
              "  </tbody>\n",
              "</table>\n",
              "</div>"
            ],
            "text/plain": [
              "                                               App_Name  ... Updated\n",
              "20081                                          TEST EGY  ...    True\n",
              "264384                                            Taxes  ...    True\n",
              "279825        Accounting Provider for Green Office Flow  ...    True\n",
              "326380                              Most Expensive Chat  ...   False\n",
              "429979     Most Expensive Note Taking App to Ever Exist  ...   False\n",
              "523395                   Presidential Election Campaign  ...    True\n",
              "527096                                  Nothing the app  ...    True\n",
              "530127                                     MESH Connect  ...    True\n",
              "552399    Movies App - Latest, Upcoming, Popular Movies  ...    True\n",
              "625413                Challenge Impossible Ball for you  ...    True\n",
              "633118                                   secret of life  ...   False\n",
              "763626                            Acid Reflux Treatment  ...    True\n",
              "789746                           Most Expensive Clicker  ...    True\n",
              "801360   Premium Luxury Watches - Luxury Watches Brands  ...    True\n",
              "888736                                          Luxsure  ...    True\n",
              "964598                Career Guidance/Consultation 2020  ...   False\n",
              "967840                       C Programming Tutorial Pro  ...   False\n",
              "1200862   Autism & Pervasive Developmental Disorders 4e  ...   False\n",
              "1225105                                        RichWall  ...    True\n",
              "1269154                Youmeunit PRO — ver.4U4M34353RY1  ...    True\n",
              "1336651                        Most expensive word game  ...    True\n",
              "1370913                 VPN Tornado Pro - Paid Vpn 2021  ...   False\n",
              "1378458                      Plasma duct - Premium Game  ...    True\n",
              "1422866                                  I am very RICH  ...   False\n",
              "1433059                [Legacy] Alarmy (Sleep If U Can)  ...    True\n",
              "1501981                              JAVAD Mobile Tools  ...    True\n",
              "1504425                                 Baby Nightmares  ...    True\n",
              "1524500                     I'm Rich - VIP Club Limited  ...   False\n",
              "1527779                       Most Expensive Wordsearch  ...   False\n",
              "1557012       10.000 Moving Cities – Same but Different  ...    True\n",
              "1558280                                  Точки интереса  ...    True\n",
              "1611672                                       PSC Login  ...    True\n",
              "1613609                           Report Form Pro Nitro  ...    True\n",
              "1726899                 Auto File Transfer (deprecated)  ...    True\n",
              "1762432                                            AudD  ...   False\n",
              "1812019                                Nu Media TV Live  ...    True\n",
              "1949564                          Most Expensive NOTHING  ...    True\n",
              "1970038                    Series Addict Pro - TV Guide  ...    True\n",
              "\n",
              "[38 rows x 17 columns]"
            ]
          },
          "metadata": {},
          "execution_count": 131
        }
      ]
    },
    {
      "cell_type": "markdown",
      "metadata": {
        "id": "7t_F3RkWbmEB"
      },
      "source": [
        "From here we can see there are many apps having price 399.99"
      ]
    },
    {
      "cell_type": "code",
      "metadata": {
        "id": "NkJ66B8xddKS"
      },
      "source": [
        "import seaborn as sns"
      ],
      "execution_count": null,
      "outputs": []
    },
    {
      "cell_type": "code",
      "metadata": {
        "id": "bIodO_ZJfMM-",
        "colab": {
          "base_uri": "https://localhost:8080/",
          "height": 684
        },
        "outputId": "be214ead-9583-411e-c065-08d775518fba"
      },
      "source": [
        "plt.figure(figsize=(8,8), dpi=80)\n",
        "sns.histplot(data=df,x='Category',hue='Free',multiple=\"dodge\")\n",
        "plt.xticks(rotation = 90)\n",
        "plt.title(\"Category and number of apps in that category\")\n",
        "plt.show()"
      ],
      "execution_count": null,
      "outputs": [
        {
          "output_type": "display_data",
          "data": {
            "image/png": "[encoded data removed]",
            "text/plain": [
              "<Figure size 640x640 with 1 Axes>"
            ]
          },
          "metadata": {
            "needs_background": "light"
          }
        }
      ]
    },
    {
      "cell_type": "code",
      "metadata": {
        "id": "MN1xgeS4jyQa",
        "colab": {
          "base_uri": "https://localhost:8080/",
          "height": 668
        },
        "outputId": "3f6f729f-d28a-448c-b8a3-1d79f8298f46"
      },
      "source": [
        "plt.figure(figsize=(8,8), dpi=80)\n",
        "sns.histplot(data=Paid_Apps,x='Category')\n",
        "plt.xticks(rotation = 90)\n",
        "plt.show()"
      ],
      "execution_count": null,
      "outputs": [
        {
          "output_type": "display_data",
          "data": {
            "image/png": "[encoded data removed]",
            "text/plain": [
              "<Figure size 640x640 with 1 Axes>"
            ]
          },
          "metadata": {
            "needs_background": "light"
          }
        }
      ]
    },
    {
      "cell_type": "markdown",
      "metadata": {
        "id": "Qxpza3PbkhFz"
      },
      "source": [
        "From Here we can see that for both free and paid apps education is dominating category"
      ]
    },
    {
      "cell_type": "code",
      "metadata": {
        "id": "ZbGfejvskgcc",
        "colab": {
          "base_uri": "https://localhost:8080/",
          "height": 556
        },
        "outputId": "cd93315c-9fbe-47ff-ddb2-470d18023975"
      },
      "source": [
        "plt.figure(figsize=(8,8), dpi=80)\n",
        "sns.histplot(data=df,x='Rating',hue='Free',multiple=\"dodge\")\n",
        "plt.xticks(rotation = 90)\n",
        "plt.show()"
      ],
      "execution_count": null,
      "outputs": [
        {
          "output_type": "display_data",
          "data": {
            "image/png": "[encoded data removed]",
            "text/plain": [
              "<Figure size 640x640 with 1 Axes>"
            ]
          },
          "metadata": {
            "needs_background": "light"
          }
        }
      ]
    },
    {
      "cell_type": "code",
      "metadata": {
        "id": "haTuLtCdlABk",
        "colab": {
          "base_uri": "https://localhost:8080/",
          "height": 562
        },
        "outputId": "097d8784-9ab7-46db-b8d9-d003d6ef3822"
      },
      "source": [
        "plt.figure(figsize=(8,8), dpi=80)\n",
        "sns.histplot(data=Paid_Apps,x='Rating')\n",
        "plt.xticks(rotation = 90)\n",
        "plt.title(\"Rating counts for Paid apps\")\n",
        "plt.show()"
      ],
      "execution_count": null,
      "outputs": [
        {
          "output_type": "display_data",
          "data": {
            "image/png": "[encoded data removed]",
            "text/plain": [
              "<Figure size 640x640 with 1 Axes>"
            ]
          },
          "metadata": {
            "needs_background": "light"
          }
        }
      ]
    },
    {
      "cell_type": "code",
      "metadata": {
        "colab": {
          "base_uri": "https://localhost:8080/",
          "height": 562
        },
        "id": "nZEIEU1p8O5d",
        "outputId": "35b93407-2228-4d07-be47-d51ea7ec113b"
      },
      "source": [
        "plt.figure(figsize=(8,8), dpi=80)\n",
        "sns.histplot(data=Free_Apps,x='Rating')\n",
        "plt.xticks(rotation = 90)\n",
        "plt.title(\"Rating counts for Free apps\")\n",
        "plt.show()"
      ],
      "execution_count": null,
      "outputs": [
        {
          "output_type": "display_data",
          "data": {
            "image/png": "[encoded data removed]",
            "text/plain": [
              "<Figure size 640x640 with 1 Axes>"
            ]
          },
          "metadata": {
            "needs_background": "light"
          }
        }
      ]
    },
    {
      "cell_type": "markdown",
      "metadata": {
        "id": "WFmP-mIOlFPn"
      },
      "source": [
        "0 is maximum number of ratings"
      ]
    },
    {
      "cell_type": "code",
      "metadata": {
        "id": "ImAxuJA5lTac",
        "colab": {
          "base_uri": "https://localhost:8080/",
          "height": 565
        },
        "outputId": "d8450fb1-bfbe-450d-d28c-24e590a54d92"
      },
      "source": [
        "plt.figure(figsize=(8,8), dpi=80)\n",
        "plt.scatter(Free_Apps.Rating,Free_Apps.Maximum_Installs,alpha=0.1)\n",
        "plt.xlabel('Rating')\n",
        "plt.ylabel('Number of Installs')\n",
        "plt.title('Relationship between Rating and number of installs for free apps')\n",
        "plt.show()"
      ],
      "execution_count": null,
      "outputs": [
        {
          "output_type": "display_data",
          "data": {
            "image/png": "[encoded data removed]",
            "text/plain": [
              "<Figure size 640x640 with 1 Axes>"
            ]
          },
          "metadata": {
            "needs_background": "light"
          }
        }
      ]
    },
    {
      "cell_type": "code",
      "metadata": {
        "id": "qviN7KZykU-1",
        "colab": {
          "base_uri": "https://localhost:8080/",
          "height": 565
        },
        "outputId": "a726a726-2e52-4a4d-9971-4863d8a1c183"
      },
      "source": [
        "plt.figure(figsize=(8,8), dpi=80)\n",
        "plt.scatter(Paid_Apps.Rating,Paid_Apps.Maximum_Installs,alpha=0.1,c='r')\n",
        "plt.xlabel('Rating')\n",
        "plt.ylabel('Number of Installs')\n",
        "plt.title('Relationship between Rating and number of installs for paid apps')\n",
        "plt.show()"
      ],
      "execution_count": null,
      "outputs": [
        {
          "output_type": "display_data",
          "data": {
            "image/png": "[encoded data removed]",
            "text/plain": [
              "<Figure size 640x640 with 1 Axes>"
            ]
          },
          "metadata": {
            "needs_background": "light"
          }
        }
      ]
    },
    {
      "cell_type": "code",
      "metadata": {
        "id": "_nfVo3xntTbg",
        "colab": {
          "base_uri": "https://localhost:8080/",
          "height": 565
        },
        "outputId": "c8c632c3-f56f-4d67-f2e0-4b1e4eb55df1"
      },
      "source": [
        "plt.figure(figsize=(9,8), dpi=80)\n",
        "plt.scatter(Free_Apps.Rating_Count,Free_Apps.Maximum_Installs,alpha=0.1)\n",
        "plt.xlabel('Rating_Count')\n",
        "plt.ylabel('Number of Installs')\n",
        "plt.title('Relationship between no. of Ratings and number of installs for free apps')\n",
        "plt.show()"
      ],
      "execution_count": null,
      "outputs": [
        {
          "output_type": "display_data",
          "data": {
            "image/png": "[encoded data removed]",
            "text/plain": [
              "<Figure size 720x640 with 1 Axes>"
            ]
          },
          "metadata": {
            "needs_background": "light"
          }
        }
      ]
    },
    {
      "cell_type": "code",
      "metadata": {
        "id": "1LLi0vvUtl0_",
        "colab": {
          "base_uri": "https://localhost:8080/",
          "height": 565
        },
        "outputId": "92a90e65-936f-4184-9449-f39ce0bacdee"
      },
      "source": [
        "plt.figure(figsize=(9,8), dpi=80)\n",
        "plt.scatter(Paid_Apps.Rating_Count,Paid_Apps.Maximum_Installs,alpha=0.1,c='r')\n",
        "plt.xlabel('Rating_Count')\n",
        "plt.ylabel('Number of Installs')\n",
        "plt.title('Relationship between no. of Ratings and number of installs for paid apps')\n",
        "plt.show()"
      ],
      "execution_count": null,
      "outputs": [
        {
          "output_type": "display_data",
          "data": {
            "image/png": "[encoded data removed]",
            "text/plain": [
              "<Figure size 720x640 with 1 Axes>"
            ]
          },
          "metadata": {
            "needs_background": "light"
          }
        }
      ]
    },
    {
      "cell_type": "code",
      "metadata": {
        "id": "_cJ_WSZWttDP",
        "colab": {
          "base_uri": "https://localhost:8080/",
          "height": 216
        },
        "outputId": "c20c2a08-54ef-4fc8-e251-8f2a5a8d9503"
      },
      "source": [
        "df.head(2)"
      ],
      "execution_count": null,
      "outputs": [
        {
          "output_type": "execute_result",
          "data": {
            "text/html": [
              "<div>\n",
              "<style scoped>\n",
              "    .dataframe tbody tr th:only-of-type {\n",
              "        vertical-align: middle;\n",
              "    }\n",
              "\n",
              "    .dataframe tbody tr th {\n",
              "        vertical-align: top;\n",
              "    }\n",
              "\n",
              "    .dataframe thead th {\n",
              "        text-align: right;\n",
              "    }\n",
              "</style>\n",
              "<table border=\"1\" class=\"dataframe\">\n",
              "  <thead>\n",
              "    <tr style=\"text-align: right;\">\n",
              "      <th></th>\n",
              "      <th>App_Name</th>\n",
              "      <th>Category</th>\n",
              "      <th>Rating</th>\n",
              "      <th>Rating_Count</th>\n",
              "      <th>Maximum_Installs</th>\n",
              "      <th>Free</th>\n",
              "      <th>Price</th>\n",
              "      <th>Currency</th>\n",
              "      <th>Size</th>\n",
              "      <th>Minimum_Android</th>\n",
              "      <th>Developer_Id</th>\n",
              "      <th>Content_Rating</th>\n",
              "      <th>Ad_Supported</th>\n",
              "      <th>In_App_Purchases</th>\n",
              "      <th>Editors_Choice</th>\n",
              "      <th>Days</th>\n",
              "      <th>Updated</th>\n",
              "    </tr>\n",
              "  </thead>\n",
              "  <tbody>\n",
              "    <tr>\n",
              "      <th>0</th>\n",
              "      <td>Gakondo</td>\n",
              "      <td>Adventure</td>\n",
              "      <td>0.0</td>\n",
              "      <td>0.0</td>\n",
              "      <td>15</td>\n",
              "      <td>True</td>\n",
              "      <td>0.0</td>\n",
              "      <td>USD</td>\n",
              "      <td>10240.0</td>\n",
              "      <td>7</td>\n",
              "      <td>Jean Confident Irénée NIYIZIBYOSE</td>\n",
              "      <td>Everyone</td>\n",
              "      <td>False</td>\n",
              "      <td>False</td>\n",
              "      <td>False</td>\n",
              "      <td>475.0</td>\n",
              "      <td>False</td>\n",
              "    </tr>\n",
              "    <tr>\n",
              "      <th>1</th>\n",
              "      <td>Ampere Battery Info</td>\n",
              "      <td>Tools</td>\n",
              "      <td>4.4</td>\n",
              "      <td>64.0</td>\n",
              "      <td>7662</td>\n",
              "      <td>True</td>\n",
              "      <td>0.0</td>\n",
              "      <td>USD</td>\n",
              "      <td>2969.6</td>\n",
              "      <td>5</td>\n",
              "      <td>Webserveis</td>\n",
              "      <td>Everyone</td>\n",
              "      <td>True</td>\n",
              "      <td>False</td>\n",
              "      <td>False</td>\n",
              "      <td>390.0</td>\n",
              "      <td>True</td>\n",
              "    </tr>\n",
              "  </tbody>\n",
              "</table>\n",
              "</div>"
            ],
            "text/plain": [
              "              App_Name   Category  Rating  ...  Editors_Choice   Days  Updated\n",
              "0              Gakondo  Adventure     0.0  ...           False  475.0    False\n",
              "1  Ampere Battery Info      Tools     4.4  ...           False  390.0     True\n",
              "\n",
              "[2 rows x 17 columns]"
            ]
          },
          "metadata": {},
          "execution_count": 141
        }
      ]
    },
    {
      "cell_type": "code",
      "metadata": {
        "id": "TxDOGFXEu0Zj",
        "colab": {
          "base_uri": "https://localhost:8080/",
          "height": 565
        },
        "outputId": "d3cadad3-0d8a-4f5e-fc25-0dc1018b9a4c"
      },
      "source": [
        "plt.figure(figsize=(9,8), dpi=80)\n",
        "plt.scatter(df.Days,df.Maximum_Installs,alpha=0.1,c='b')\n",
        "plt.xlabel('No. of Days')\n",
        "plt.ylabel('Number of Installs')\n",
        "plt.title('Relationship between no. of Days and number of installs for apps')\n",
        "plt.show()"
      ],
      "execution_count": null,
      "outputs": [
        {
          "output_type": "display_data",
          "data": {
            "image/png": "[encoded data removed]",
            "text/plain": [
              "<Figure size 720x640 with 1 Axes>"
            ]
          },
          "metadata": {
            "needs_background": "light"
          }
        }
      ]
    },
    {
      "cell_type": "code",
      "metadata": {
        "id": "Yj5xKWTq0K1t",
        "colab": {
          "base_uri": "https://localhost:8080/",
          "height": 565
        },
        "outputId": "246de800-d9cb-48e2-a067-12bf17c26afe"
      },
      "source": [
        "plt.figure(figsize=(9,8), dpi=80)\n",
        "plt.scatter(df.Size,df.Maximum_Installs,alpha=0.1,c='b')\n",
        "plt.xlabel('Size in kb')\n",
        "plt.ylabel('Number of Installs')\n",
        "plt.title('Relationship between size and number of installs for apps')\n",
        "plt.show()"
      ],
      "execution_count": null,
      "outputs": [
        {
          "output_type": "display_data",
          "data": {
            "image/png": "[encoded data removed]",
            "text/plain": [
              "<Figure size 720x640 with 1 Axes>"
            ]
          },
          "metadata": {
            "needs_background": "light"
          }
        }
      ]
    },
    {
      "cell_type": "code",
      "metadata": {
        "id": "VF9T5YIX1Yxa",
        "colab": {
          "base_uri": "https://localhost:8080/",
          "height": 151
        },
        "outputId": "ebb13976-b468-40e2-f857-c2a8658111c4"
      },
      "source": [
        "df.head(1)"
      ],
      "execution_count": null,
      "outputs": [
        {
          "output_type": "execute_result",
          "data": {
            "text/html": [
              "<div>\n",
              "<style scoped>\n",
              "    .dataframe tbody tr th:only-of-type {\n",
              "        vertical-align: middle;\n",
              "    }\n",
              "\n",
              "    .dataframe tbody tr th {\n",
              "        vertical-align: top;\n",
              "    }\n",
              "\n",
              "    .dataframe thead th {\n",
              "        text-align: right;\n",
              "    }\n",
              "</style>\n",
              "<table border=\"1\" class=\"dataframe\">\n",
              "  <thead>\n",
              "    <tr style=\"text-align: right;\">\n",
              "      <th></th>\n",
              "      <th>App_Name</th>\n",
              "      <th>Category</th>\n",
              "      <th>Rating</th>\n",
              "      <th>Rating_Count</th>\n",
              "      <th>Maximum_Installs</th>\n",
              "      <th>Free</th>\n",
              "      <th>Price</th>\n",
              "      <th>Currency</th>\n",
              "      <th>Size</th>\n",
              "      <th>Minimum_Android</th>\n",
              "      <th>Developer_Id</th>\n",
              "      <th>Content_Rating</th>\n",
              "      <th>Ad_Supported</th>\n",
              "      <th>In_App_Purchases</th>\n",
              "      <th>Editors_Choice</th>\n",
              "      <th>Days</th>\n",
              "      <th>Updated</th>\n",
              "    </tr>\n",
              "  </thead>\n",
              "  <tbody>\n",
              "    <tr>\n",
              "      <th>0</th>\n",
              "      <td>Gakondo</td>\n",
              "      <td>Adventure</td>\n",
              "      <td>0.0</td>\n",
              "      <td>0.0</td>\n",
              "      <td>15</td>\n",
              "      <td>True</td>\n",
              "      <td>0.0</td>\n",
              "      <td>USD</td>\n",
              "      <td>10240.0</td>\n",
              "      <td>7</td>\n",
              "      <td>Jean Confident Irénée NIYIZIBYOSE</td>\n",
              "      <td>Everyone</td>\n",
              "      <td>False</td>\n",
              "      <td>False</td>\n",
              "      <td>False</td>\n",
              "      <td>475.0</td>\n",
              "      <td>False</td>\n",
              "    </tr>\n",
              "  </tbody>\n",
              "</table>\n",
              "</div>"
            ],
            "text/plain": [
              "  App_Name   Category  Rating  ...  Editors_Choice   Days  Updated\n",
              "0  Gakondo  Adventure     0.0  ...           False  475.0    False\n",
              "\n",
              "[1 rows x 17 columns]"
            ]
          },
          "metadata": {},
          "execution_count": 144
        }
      ]
    },
    {
      "cell_type": "code",
      "metadata": {
        "id": "RkuSMSHs1WHY"
      },
      "source": [
        "data_content = df.Content_Rating.value_counts()"
      ],
      "execution_count": null,
      "outputs": []
    },
    {
      "cell_type": "code",
      "metadata": {
        "id": "WWByar9E16IT"
      },
      "source": [
        "c_name=[]\n",
        "c_value=[]\n",
        "for a,b in data_content.items():\n",
        "  c_name.append(a)\n",
        "  c_value.append(b)"
      ],
      "execution_count": null,
      "outputs": []
    },
    {
      "cell_type": "code",
      "metadata": {
        "id": "ims6jKNk3Hxs"
      },
      "source": [
        ""
      ],
      "execution_count": null,
      "outputs": []
    },
    {
      "cell_type": "code",
      "metadata": {
        "id": "qpQ3X-Xz0pLb",
        "colab": {
          "base_uri": "https://localhost:8080/",
          "height": 472
        },
        "outputId": "c2b0e90b-f751-47de-c911-fe8faefcb722"
      },
      "source": [
        "plt.figure(figsize=(7,7), dpi=80)\n",
        "plt.pie(c_value,labels=c_name,autopct='%0.2f%%',explode=[0.2,0.2,0.2,0.2,0.2,0.2])\n",
        "plt.legend()\n",
        "plt.title(\"Content Rating\")\n",
        "plt.show()"
      ],
      "execution_count": null,
      "outputs": [
        {
          "output_type": "display_data",
          "data": {
            "image/png": "[encoded data removed]",
            "text/plain": [
              "<Figure size 560x560 with 1 Axes>"
            ]
          },
          "metadata": {}
        }
      ]
    },
    {
      "cell_type": "code",
      "metadata": {
        "id": "itwyDOFe2yvO",
        "colab": {
          "base_uri": "https://localhost:8080/",
          "height": 335
        },
        "outputId": "2acf7671-c63d-4e6e-d9b5-c2da2fc026f5"
      },
      "source": [
        "plt.figure(figsize=(5,5), dpi=80)\n",
        "plt.pie([len(df.Ad_Supported[df.Ad_Supported==True]),len(df.Ad_Supported[df.Ad_Supported==False])],labels=['Add Supported','Add not Supported'],explode=[0,0.2],autopct='%0.2f%%',startangle=90)\n",
        "plt.legend()\n",
        "plt.show()"
      ],
      "execution_count": null,
      "outputs": [
        {
          "output_type": "display_data",
          "data": {
            "image/png": "[encoded data removed]",
            "text/plain": [
              "<Figure size 400x400 with 1 Axes>"
            ]
          },
          "metadata": {}
        }
      ]
    },
    {
      "cell_type": "code",
      "metadata": {
        "id": "BS3QlltRAE-0",
        "colab": {
          "base_uri": "https://localhost:8080/",
          "height": 340
        },
        "outputId": "e88d6654-4ab7-4f3b-d9dc-ac730183593f"
      },
      "source": [
        "plt.figure(figsize=(5,5), dpi=80)\n",
        "plt.pie([len(df.Ad_Supported[df.In_App_Purchases==True]),len(df.Ad_Supported[df.In_App_Purchases==False])],labels=['In_App_Purchases','No In_App_Purchases'],explode=[0,0.2],autopct='%0.2f%%',startangle=90)\n",
        "plt.legend()\n",
        "plt.show()"
      ],
      "execution_count": null,
      "outputs": [
        {
          "output_type": "display_data",
          "data": {
            "image/png": "[encoded data removed]",
            "text/plain": [
              "<Figure size 400x400 with 1 Axes>"
            ]
          },
          "metadata": {}
        }
      ]
    },
    {
      "cell_type": "code",
      "metadata": {
        "id": "5eJDJKV4AbCt",
        "colab": {
          "base_uri": "https://localhost:8080/",
          "height": 346
        },
        "outputId": "3af45a42-02fc-42c1-f35a-f33b1aa0d65d"
      },
      "source": [
        "plt.figure(figsize=(5,5), dpi=80)\n",
        "plt.pie([len(df.Ad_Supported[df.Editors_Choice==True]),len(df.Ad_Supported[df.Editors_Choice==False])],labels=['Editors_Choice','No Editors_Choice'],explode=[0,0.2],autopct='%0.2f%%',startangle=90)\n",
        "plt.legend()\n",
        "plt.show()"
      ],
      "execution_count": null,
      "outputs": [
        {
          "output_type": "display_data",
          "data": {
            "image/png": "[encoded data removed]",
            "text/plain": [
              "<Figure size 400x400 with 1 Axes>"
            ]
          },
          "metadata": {}
        }
      ]
    },
    {
      "cell_type": "code",
      "metadata": {
        "id": "Ud09HzWbBsTE"
      },
      "source": [
        "import seaborn as sns"
      ],
      "execution_count": null,
      "outputs": []
    },
    {
      "cell_type": "code",
      "metadata": {
        "id": "bFGN99nTD_pS"
      },
      "source": [
        "c_name=[]\n",
        "c_value=[]\n",
        "for a,b in df.Developer_Id.value_counts()[:20].items():\n",
        "  c_name.append(a)\n",
        "  c_value.append(b)"
      ],
      "execution_count": null,
      "outputs": []
    },
    {
      "cell_type": "code",
      "metadata": {
        "id": "nDl1z-PlEFRf",
        "colab": {
          "base_uri": "https://localhost:8080/"
        },
        "outputId": "378be353-4181-471e-9d6d-9b8c2c4e5d26"
      },
      "source": [
        "c_name"
      ],
      "execution_count": null,
      "outputs": [
        {
          "output_type": "execute_result",
          "data": {
            "text/plain": [
              "['Subsplash Inc',\n",
              " 'TRAINERIZE',\n",
              " 'ChowNow',\n",
              " 'OrderYOYO',\n",
              " 'Phorest',\n",
              " 'BH App Development Ltd',\n",
              " 'Sharefaith',\n",
              " 'J&M Studio',\n",
              " 'Flipdish',\n",
              " 'CyJ Studio',\n",
              " 'Apptegy',\n",
              " '+HOME by Ateam',\n",
              " 'Branded Apps by MINDBODY',\n",
              " 'Magzter Inc.',\n",
              " 'Currency Converter X Apps',\n",
              " 'echurch',\n",
              " 'Skalpelis',\n",
              " 'Virtuagym Professional',\n",
              " 'Branded MINDBODY Apps',\n",
              " 'FoodSoul']"
            ]
          },
          "metadata": {},
          "execution_count": 153
        }
      ]
    },
    {
      "cell_type": "code",
      "metadata": {
        "id": "Eyw49LpKE39C"
      },
      "source": [
        "d = {'Developer_Id': c_name, 'Count_of_apps': c_value}"
      ],
      "execution_count": null,
      "outputs": []
    },
    {
      "cell_type": "code",
      "metadata": {
        "id": "Nuwk4NUiCB9u"
      },
      "source": [
        "developer_vs_apps = pd.DataFrame(d)"
      ],
      "execution_count": null,
      "outputs": []
    },
    {
      "cell_type": "code",
      "metadata": {
        "id": "1Z9H5TdWCsLD",
        "colab": {
          "base_uri": "https://localhost:8080/",
          "height": 669
        },
        "outputId": "7dc1894b-9418-4fa8-a8bb-e76c2c124028"
      },
      "source": [
        "developer_vs_apps"
      ],
      "execution_count": null,
      "outputs": [
        {
          "output_type": "execute_result",
          "data": {
            "text/html": [
              "<div>\n",
              "<style scoped>\n",
              "    .dataframe tbody tr th:only-of-type {\n",
              "        vertical-align: middle;\n",
              "    }\n",
              "\n",
              "    .dataframe tbody tr th {\n",
              "        vertical-align: top;\n",
              "    }\n",
              "\n",
              "    .dataframe thead th {\n",
              "        text-align: right;\n",
              "    }\n",
              "</style>\n",
              "<table border=\"1\" class=\"dataframe\">\n",
              "  <thead>\n",
              "    <tr style=\"text-align: right;\">\n",
              "      <th></th>\n",
              "      <th>Developer_Id</th>\n",
              "      <th>Count_of_apps</th>\n",
              "    </tr>\n",
              "  </thead>\n",
              "  <tbody>\n",
              "    <tr>\n",
              "      <th>0</th>\n",
              "      <td>Subsplash Inc</td>\n",
              "      <td>5335</td>\n",
              "    </tr>\n",
              "    <tr>\n",
              "      <th>1</th>\n",
              "      <td>TRAINERIZE</td>\n",
              "      <td>5003</td>\n",
              "    </tr>\n",
              "    <tr>\n",
              "      <th>2</th>\n",
              "      <td>ChowNow</td>\n",
              "      <td>4816</td>\n",
              "    </tr>\n",
              "    <tr>\n",
              "      <th>3</th>\n",
              "      <td>OrderYOYO</td>\n",
              "      <td>2844</td>\n",
              "    </tr>\n",
              "    <tr>\n",
              "      <th>4</th>\n",
              "      <td>Phorest</td>\n",
              "      <td>2802</td>\n",
              "    </tr>\n",
              "    <tr>\n",
              "      <th>5</th>\n",
              "      <td>BH App Development Ltd</td>\n",
              "      <td>2373</td>\n",
              "    </tr>\n",
              "    <tr>\n",
              "      <th>6</th>\n",
              "      <td>Sharefaith</td>\n",
              "      <td>2027</td>\n",
              "    </tr>\n",
              "    <tr>\n",
              "      <th>7</th>\n",
              "      <td>J&amp;M Studio</td>\n",
              "      <td>1942</td>\n",
              "    </tr>\n",
              "    <tr>\n",
              "      <th>8</th>\n",
              "      <td>Flipdish</td>\n",
              "      <td>1886</td>\n",
              "    </tr>\n",
              "    <tr>\n",
              "      <th>9</th>\n",
              "      <td>CyJ Studio</td>\n",
              "      <td>1741</td>\n",
              "    </tr>\n",
              "    <tr>\n",
              "      <th>10</th>\n",
              "      <td>Apptegy</td>\n",
              "      <td>1726</td>\n",
              "    </tr>\n",
              "    <tr>\n",
              "      <th>11</th>\n",
              "      <td>+HOME by Ateam</td>\n",
              "      <td>1604</td>\n",
              "    </tr>\n",
              "    <tr>\n",
              "      <th>12</th>\n",
              "      <td>Branded Apps by MINDBODY</td>\n",
              "      <td>1553</td>\n",
              "    </tr>\n",
              "    <tr>\n",
              "      <th>13</th>\n",
              "      <td>Magzter Inc.</td>\n",
              "      <td>1536</td>\n",
              "    </tr>\n",
              "    <tr>\n",
              "      <th>14</th>\n",
              "      <td>Currency Converter X Apps</td>\n",
              "      <td>1518</td>\n",
              "    </tr>\n",
              "    <tr>\n",
              "      <th>15</th>\n",
              "      <td>echurch</td>\n",
              "      <td>1448</td>\n",
              "    </tr>\n",
              "    <tr>\n",
              "      <th>16</th>\n",
              "      <td>Skalpelis</td>\n",
              "      <td>1333</td>\n",
              "    </tr>\n",
              "    <tr>\n",
              "      <th>17</th>\n",
              "      <td>Virtuagym Professional</td>\n",
              "      <td>1240</td>\n",
              "    </tr>\n",
              "    <tr>\n",
              "      <th>18</th>\n",
              "      <td>Branded MINDBODY Apps</td>\n",
              "      <td>1165</td>\n",
              "    </tr>\n",
              "    <tr>\n",
              "      <th>19</th>\n",
              "      <td>FoodSoul</td>\n",
              "      <td>1143</td>\n",
              "    </tr>\n",
              "  </tbody>\n",
              "</table>\n",
              "</div>"
            ],
            "text/plain": [
              "                 Developer_Id  Count_of_apps\n",
              "0               Subsplash Inc           5335\n",
              "1                  TRAINERIZE           5003\n",
              "2                     ChowNow           4816\n",
              "3                   OrderYOYO           2844\n",
              "4                     Phorest           2802\n",
              "5      BH App Development Ltd           2373\n",
              "6                  Sharefaith           2027\n",
              "7                  J&M Studio           1942\n",
              "8                    Flipdish           1886\n",
              "9                  CyJ Studio           1741\n",
              "10                    Apptegy           1726\n",
              "11             +HOME by Ateam           1604\n",
              "12   Branded Apps by MINDBODY           1553\n",
              "13               Magzter Inc.           1536\n",
              "14  Currency Converter X Apps           1518\n",
              "15                    echurch           1448\n",
              "16                  Skalpelis           1333\n",
              "17     Virtuagym Professional           1240\n",
              "18      Branded MINDBODY Apps           1165\n",
              "19                   FoodSoul           1143"
            ]
          },
          "metadata": {},
          "execution_count": 156
        }
      ]
    },
    {
      "cell_type": "code",
      "metadata": {
        "id": "h9rjvL4OByOA",
        "colab": {
          "base_uri": "https://localhost:8080/",
          "height": 715
        },
        "outputId": "cf5f3c6d-edce-45b9-d3e5-c29c8dde1afc"
      },
      "source": [
        "plt.figure(figsize=(8,8), dpi=80)\n",
        "sns.barplot(data=developer_vs_apps,x='Developer_Id',y='Count_of_apps')\n",
        "plt.xticks(rotation = 90)\n",
        "plt.title(\"Developers vs count of their apps\")\n",
        "plt.show()"
      ],
      "execution_count": null,
      "outputs": [
        {
          "output_type": "display_data",
          "data": {
            "image/png": "[encoded data removed]",
            "text/plain": [
              "<Figure size 640x640 with 1 Axes>"
            ]
          },
          "metadata": {
            "needs_background": "light"
          }
        }
      ]
    },
    {
      "cell_type": "code",
      "metadata": {
        "id": "Ci39-eLyDazi",
        "colab": {
          "base_uri": "https://localhost:8080/",
          "height": 151
        },
        "outputId": "e3623dd6-0d44-436b-d442-1910015bd098"
      },
      "source": [
        "df.head(1)"
      ],
      "execution_count": null,
      "outputs": [
        {
          "output_type": "execute_result",
          "data": {
            "text/html": [
              "<div>\n",
              "<style scoped>\n",
              "    .dataframe tbody tr th:only-of-type {\n",
              "        vertical-align: middle;\n",
              "    }\n",
              "\n",
              "    .dataframe tbody tr th {\n",
              "        vertical-align: top;\n",
              "    }\n",
              "\n",
              "    .dataframe thead th {\n",
              "        text-align: right;\n",
              "    }\n",
              "</style>\n",
              "<table border=\"1\" class=\"dataframe\">\n",
              "  <thead>\n",
              "    <tr style=\"text-align: right;\">\n",
              "      <th></th>\n",
              "      <th>App_Name</th>\n",
              "      <th>Category</th>\n",
              "      <th>Rating</th>\n",
              "      <th>Rating_Count</th>\n",
              "      <th>Maximum_Installs</th>\n",
              "      <th>Free</th>\n",
              "      <th>Price</th>\n",
              "      <th>Currency</th>\n",
              "      <th>Size</th>\n",
              "      <th>Minimum_Android</th>\n",
              "      <th>Developer_Id</th>\n",
              "      <th>Content_Rating</th>\n",
              "      <th>Ad_Supported</th>\n",
              "      <th>In_App_Purchases</th>\n",
              "      <th>Editors_Choice</th>\n",
              "      <th>Days</th>\n",
              "      <th>Updated</th>\n",
              "    </tr>\n",
              "  </thead>\n",
              "  <tbody>\n",
              "    <tr>\n",
              "      <th>0</th>\n",
              "      <td>Gakondo</td>\n",
              "      <td>Adventure</td>\n",
              "      <td>0.0</td>\n",
              "      <td>0.0</td>\n",
              "      <td>15</td>\n",
              "      <td>True</td>\n",
              "      <td>0.0</td>\n",
              "      <td>USD</td>\n",
              "      <td>10240.0</td>\n",
              "      <td>7</td>\n",
              "      <td>Jean Confident Irénée NIYIZIBYOSE</td>\n",
              "      <td>Everyone</td>\n",
              "      <td>False</td>\n",
              "      <td>False</td>\n",
              "      <td>False</td>\n",
              "      <td>475.0</td>\n",
              "      <td>False</td>\n",
              "    </tr>\n",
              "  </tbody>\n",
              "</table>\n",
              "</div>"
            ],
            "text/plain": [
              "  App_Name   Category  Rating  ...  Editors_Choice   Days  Updated\n",
              "0  Gakondo  Adventure     0.0  ...           False  475.0    False\n",
              "\n",
              "[1 rows x 17 columns]"
            ]
          },
          "metadata": {},
          "execution_count": 158
        }
      ]
    },
    {
      "cell_type": "code",
      "metadata": {
        "id": "xfpPrHYKFYp6"
      },
      "source": [
        "Update_vs_installs = df.loc[:,['Updated','Maximum_Installs']].values"
      ],
      "execution_count": null,
      "outputs": []
    },
    {
      "cell_type": "code",
      "metadata": {
        "id": "mxYbfEWqFo6X"
      },
      "source": [
        "d_i = {}\n",
        "Update_vs_installs = np.array(Update_vs_installs)"
      ],
      "execution_count": null,
      "outputs": []
    },
    {
      "cell_type": "code",
      "metadata": {
        "id": "mQeGyko3GMZo",
        "colab": {
          "base_uri": "https://localhost:8080/"
        },
        "outputId": "b84bbaac-8f92-486d-e5e1-ece1b7a34d49"
      },
      "source": [
        "Update_vs_installs[0]"
      ],
      "execution_count": null,
      "outputs": [
        {
          "output_type": "execute_result",
          "data": {
            "text/plain": [
              "array([False, 15], dtype=object)"
            ]
          },
          "metadata": {},
          "execution_count": 161
        }
      ]
    },
    {
      "cell_type": "code",
      "metadata": {
        "id": "8KgayMF8Gbor"
      },
      "source": [
        "false_values = 0\n",
        "true_values = 0\n",
        "for item in Update_vs_installs:\n",
        "  if(item[0]==False):\n",
        "    false_values = false_values+item[1]\n",
        "  else:\n",
        "    true_values = true_values+item[1]"
      ],
      "execution_count": null,
      "outputs": []
    },
    {
      "cell_type": "code",
      "metadata": {
        "id": "IwB-LN6sGyNW",
        "colab": {
          "base_uri": "https://localhost:8080/"
        },
        "outputId": "b6f40bf5-3f26-4146-cbf8-8d5eab3274c8"
      },
      "source": [
        "print(false_values,true_values)"
      ],
      "execution_count": null,
      "outputs": [
        {
          "output_type": "stream",
          "name": "stdout",
          "text": [
            "3058810768 676312708117\n"
          ]
        }
      ]
    },
    {
      "cell_type": "code",
      "metadata": {
        "id": "B4bBlEJuG3AK",
        "colab": {
          "base_uri": "https://localhost:8080/",
          "height": 351
        },
        "outputId": "39c05ecb-a6d0-4945-8079-80b68b3b1100"
      },
      "source": [
        "plt.figure(figsize=(5,5), dpi=80)\n",
        "plt.pie([false_values,true_values],labels=['When Apps are not updated','When Apps are updated'],explode=[0,0.2],autopct='%0.2f%%')\n",
        "plt.legend()\n",
        "plt.title('Installs of apps if they are updated')\n",
        "plt.show()"
      ],
      "execution_count": null,
      "outputs": [
        {
          "output_type": "display_data",
          "data": {
            "image/png": "[encoded data removed]",
            "text/plain": [
              "<Figure size 400x400 with 1 Axes>"
            ]
          },
          "metadata": {}
        }
      ]
    },
    {
      "cell_type": "code",
      "metadata": {
        "id": "5ICk3yU9Hkq0",
        "colab": {
          "base_uri": "https://localhost:8080/",
          "height": 216
        },
        "outputId": "388fb1a3-2912-4bde-8b2b-92845b977f41"
      },
      "source": [
        "Free_Apps.head(2)"
      ],
      "execution_count": null,
      "outputs": [
        {
          "output_type": "execute_result",
          "data": {
            "text/html": [
              "<div>\n",
              "<style scoped>\n",
              "    .dataframe tbody tr th:only-of-type {\n",
              "        vertical-align: middle;\n",
              "    }\n",
              "\n",
              "    .dataframe tbody tr th {\n",
              "        vertical-align: top;\n",
              "    }\n",
              "\n",
              "    .dataframe thead th {\n",
              "        text-align: right;\n",
              "    }\n",
              "</style>\n",
              "<table border=\"1\" class=\"dataframe\">\n",
              "  <thead>\n",
              "    <tr style=\"text-align: right;\">\n",
              "      <th></th>\n",
              "      <th>App_Name</th>\n",
              "      <th>Category</th>\n",
              "      <th>Rating</th>\n",
              "      <th>Rating_Count</th>\n",
              "      <th>Maximum_Installs</th>\n",
              "      <th>Free</th>\n",
              "      <th>Price</th>\n",
              "      <th>Currency</th>\n",
              "      <th>Size</th>\n",
              "      <th>Minimum_Android</th>\n",
              "      <th>Developer_Id</th>\n",
              "      <th>Content_Rating</th>\n",
              "      <th>Ad_Supported</th>\n",
              "      <th>In_App_Purchases</th>\n",
              "      <th>Editors_Choice</th>\n",
              "      <th>Days</th>\n",
              "      <th>Updated</th>\n",
              "    </tr>\n",
              "  </thead>\n",
              "  <tbody>\n",
              "    <tr>\n",
              "      <th>0</th>\n",
              "      <td>Gakondo</td>\n",
              "      <td>Adventure</td>\n",
              "      <td>0.0</td>\n",
              "      <td>0.0</td>\n",
              "      <td>15</td>\n",
              "      <td>True</td>\n",
              "      <td>0.0</td>\n",
              "      <td>USD</td>\n",
              "      <td>10240.0</td>\n",
              "      <td>7</td>\n",
              "      <td>Jean Confident Irénée NIYIZIBYOSE</td>\n",
              "      <td>Everyone</td>\n",
              "      <td>False</td>\n",
              "      <td>False</td>\n",
              "      <td>False</td>\n",
              "      <td>475.0</td>\n",
              "      <td>False</td>\n",
              "    </tr>\n",
              "    <tr>\n",
              "      <th>1</th>\n",
              "      <td>Ampere Battery Info</td>\n",
              "      <td>Tools</td>\n",
              "      <td>4.4</td>\n",
              "      <td>64.0</td>\n",
              "      <td>7662</td>\n",
              "      <td>True</td>\n",
              "      <td>0.0</td>\n",
              "      <td>USD</td>\n",
              "      <td>2969.6</td>\n",
              "      <td>5</td>\n",
              "      <td>Webserveis</td>\n",
              "      <td>Everyone</td>\n",
              "      <td>True</td>\n",
              "      <td>False</td>\n",
              "      <td>False</td>\n",
              "      <td>390.0</td>\n",
              "      <td>True</td>\n",
              "    </tr>\n",
              "  </tbody>\n",
              "</table>\n",
              "</div>"
            ],
            "text/plain": [
              "              App_Name   Category  Rating  ...  Editors_Choice   Days  Updated\n",
              "0              Gakondo  Adventure     0.0  ...           False  475.0    False\n",
              "1  Ampere Battery Info      Tools     4.4  ...           False  390.0     True\n",
              "\n",
              "[2 rows x 17 columns]"
            ]
          },
          "metadata": {},
          "execution_count": 165
        }
      ]
    },
    {
      "cell_type": "code",
      "metadata": {
        "id": "8RAAxsJwH8hA"
      },
      "source": [
        "Free_Apps_Needed_cols = Free_Apps.loc[:,[\n",
        "                                         'Category',\n",
        "                                         'Rating',\n",
        "                                         'Rating_Count',\n",
        "                                         'Size',\n",
        "                                         'Minimum_Android',\n",
        "                                         'Content_Rating',\n",
        "                                         'Ad_Supported',\n",
        "                                         'In_App_Purchases',\n",
        "                                         'Editors_Choice',\n",
        "                                         'Days',\n",
        "                                         'Updated',\n",
        "                                         'Maximum_Installs']]"
      ],
      "execution_count": null,
      "outputs": []
    },
    {
      "cell_type": "code",
      "metadata": {
        "id": "7GQItjSUIpLk"
      },
      "source": [
        "Paid_Apps_Needed_cols = Paid_Apps.loc[:,[\n",
        "                                         'Category',\n",
        "                                         'Rating',\n",
        "                                         'Rating_Count',\n",
        "                                         'Size',\n",
        "                                         'Minimum_Android',\n",
        "                                         'Content_Rating',\n",
        "                                         'Ad_Supported',\n",
        "                                         'In_App_Purchases',\n",
        "                                         'Price',\n",
        "                                         'Editors_Choice',\n",
        "                                         'Days',\n",
        "                                         'Updated',\n",
        "                                         'Maximum_Installs'\n",
        "]]"
      ],
      "execution_count": null,
      "outputs": []
    },
    {
      "cell_type": "code",
      "metadata": {
        "id": "8HLpVxowI5ha",
        "colab": {
          "base_uri": "https://localhost:8080/",
          "height": 131
        },
        "outputId": "887962ee-d6f9-4f27-9b85-b2051464ca47"
      },
      "source": [
        "Free_Apps_Needed_cols.head(2)"
      ],
      "execution_count": null,
      "outputs": [
        {
          "output_type": "execute_result",
          "data": {
            "text/html": [
              "<div>\n",
              "<style scoped>\n",
              "    .dataframe tbody tr th:only-of-type {\n",
              "        vertical-align: middle;\n",
              "    }\n",
              "\n",
              "    .dataframe tbody tr th {\n",
              "        vertical-align: top;\n",
              "    }\n",
              "\n",
              "    .dataframe thead th {\n",
              "        text-align: right;\n",
              "    }\n",
              "</style>\n",
              "<table border=\"1\" class=\"dataframe\">\n",
              "  <thead>\n",
              "    <tr style=\"text-align: right;\">\n",
              "      <th></th>\n",
              "      <th>Category</th>\n",
              "      <th>Rating</th>\n",
              "      <th>Rating_Count</th>\n",
              "      <th>Size</th>\n",
              "      <th>Minimum_Android</th>\n",
              "      <th>Content_Rating</th>\n",
              "      <th>Ad_Supported</th>\n",
              "      <th>In_App_Purchases</th>\n",
              "      <th>Editors_Choice</th>\n",
              "      <th>Days</th>\n",
              "      <th>Updated</th>\n",
              "      <th>Maximum_Installs</th>\n",
              "    </tr>\n",
              "  </thead>\n",
              "  <tbody>\n",
              "    <tr>\n",
              "      <th>0</th>\n",
              "      <td>Adventure</td>\n",
              "      <td>0.0</td>\n",
              "      <td>0.0</td>\n",
              "      <td>10240.0</td>\n",
              "      <td>7</td>\n",
              "      <td>Everyone</td>\n",
              "      <td>False</td>\n",
              "      <td>False</td>\n",
              "      <td>False</td>\n",
              "      <td>475.0</td>\n",
              "      <td>False</td>\n",
              "      <td>15</td>\n",
              "    </tr>\n",
              "    <tr>\n",
              "      <th>1</th>\n",
              "      <td>Tools</td>\n",
              "      <td>4.4</td>\n",
              "      <td>64.0</td>\n",
              "      <td>2969.6</td>\n",
              "      <td>5</td>\n",
              "      <td>Everyone</td>\n",
              "      <td>True</td>\n",
              "      <td>False</td>\n",
              "      <td>False</td>\n",
              "      <td>390.0</td>\n",
              "      <td>True</td>\n",
              "      <td>7662</td>\n",
              "    </tr>\n",
              "  </tbody>\n",
              "</table>\n",
              "</div>"
            ],
            "text/plain": [
              "    Category  Rating  Rating_Count  ...   Days  Updated Maximum_Installs\n",
              "0  Adventure     0.0           0.0  ...  475.0    False               15\n",
              "1      Tools     4.4          64.0  ...  390.0     True             7662\n",
              "\n",
              "[2 rows x 12 columns]"
            ]
          },
          "metadata": {},
          "execution_count": 168
        }
      ]
    },
    {
      "cell_type": "code",
      "metadata": {
        "id": "qDXIQzKdI8Q9",
        "colab": {
          "base_uri": "https://localhost:8080/",
          "height": 131
        },
        "outputId": "d6b56d20-e60c-4f37-dcd3-c2292d7cfb9e"
      },
      "source": [
        "Paid_Apps_Needed_cols.head(2)"
      ],
      "execution_count": null,
      "outputs": [
        {
          "output_type": "execute_result",
          "data": {
            "text/html": [
              "<div>\n",
              "<style scoped>\n",
              "    .dataframe tbody tr th:only-of-type {\n",
              "        vertical-align: middle;\n",
              "    }\n",
              "\n",
              "    .dataframe tbody tr th {\n",
              "        vertical-align: top;\n",
              "    }\n",
              "\n",
              "    .dataframe thead th {\n",
              "        text-align: right;\n",
              "    }\n",
              "</style>\n",
              "<table border=\"1\" class=\"dataframe\">\n",
              "  <thead>\n",
              "    <tr style=\"text-align: right;\">\n",
              "      <th></th>\n",
              "      <th>Category</th>\n",
              "      <th>Rating</th>\n",
              "      <th>Rating_Count</th>\n",
              "      <th>Size</th>\n",
              "      <th>Minimum_Android</th>\n",
              "      <th>Content_Rating</th>\n",
              "      <th>Ad_Supported</th>\n",
              "      <th>In_App_Purchases</th>\n",
              "      <th>Price</th>\n",
              "      <th>Editors_Choice</th>\n",
              "      <th>Days</th>\n",
              "      <th>Updated</th>\n",
              "      <th>Maximum_Installs</th>\n",
              "    </tr>\n",
              "  </thead>\n",
              "  <tbody>\n",
              "    <tr>\n",
              "      <th>273</th>\n",
              "      <td>Tools</td>\n",
              "      <td>4.5</td>\n",
              "      <td>236.0</td>\n",
              "      <td>1638.4</td>\n",
              "      <td>4</td>\n",
              "      <td>Everyone</td>\n",
              "      <td>False</td>\n",
              "      <td>False</td>\n",
              "      <td>1.99</td>\n",
              "      <td>False</td>\n",
              "      <td>928.0</td>\n",
              "      <td>True</td>\n",
              "      <td>34125</td>\n",
              "    </tr>\n",
              "    <tr>\n",
              "      <th>296</th>\n",
              "      <td>Sports</td>\n",
              "      <td>2.8</td>\n",
              "      <td>160.0</td>\n",
              "      <td>30720.0</td>\n",
              "      <td>7</td>\n",
              "      <td>Everyone</td>\n",
              "      <td>False</td>\n",
              "      <td>False</td>\n",
              "      <td>4.99</td>\n",
              "      <td>False</td>\n",
              "      <td>1589.0</td>\n",
              "      <td>True</td>\n",
              "      <td>10407</td>\n",
              "    </tr>\n",
              "  </tbody>\n",
              "</table>\n",
              "</div>"
            ],
            "text/plain": [
              "    Category  Rating  Rating_Count  ...    Days  Updated Maximum_Installs\n",
              "273    Tools     4.5         236.0  ...   928.0     True            34125\n",
              "296   Sports     2.8         160.0  ...  1589.0     True            10407\n",
              "\n",
              "[2 rows x 13 columns]"
            ]
          },
          "metadata": {},
          "execution_count": 169
        }
      ]
    },
    {
      "cell_type": "code",
      "metadata": {
        "id": "immREkP3JDAe",
        "colab": {
          "base_uri": "https://localhost:8080/",
          "height": 342
        },
        "outputId": "9d041483-9ff0-4de5-cbc3-e69ca88821bc"
      },
      "source": [
        "corr = Free_Apps_Needed_cols.corr()\n",
        "ax = sns.heatmap(\n",
        "    corr, \n",
        "    vmin=-1, vmax=1, center=0,\n",
        "    cmap=sns.diverging_palette(20, 220, n=200),\n",
        "    square=True\n",
        ")\n",
        "plt.title(\"Correlation matrix of free apps\")\n",
        "ax.set_xticklabels(\n",
        "    ax.get_xticklabels(),\n",
        "    rotation=45,\n",
        "    horizontalalignment='right'\n",
        ");"
      ],
      "execution_count": null,
      "outputs": [
        {
          "output_type": "display_data",
          "data": {
            "image/png": "[encoded data removed]",
            "text/plain": [
              "<Figure size 432x288 with 2 Axes>"
            ]
          },
          "metadata": {
            "needs_background": "light"
          }
        }
      ]
    },
    {
      "cell_type": "code",
      "metadata": {
        "id": "lIYSGobsJX8Y",
        "colab": {
          "base_uri": "https://localhost:8080/",
          "height": 343
        },
        "outputId": "43b5047c-b32f-431c-d9a5-b67bf628f60a"
      },
      "source": [
        "corr = Paid_Apps_Needed_cols.corr()\n",
        "ax = sns.heatmap(\n",
        "    corr, \n",
        "    vmin=-1, vmax=1, center=0,\n",
        "    cmap=sns.diverging_palette(20, 220, n=200),\n",
        "    square=True\n",
        ")\n",
        "plt.title(\"Correlation matrix of paid apps\")\n",
        "ax.set_xticklabels(\n",
        "    ax.get_xticklabels(),\n",
        "    rotation=45,\n",
        "    horizontalalignment='right'\n",
        ");"
      ],
      "execution_count": null,
      "outputs": [
        {
          "output_type": "display_data",
          "data": {
            "image/png": "[encoded data removed]",
            "text/plain": [
              "<Figure size 432x288 with 2 Axes>"
            ]
          },
          "metadata": {
            "needs_background": "light"
          }
        }
      ]
    },
    {
      "cell_type": "code",
      "metadata": {
        "id": "pluOCmv6JimH",
        "colab": {
          "base_uri": "https://localhost:8080/",
          "height": 291
        },
        "outputId": "0b901120-2241-40be-bf65-a3fcd846546e"
      },
      "source": [
        "corr.style.background_gradient(cmap='coolwarm').set_precision(2)"
      ],
      "execution_count": null,
      "outputs": [
        {
          "output_type": "execute_result",
          "data": {
            "text/html": [
              "<style  type=\"text/css\" >\n",
              "#T_e8bc1c9e_1a92_11ec_b7d8_0242ac1c0002row0_col0,#T_e8bc1c9e_1a92_11ec_b7d8_0242ac1c0002row1_col1,#T_e8bc1c9e_1a92_11ec_b7d8_0242ac1c0002row2_col2,#T_e8bc1c9e_1a92_11ec_b7d8_0242ac1c0002row3_col3,#T_e8bc1c9e_1a92_11ec_b7d8_0242ac1c0002row4_col4,#T_e8bc1c9e_1a92_11ec_b7d8_0242ac1c0002row5_col5,#T_e8bc1c9e_1a92_11ec_b7d8_0242ac1c0002row6_col6,#T_e8bc1c9e_1a92_11ec_b7d8_0242ac1c0002row7_col7,#T_e8bc1c9e_1a92_11ec_b7d8_0242ac1c0002row8_col8,#T_e8bc1c9e_1a92_11ec_b7d8_0242ac1c0002row9_col9,#T_e8bc1c9e_1a92_11ec_b7d8_0242ac1c0002row10_col10{\n",
              "            background-color:  #b40426;\n",
              "            color:  #f1f1f1;\n",
              "        }#T_e8bc1c9e_1a92_11ec_b7d8_0242ac1c0002row0_col1,#T_e8bc1c9e_1a92_11ec_b7d8_0242ac1c0002row0_col7{\n",
              "            background-color:  #445acc;\n",
              "            color:  #f1f1f1;\n",
              "        }#T_e8bc1c9e_1a92_11ec_b7d8_0242ac1c0002row0_col2{\n",
              "            background-color:  #86a9fc;\n",
              "            color:  #000000;\n",
              "        }#T_e8bc1c9e_1a92_11ec_b7d8_0242ac1c0002row0_col3{\n",
              "            background-color:  #a9c6fd;\n",
              "            color:  #000000;\n",
              "        }#T_e8bc1c9e_1a92_11ec_b7d8_0242ac1c0002row0_col4,#T_e8bc1c9e_1a92_11ec_b7d8_0242ac1c0002row1_col4,#T_e8bc1c9e_1a92_11ec_b7d8_0242ac1c0002row8_col4,#T_e8bc1c9e_1a92_11ec_b7d8_0242ac1c0002row10_col6,#T_e8bc1c9e_1a92_11ec_b7d8_0242ac1c0002row10_col9{\n",
              "            background-color:  #465ecf;\n",
              "            color:  #f1f1f1;\n",
              "        }#T_e8bc1c9e_1a92_11ec_b7d8_0242ac1c0002row0_col5{\n",
              "            background-color:  #7396f5;\n",
              "            color:  #000000;\n",
              "        }#T_e8bc1c9e_1a92_11ec_b7d8_0242ac1c0002row0_col6,#T_e8bc1c9e_1a92_11ec_b7d8_0242ac1c0002row3_col4,#T_e8bc1c9e_1a92_11ec_b7d8_0242ac1c0002row3_col8,#T_e8bc1c9e_1a92_11ec_b7d8_0242ac1c0002row4_col7,#T_e8bc1c9e_1a92_11ec_b7d8_0242ac1c0002row6_col0,#T_e8bc1c9e_1a92_11ec_b7d8_0242ac1c0002row6_col1,#T_e8bc1c9e_1a92_11ec_b7d8_0242ac1c0002row6_col7,#T_e8bc1c9e_1a92_11ec_b7d8_0242ac1c0002row6_col9,#T_e8bc1c9e_1a92_11ec_b7d8_0242ac1c0002row6_col10,#T_e8bc1c9e_1a92_11ec_b7d8_0242ac1c0002row8_col2,#T_e8bc1c9e_1a92_11ec_b7d8_0242ac1c0002row8_col3,#T_e8bc1c9e_1a92_11ec_b7d8_0242ac1c0002row8_col5,#T_e8bc1c9e_1a92_11ec_b7d8_0242ac1c0002row8_col7{\n",
              "            background-color:  #3b4cc0;\n",
              "            color:  #f1f1f1;\n",
              "        }#T_e8bc1c9e_1a92_11ec_b7d8_0242ac1c0002row0_col8{\n",
              "            background-color:  #d1dae9;\n",
              "            color:  #000000;\n",
              "        }#T_e8bc1c9e_1a92_11ec_b7d8_0242ac1c0002row0_col9{\n",
              "            background-color:  #89acfd;\n",
              "            color:  #000000;\n",
              "        }#T_e8bc1c9e_1a92_11ec_b7d8_0242ac1c0002row0_col10,#T_e8bc1c9e_1a92_11ec_b7d8_0242ac1c0002row2_col6{\n",
              "            background-color:  #4c66d6;\n",
              "            color:  #000000;\n",
              "        }#T_e8bc1c9e_1a92_11ec_b7d8_0242ac1c0002row1_col0,#T_e8bc1c9e_1a92_11ec_b7d8_0242ac1c0002row3_col9,#T_e8bc1c9e_1a92_11ec_b7d8_0242ac1c0002row10_col4{\n",
              "            background-color:  #516ddb;\n",
              "            color:  #000000;\n",
              "        }#T_e8bc1c9e_1a92_11ec_b7d8_0242ac1c0002row1_col2{\n",
              "            background-color:  #6f92f3;\n",
              "            color:  #000000;\n",
              "        }#T_e8bc1c9e_1a92_11ec_b7d8_0242ac1c0002row1_col3,#T_e8bc1c9e_1a92_11ec_b7d8_0242ac1c0002row7_col3{\n",
              "            background-color:  #a1c0ff;\n",
              "            color:  #000000;\n",
              "        }#T_e8bc1c9e_1a92_11ec_b7d8_0242ac1c0002row1_col5{\n",
              "            background-color:  #4f69d9;\n",
              "            color:  #000000;\n",
              "        }#T_e8bc1c9e_1a92_11ec_b7d8_0242ac1c0002row1_col6,#T_e8bc1c9e_1a92_11ec_b7d8_0242ac1c0002row2_col7,#T_e8bc1c9e_1a92_11ec_b7d8_0242ac1c0002row2_col9,#T_e8bc1c9e_1a92_11ec_b7d8_0242ac1c0002row4_col6,#T_e8bc1c9e_1a92_11ec_b7d8_0242ac1c0002row5_col6,#T_e8bc1c9e_1a92_11ec_b7d8_0242ac1c0002row7_col6{\n",
              "            background-color:  #485fd1;\n",
              "            color:  #f1f1f1;\n",
              "        }#T_e8bc1c9e_1a92_11ec_b7d8_0242ac1c0002row1_col7,#T_e8bc1c9e_1a92_11ec_b7d8_0242ac1c0002row7_col1{\n",
              "            background-color:  #84a7fc;\n",
              "            color:  #000000;\n",
              "        }#T_e8bc1c9e_1a92_11ec_b7d8_0242ac1c0002row1_col8{\n",
              "            background-color:  #a5c3fe;\n",
              "            color:  #000000;\n",
              "        }#T_e8bc1c9e_1a92_11ec_b7d8_0242ac1c0002row1_col9,#T_e8bc1c9e_1a92_11ec_b7d8_0242ac1c0002row5_col7,#T_e8bc1c9e_1a92_11ec_b7d8_0242ac1c0002row8_col1,#T_e8bc1c9e_1a92_11ec_b7d8_0242ac1c0002row9_col4,#T_e8bc1c9e_1a92_11ec_b7d8_0242ac1c0002row9_col10{\n",
              "            background-color:  #4358cb;\n",
              "            color:  #f1f1f1;\n",
              "        }#T_e8bc1c9e_1a92_11ec_b7d8_0242ac1c0002row1_col10,#T_e8bc1c9e_1a92_11ec_b7d8_0242ac1c0002row10_col1{\n",
              "            background-color:  #e7745b;\n",
              "            color:  #000000;\n",
              "        }#T_e8bc1c9e_1a92_11ec_b7d8_0242ac1c0002row2_col0{\n",
              "            background-color:  #6788ee;\n",
              "            color:  #000000;\n",
              "        }#T_e8bc1c9e_1a92_11ec_b7d8_0242ac1c0002row2_col1,#T_e8bc1c9e_1a92_11ec_b7d8_0242ac1c0002row3_col10{\n",
              "            background-color:  #4055c8;\n",
              "            color:  #f1f1f1;\n",
              "        }#T_e8bc1c9e_1a92_11ec_b7d8_0242ac1c0002row2_col3{\n",
              "            background-color:  #cbd8ee;\n",
              "            color:  #000000;\n",
              "        }#T_e8bc1c9e_1a92_11ec_b7d8_0242ac1c0002row2_col4{\n",
              "            background-color:  #536edd;\n",
              "            color:  #000000;\n",
              "        }#T_e8bc1c9e_1a92_11ec_b7d8_0242ac1c0002row2_col5{\n",
              "            background-color:  #779af7;\n",
              "            color:  #000000;\n",
              "        }#T_e8bc1c9e_1a92_11ec_b7d8_0242ac1c0002row2_col8,#T_e8bc1c9e_1a92_11ec_b7d8_0242ac1c0002row5_col4,#T_e8bc1c9e_1a92_11ec_b7d8_0242ac1c0002row7_col2,#T_e8bc1c9e_1a92_11ec_b7d8_0242ac1c0002row10_col2{\n",
              "            background-color:  #7597f6;\n",
              "            color:  #000000;\n",
              "        }#T_e8bc1c9e_1a92_11ec_b7d8_0242ac1c0002row2_col10{\n",
              "            background-color:  #4961d2;\n",
              "            color:  #f1f1f1;\n",
              "        }#T_e8bc1c9e_1a92_11ec_b7d8_0242ac1c0002row3_col0,#T_e8bc1c9e_1a92_11ec_b7d8_0242ac1c0002row9_col5{\n",
              "            background-color:  #5470de;\n",
              "            color:  #000000;\n",
              "        }#T_e8bc1c9e_1a92_11ec_b7d8_0242ac1c0002row3_col1,#T_e8bc1c9e_1a92_11ec_b7d8_0242ac1c0002row3_col7,#T_e8bc1c9e_1a92_11ec_b7d8_0242ac1c0002row4_col1,#T_e8bc1c9e_1a92_11ec_b7d8_0242ac1c0002row6_col5,#T_e8bc1c9e_1a92_11ec_b7d8_0242ac1c0002row8_col6,#T_e8bc1c9e_1a92_11ec_b7d8_0242ac1c0002row9_col1{\n",
              "            background-color:  #3e51c5;\n",
              "            color:  #f1f1f1;\n",
              "        }#T_e8bc1c9e_1a92_11ec_b7d8_0242ac1c0002row3_col2,#T_e8bc1c9e_1a92_11ec_b7d8_0242ac1c0002row4_col8,#T_e8bc1c9e_1a92_11ec_b7d8_0242ac1c0002row10_col3{\n",
              "            background-color:  #a2c1ff;\n",
              "            color:  #000000;\n",
              "        }#T_e8bc1c9e_1a92_11ec_b7d8_0242ac1c0002row3_col5{\n",
              "            background-color:  #5572df;\n",
              "            color:  #000000;\n",
              "        }#T_e8bc1c9e_1a92_11ec_b7d8_0242ac1c0002row3_col6,#T_e8bc1c9e_1a92_11ec_b7d8_0242ac1c0002row5_col9{\n",
              "            background-color:  #5673e0;\n",
              "            color:  #000000;\n",
              "        }#T_e8bc1c9e_1a92_11ec_b7d8_0242ac1c0002row4_col0,#T_e8bc1c9e_1a92_11ec_b7d8_0242ac1c0002row4_col10,#T_e8bc1c9e_1a92_11ec_b7d8_0242ac1c0002row5_col1{\n",
              "            background-color:  #4b64d5;\n",
              "            color:  #f1f1f1;\n",
              "        }#T_e8bc1c9e_1a92_11ec_b7d8_0242ac1c0002row4_col2{\n",
              "            background-color:  #799cf8;\n",
              "            color:  #000000;\n",
              "        }#T_e8bc1c9e_1a92_11ec_b7d8_0242ac1c0002row4_col3{\n",
              "            background-color:  #97b8ff;\n",
              "            color:  #000000;\n",
              "        }#T_e8bc1c9e_1a92_11ec_b7d8_0242ac1c0002row4_col5,#T_e8bc1c9e_1a92_11ec_b7d8_0242ac1c0002row9_col2{\n",
              "            background-color:  #7093f3;\n",
              "            color:  #000000;\n",
              "        }#T_e8bc1c9e_1a92_11ec_b7d8_0242ac1c0002row4_col9{\n",
              "            background-color:  #3f53c6;\n",
              "            color:  #f1f1f1;\n",
              "        }#T_e8bc1c9e_1a92_11ec_b7d8_0242ac1c0002row5_col0{\n",
              "            background-color:  #7da0f9;\n",
              "            color:  #000000;\n",
              "        }#T_e8bc1c9e_1a92_11ec_b7d8_0242ac1c0002row5_col2,#T_e8bc1c9e_1a92_11ec_b7d8_0242ac1c0002row7_col8{\n",
              "            background-color:  #9ebeff;\n",
              "            color:  #000000;\n",
              "        }#T_e8bc1c9e_1a92_11ec_b7d8_0242ac1c0002row5_col3{\n",
              "            background-color:  #b1cbfc;\n",
              "            color:  #000000;\n",
              "        }#T_e8bc1c9e_1a92_11ec_b7d8_0242ac1c0002row5_col8{\n",
              "            background-color:  #9bbcff;\n",
              "            color:  #000000;\n",
              "        }#T_e8bc1c9e_1a92_11ec_b7d8_0242ac1c0002row5_col10{\n",
              "            background-color:  #5a78e4;\n",
              "            color:  #000000;\n",
              "        }#T_e8bc1c9e_1a92_11ec_b7d8_0242ac1c0002row6_col2{\n",
              "            background-color:  #6e90f2;\n",
              "            color:  #000000;\n",
              "        }#T_e8bc1c9e_1a92_11ec_b7d8_0242ac1c0002row6_col3{\n",
              "            background-color:  #aac7fd;\n",
              "            color:  #000000;\n",
              "        }#T_e8bc1c9e_1a92_11ec_b7d8_0242ac1c0002row6_col4,#T_e8bc1c9e_1a92_11ec_b7d8_0242ac1c0002row7_col4,#T_e8bc1c9e_1a92_11ec_b7d8_0242ac1c0002row7_col9,#T_e8bc1c9e_1a92_11ec_b7d8_0242ac1c0002row9_col6{\n",
              "            background-color:  #4257c9;\n",
              "            color:  #f1f1f1;\n",
              "        }#T_e8bc1c9e_1a92_11ec_b7d8_0242ac1c0002row6_col8{\n",
              "            background-color:  #96b7ff;\n",
              "            color:  #000000;\n",
              "        }#T_e8bc1c9e_1a92_11ec_b7d8_0242ac1c0002row7_col0{\n",
              "            background-color:  #506bda;\n",
              "            color:  #000000;\n",
              "        }#T_e8bc1c9e_1a92_11ec_b7d8_0242ac1c0002row7_col5,#T_e8bc1c9e_1a92_11ec_b7d8_0242ac1c0002row8_col10{\n",
              "            background-color:  #455cce;\n",
              "            color:  #f1f1f1;\n",
              "        }#T_e8bc1c9e_1a92_11ec_b7d8_0242ac1c0002row7_col10,#T_e8bc1c9e_1a92_11ec_b7d8_0242ac1c0002row10_col7{\n",
              "            background-color:  #8badfd;\n",
              "            color:  #000000;\n",
              "        }#T_e8bc1c9e_1a92_11ec_b7d8_0242ac1c0002row8_col0{\n",
              "            background-color:  #8fb1fe;\n",
              "            color:  #000000;\n",
              "        }#T_e8bc1c9e_1a92_11ec_b7d8_0242ac1c0002row8_col9{\n",
              "            background-color:  #7699f6;\n",
              "            color:  #000000;\n",
              "        }#T_e8bc1c9e_1a92_11ec_b7d8_0242ac1c0002row9_col0{\n",
              "            background-color:  #92b4fe;\n",
              "            color:  #000000;\n",
              "        }#T_e8bc1c9e_1a92_11ec_b7d8_0242ac1c0002row9_col3{\n",
              "            background-color:  #adc9fd;\n",
              "            color:  #000000;\n",
              "        }#T_e8bc1c9e_1a92_11ec_b7d8_0242ac1c0002row9_col7{\n",
              "            background-color:  #3d50c3;\n",
              "            color:  #f1f1f1;\n",
              "        }#T_e8bc1c9e_1a92_11ec_b7d8_0242ac1c0002row9_col8{\n",
              "            background-color:  #c6d6f1;\n",
              "            color:  #000000;\n",
              "        }#T_e8bc1c9e_1a92_11ec_b7d8_0242ac1c0002row10_col0{\n",
              "            background-color:  #5875e1;\n",
              "            color:  #000000;\n",
              "        }#T_e8bc1c9e_1a92_11ec_b7d8_0242ac1c0002row10_col5{\n",
              "            background-color:  #5d7ce6;\n",
              "            color:  #000000;\n",
              "        }#T_e8bc1c9e_1a92_11ec_b7d8_0242ac1c0002row10_col8{\n",
              "            background-color:  #a6c4fe;\n",
              "            color:  #000000;\n",
              "        }</style><table id=\"T_e8bc1c9e_1a92_11ec_b7d8_0242ac1c0002\" ><thead>    <tr>        <th class=\"blank level0\" ></th>        <th class=\"col_heading level0 col0\" >Rating</th>        <th class=\"col_heading level0 col1\" >Rating_Count</th>        <th class=\"col_heading level0 col2\" >Size</th>        <th class=\"col_heading level0 col3\" >Minimum_Android</th>        <th class=\"col_heading level0 col4\" >Ad_Supported</th>        <th class=\"col_heading level0 col5\" >In_App_Purchases</th>        <th class=\"col_heading level0 col6\" >Price</th>        <th class=\"col_heading level0 col7\" >Editors_Choice</th>        <th class=\"col_heading level0 col8\" >Days</th>        <th class=\"col_heading level0 col9\" >Updated</th>        <th class=\"col_heading level0 col10\" >Maximum_Installs</th>    </tr></thead><tbody>\n",
              "                <tr>\n",
              "                        <th id=\"T_e8bc1c9e_1a92_11ec_b7d8_0242ac1c0002level0_row0\" class=\"row_heading level0 row0\" >Rating</th>\n",
              "                        <td id=\"T_e8bc1c9e_1a92_11ec_b7d8_0242ac1c0002row0_col0\" class=\"data row0 col0\" >1.00</td>\n",
              "                        <td id=\"T_e8bc1c9e_1a92_11ec_b7d8_0242ac1c0002row0_col1\" class=\"data row0 col1\" >0.03</td>\n",
              "                        <td id=\"T_e8bc1c9e_1a92_11ec_b7d8_0242ac1c0002row0_col2\" class=\"data row0 col2\" >0.10</td>\n",
              "                        <td id=\"T_e8bc1c9e_1a92_11ec_b7d8_0242ac1c0002row0_col3\" class=\"data row0 col3\" >0.04</td>\n",
              "                        <td id=\"T_e8bc1c9e_1a92_11ec_b7d8_0242ac1c0002row0_col4\" class=\"data row0 col4\" >0.01</td>\n",
              "                        <td id=\"T_e8bc1c9e_1a92_11ec_b7d8_0242ac1c0002row0_col5\" class=\"data row0 col5\" >0.17</td>\n",
              "                        <td id=\"T_e8bc1c9e_1a92_11ec_b7d8_0242ac1c0002row0_col6\" class=\"data row0 col6\" >-0.05</td>\n",
              "                        <td id=\"T_e8bc1c9e_1a92_11ec_b7d8_0242ac1c0002row0_col7\" class=\"data row0 col7\" >0.03</td>\n",
              "                        <td id=\"T_e8bc1c9e_1a92_11ec_b7d8_0242ac1c0002row0_col8\" class=\"data row0 col8\" >0.22</td>\n",
              "                        <td id=\"T_e8bc1c9e_1a92_11ec_b7d8_0242ac1c0002row0_col9\" class=\"data row0 col9\" >0.23</td>\n",
              "                        <td id=\"T_e8bc1c9e_1a92_11ec_b7d8_0242ac1c0002row0_col10\" class=\"data row0 col10\" >0.05</td>\n",
              "            </tr>\n",
              "            <tr>\n",
              "                        <th id=\"T_e8bc1c9e_1a92_11ec_b7d8_0242ac1c0002level0_row1\" class=\"row_heading level0 row1\" >Rating_Count</th>\n",
              "                        <td id=\"T_e8bc1c9e_1a92_11ec_b7d8_0242ac1c0002row1_col0\" class=\"data row1 col0\" >0.03</td>\n",
              "                        <td id=\"T_e8bc1c9e_1a92_11ec_b7d8_0242ac1c0002row1_col1\" class=\"data row1 col1\" >1.00</td>\n",
              "                        <td id=\"T_e8bc1c9e_1a92_11ec_b7d8_0242ac1c0002row1_col2\" class=\"data row1 col2\" >0.02</td>\n",
              "                        <td id=\"T_e8bc1c9e_1a92_11ec_b7d8_0242ac1c0002row1_col3\" class=\"data row1 col3\" >0.01</td>\n",
              "                        <td id=\"T_e8bc1c9e_1a92_11ec_b7d8_0242ac1c0002row1_col4\" class=\"data row1 col4\" >0.01</td>\n",
              "                        <td id=\"T_e8bc1c9e_1a92_11ec_b7d8_0242ac1c0002row1_col5\" class=\"data row1 col5\" >0.05</td>\n",
              "                        <td id=\"T_e8bc1c9e_1a92_11ec_b7d8_0242ac1c0002row1_col6\" class=\"data row1 col6\" >-0.00</td>\n",
              "                        <td id=\"T_e8bc1c9e_1a92_11ec_b7d8_0242ac1c0002row1_col7\" class=\"data row1 col7\" >0.22</td>\n",
              "                        <td id=\"T_e8bc1c9e_1a92_11ec_b7d8_0242ac1c0002row1_col8\" class=\"data row1 col8\" >0.03</td>\n",
              "                        <td id=\"T_e8bc1c9e_1a92_11ec_b7d8_0242ac1c0002row1_col9\" class=\"data row1 col9\" >0.01</td>\n",
              "                        <td id=\"T_e8bc1c9e_1a92_11ec_b7d8_0242ac1c0002row1_col10\" class=\"data row1 col10\" >0.83</td>\n",
              "            </tr>\n",
              "            <tr>\n",
              "                        <th id=\"T_e8bc1c9e_1a92_11ec_b7d8_0242ac1c0002level0_row2\" class=\"row_heading level0 row2\" >Size</th>\n",
              "                        <td id=\"T_e8bc1c9e_1a92_11ec_b7d8_0242ac1c0002row2_col0\" class=\"data row2 col0\" >0.10</td>\n",
              "                        <td id=\"T_e8bc1c9e_1a92_11ec_b7d8_0242ac1c0002row2_col1\" class=\"data row2 col1\" >0.02</td>\n",
              "                        <td id=\"T_e8bc1c9e_1a92_11ec_b7d8_0242ac1c0002row2_col2\" class=\"data row2 col2\" >1.00</td>\n",
              "                        <td id=\"T_e8bc1c9e_1a92_11ec_b7d8_0242ac1c0002row2_col3\" class=\"data row2 col3\" >0.19</td>\n",
              "                        <td id=\"T_e8bc1c9e_1a92_11ec_b7d8_0242ac1c0002row2_col4\" class=\"data row2 col4\" >0.05</td>\n",
              "                        <td id=\"T_e8bc1c9e_1a92_11ec_b7d8_0242ac1c0002row2_col5\" class=\"data row2 col5\" >0.18</td>\n",
              "                        <td id=\"T_e8bc1c9e_1a92_11ec_b7d8_0242ac1c0002row2_col6\" class=\"data row2 col6\" >0.02</td>\n",
              "                        <td id=\"T_e8bc1c9e_1a92_11ec_b7d8_0242ac1c0002row2_col7\" class=\"data row2 col7\" >0.04</td>\n",
              "                        <td id=\"T_e8bc1c9e_1a92_11ec_b7d8_0242ac1c0002row2_col8\" class=\"data row2 col8\" >-0.17</td>\n",
              "                        <td id=\"T_e8bc1c9e_1a92_11ec_b7d8_0242ac1c0002row2_col9\" class=\"data row2 col9\" >0.03</td>\n",
              "                        <td id=\"T_e8bc1c9e_1a92_11ec_b7d8_0242ac1c0002row2_col10\" class=\"data row2 col10\" >0.04</td>\n",
              "            </tr>\n",
              "            <tr>\n",
              "                        <th id=\"T_e8bc1c9e_1a92_11ec_b7d8_0242ac1c0002level0_row3\" class=\"row_heading level0 row3\" >Minimum_Android</th>\n",
              "                        <td id=\"T_e8bc1c9e_1a92_11ec_b7d8_0242ac1c0002row3_col0\" class=\"data row3 col0\" >0.04</td>\n",
              "                        <td id=\"T_e8bc1c9e_1a92_11ec_b7d8_0242ac1c0002row3_col1\" class=\"data row3 col1\" >0.01</td>\n",
              "                        <td id=\"T_e8bc1c9e_1a92_11ec_b7d8_0242ac1c0002row3_col2\" class=\"data row3 col2\" >0.19</td>\n",
              "                        <td id=\"T_e8bc1c9e_1a92_11ec_b7d8_0242ac1c0002row3_col3\" class=\"data row3 col3\" >1.00</td>\n",
              "                        <td id=\"T_e8bc1c9e_1a92_11ec_b7d8_0242ac1c0002row3_col4\" class=\"data row3 col4\" >-0.03</td>\n",
              "                        <td id=\"T_e8bc1c9e_1a92_11ec_b7d8_0242ac1c0002row3_col5\" class=\"data row3 col5\" >0.08</td>\n",
              "                        <td id=\"T_e8bc1c9e_1a92_11ec_b7d8_0242ac1c0002row3_col6\" class=\"data row3 col6\" >0.05</td>\n",
              "                        <td id=\"T_e8bc1c9e_1a92_11ec_b7d8_0242ac1c0002row3_col7\" class=\"data row3 col7\" >0.01</td>\n",
              "                        <td id=\"T_e8bc1c9e_1a92_11ec_b7d8_0242ac1c0002row3_col8\" class=\"data row3 col8\" >-0.43</td>\n",
              "                        <td id=\"T_e8bc1c9e_1a92_11ec_b7d8_0242ac1c0002row3_col9\" class=\"data row3 col9\" >0.06</td>\n",
              "                        <td id=\"T_e8bc1c9e_1a92_11ec_b7d8_0242ac1c0002row3_col10\" class=\"data row3 col10\" >0.02</td>\n",
              "            </tr>\n",
              "            <tr>\n",
              "                        <th id=\"T_e8bc1c9e_1a92_11ec_b7d8_0242ac1c0002level0_row4\" class=\"row_heading level0 row4\" >Ad_Supported</th>\n",
              "                        <td id=\"T_e8bc1c9e_1a92_11ec_b7d8_0242ac1c0002row4_col0\" class=\"data row4 col0\" >0.01</td>\n",
              "                        <td id=\"T_e8bc1c9e_1a92_11ec_b7d8_0242ac1c0002row4_col1\" class=\"data row4 col1\" >0.01</td>\n",
              "                        <td id=\"T_e8bc1c9e_1a92_11ec_b7d8_0242ac1c0002row4_col2\" class=\"data row4 col2\" >0.05</td>\n",
              "                        <td id=\"T_e8bc1c9e_1a92_11ec_b7d8_0242ac1c0002row4_col3\" class=\"data row4 col3\" >-0.03</td>\n",
              "                        <td id=\"T_e8bc1c9e_1a92_11ec_b7d8_0242ac1c0002row4_col4\" class=\"data row4 col4\" >1.00</td>\n",
              "                        <td id=\"T_e8bc1c9e_1a92_11ec_b7d8_0242ac1c0002row4_col5\" class=\"data row4 col5\" >0.16</td>\n",
              "                        <td id=\"T_e8bc1c9e_1a92_11ec_b7d8_0242ac1c0002row4_col6\" class=\"data row4 col6\" >-0.00</td>\n",
              "                        <td id=\"T_e8bc1c9e_1a92_11ec_b7d8_0242ac1c0002row4_col7\" class=\"data row4 col7\" >-0.00</td>\n",
              "                        <td id=\"T_e8bc1c9e_1a92_11ec_b7d8_0242ac1c0002row4_col8\" class=\"data row4 col8\" >0.01</td>\n",
              "                        <td id=\"T_e8bc1c9e_1a92_11ec_b7d8_0242ac1c0002row4_col9\" class=\"data row4 col9\" >0.00</td>\n",
              "                        <td id=\"T_e8bc1c9e_1a92_11ec_b7d8_0242ac1c0002row4_col10\" class=\"data row4 col10\" >0.05</td>\n",
              "            </tr>\n",
              "            <tr>\n",
              "                        <th id=\"T_e8bc1c9e_1a92_11ec_b7d8_0242ac1c0002level0_row5\" class=\"row_heading level0 row5\" >In_App_Purchases</th>\n",
              "                        <td id=\"T_e8bc1c9e_1a92_11ec_b7d8_0242ac1c0002row5_col0\" class=\"data row5 col0\" >0.17</td>\n",
              "                        <td id=\"T_e8bc1c9e_1a92_11ec_b7d8_0242ac1c0002row5_col1\" class=\"data row5 col1\" >0.05</td>\n",
              "                        <td id=\"T_e8bc1c9e_1a92_11ec_b7d8_0242ac1c0002row5_col2\" class=\"data row5 col2\" >0.18</td>\n",
              "                        <td id=\"T_e8bc1c9e_1a92_11ec_b7d8_0242ac1c0002row5_col3\" class=\"data row5 col3\" >0.08</td>\n",
              "                        <td id=\"T_e8bc1c9e_1a92_11ec_b7d8_0242ac1c0002row5_col4\" class=\"data row5 col4\" >0.16</td>\n",
              "                        <td id=\"T_e8bc1c9e_1a92_11ec_b7d8_0242ac1c0002row5_col5\" class=\"data row5 col5\" >1.00</td>\n",
              "                        <td id=\"T_e8bc1c9e_1a92_11ec_b7d8_0242ac1c0002row5_col6\" class=\"data row5 col6\" >-0.00</td>\n",
              "                        <td id=\"T_e8bc1c9e_1a92_11ec_b7d8_0242ac1c0002row5_col7\" class=\"data row5 col7\" >0.02</td>\n",
              "                        <td id=\"T_e8bc1c9e_1a92_11ec_b7d8_0242ac1c0002row5_col8\" class=\"data row5 col8\" >-0.01</td>\n",
              "                        <td id=\"T_e8bc1c9e_1a92_11ec_b7d8_0242ac1c0002row5_col9\" class=\"data row5 col9\" >0.07</td>\n",
              "                        <td id=\"T_e8bc1c9e_1a92_11ec_b7d8_0242ac1c0002row5_col10\" class=\"data row5 col10\" >0.10</td>\n",
              "            </tr>\n",
              "            <tr>\n",
              "                        <th id=\"T_e8bc1c9e_1a92_11ec_b7d8_0242ac1c0002level0_row6\" class=\"row_heading level0 row6\" >Price</th>\n",
              "                        <td id=\"T_e8bc1c9e_1a92_11ec_b7d8_0242ac1c0002row6_col0\" class=\"data row6 col0\" >-0.05</td>\n",
              "                        <td id=\"T_e8bc1c9e_1a92_11ec_b7d8_0242ac1c0002row6_col1\" class=\"data row6 col1\" >-0.00</td>\n",
              "                        <td id=\"T_e8bc1c9e_1a92_11ec_b7d8_0242ac1c0002row6_col2\" class=\"data row6 col2\" >0.02</td>\n",
              "                        <td id=\"T_e8bc1c9e_1a92_11ec_b7d8_0242ac1c0002row6_col3\" class=\"data row6 col3\" >0.05</td>\n",
              "                        <td id=\"T_e8bc1c9e_1a92_11ec_b7d8_0242ac1c0002row6_col4\" class=\"data row6 col4\" >-0.00</td>\n",
              "                        <td id=\"T_e8bc1c9e_1a92_11ec_b7d8_0242ac1c0002row6_col5\" class=\"data row6 col5\" >-0.00</td>\n",
              "                        <td id=\"T_e8bc1c9e_1a92_11ec_b7d8_0242ac1c0002row6_col6\" class=\"data row6 col6\" >1.00</td>\n",
              "                        <td id=\"T_e8bc1c9e_1a92_11ec_b7d8_0242ac1c0002row6_col7\" class=\"data row6 col7\" >-0.00</td>\n",
              "                        <td id=\"T_e8bc1c9e_1a92_11ec_b7d8_0242ac1c0002row6_col8\" class=\"data row6 col8\" >-0.03</td>\n",
              "                        <td id=\"T_e8bc1c9e_1a92_11ec_b7d8_0242ac1c0002row6_col9\" class=\"data row6 col9\" >-0.02</td>\n",
              "                        <td id=\"T_e8bc1c9e_1a92_11ec_b7d8_0242ac1c0002row6_col10\" class=\"data row6 col10\" >-0.01</td>\n",
              "            </tr>\n",
              "            <tr>\n",
              "                        <th id=\"T_e8bc1c9e_1a92_11ec_b7d8_0242ac1c0002level0_row7\" class=\"row_heading level0 row7\" >Editors_Choice</th>\n",
              "                        <td id=\"T_e8bc1c9e_1a92_11ec_b7d8_0242ac1c0002row7_col0\" class=\"data row7 col0\" >0.03</td>\n",
              "                        <td id=\"T_e8bc1c9e_1a92_11ec_b7d8_0242ac1c0002row7_col1\" class=\"data row7 col1\" >0.22</td>\n",
              "                        <td id=\"T_e8bc1c9e_1a92_11ec_b7d8_0242ac1c0002row7_col2\" class=\"data row7 col2\" >0.04</td>\n",
              "                        <td id=\"T_e8bc1c9e_1a92_11ec_b7d8_0242ac1c0002row7_col3\" class=\"data row7 col3\" >0.01</td>\n",
              "                        <td id=\"T_e8bc1c9e_1a92_11ec_b7d8_0242ac1c0002row7_col4\" class=\"data row7 col4\" >-0.00</td>\n",
              "                        <td id=\"T_e8bc1c9e_1a92_11ec_b7d8_0242ac1c0002row7_col5\" class=\"data row7 col5\" >0.02</td>\n",
              "                        <td id=\"T_e8bc1c9e_1a92_11ec_b7d8_0242ac1c0002row7_col6\" class=\"data row7 col6\" >-0.00</td>\n",
              "                        <td id=\"T_e8bc1c9e_1a92_11ec_b7d8_0242ac1c0002row7_col7\" class=\"data row7 col7\" >1.00</td>\n",
              "                        <td id=\"T_e8bc1c9e_1a92_11ec_b7d8_0242ac1c0002row7_col8\" class=\"data row7 col8\" >-0.00</td>\n",
              "                        <td id=\"T_e8bc1c9e_1a92_11ec_b7d8_0242ac1c0002row7_col9\" class=\"data row7 col9\" >0.01</td>\n",
              "                        <td id=\"T_e8bc1c9e_1a92_11ec_b7d8_0242ac1c0002row7_col10\" class=\"data row7 col10\" >0.24</td>\n",
              "            </tr>\n",
              "            <tr>\n",
              "                        <th id=\"T_e8bc1c9e_1a92_11ec_b7d8_0242ac1c0002level0_row8\" class=\"row_heading level0 row8\" >Days</th>\n",
              "                        <td id=\"T_e8bc1c9e_1a92_11ec_b7d8_0242ac1c0002row8_col0\" class=\"data row8 col0\" >0.22</td>\n",
              "                        <td id=\"T_e8bc1c9e_1a92_11ec_b7d8_0242ac1c0002row8_col1\" class=\"data row8 col1\" >0.03</td>\n",
              "                        <td id=\"T_e8bc1c9e_1a92_11ec_b7d8_0242ac1c0002row8_col2\" class=\"data row8 col2\" >-0.17</td>\n",
              "                        <td id=\"T_e8bc1c9e_1a92_11ec_b7d8_0242ac1c0002row8_col3\" class=\"data row8 col3\" >-0.43</td>\n",
              "                        <td id=\"T_e8bc1c9e_1a92_11ec_b7d8_0242ac1c0002row8_col4\" class=\"data row8 col4\" >0.01</td>\n",
              "                        <td id=\"T_e8bc1c9e_1a92_11ec_b7d8_0242ac1c0002row8_col5\" class=\"data row8 col5\" >-0.01</td>\n",
              "                        <td id=\"T_e8bc1c9e_1a92_11ec_b7d8_0242ac1c0002row8_col6\" class=\"data row8 col6\" >-0.03</td>\n",
              "                        <td id=\"T_e8bc1c9e_1a92_11ec_b7d8_0242ac1c0002row8_col7\" class=\"data row8 col7\" >-0.00</td>\n",
              "                        <td id=\"T_e8bc1c9e_1a92_11ec_b7d8_0242ac1c0002row8_col8\" class=\"data row8 col8\" >1.00</td>\n",
              "                        <td id=\"T_e8bc1c9e_1a92_11ec_b7d8_0242ac1c0002row8_col9\" class=\"data row8 col9\" >0.17</td>\n",
              "                        <td id=\"T_e8bc1c9e_1a92_11ec_b7d8_0242ac1c0002row8_col10\" class=\"data row8 col10\" >0.03</td>\n",
              "            </tr>\n",
              "            <tr>\n",
              "                        <th id=\"T_e8bc1c9e_1a92_11ec_b7d8_0242ac1c0002level0_row9\" class=\"row_heading level0 row9\" >Updated</th>\n",
              "                        <td id=\"T_e8bc1c9e_1a92_11ec_b7d8_0242ac1c0002row9_col0\" class=\"data row9 col0\" >0.23</td>\n",
              "                        <td id=\"T_e8bc1c9e_1a92_11ec_b7d8_0242ac1c0002row9_col1\" class=\"data row9 col1\" >0.01</td>\n",
              "                        <td id=\"T_e8bc1c9e_1a92_11ec_b7d8_0242ac1c0002row9_col2\" class=\"data row9 col2\" >0.03</td>\n",
              "                        <td id=\"T_e8bc1c9e_1a92_11ec_b7d8_0242ac1c0002row9_col3\" class=\"data row9 col3\" >0.06</td>\n",
              "                        <td id=\"T_e8bc1c9e_1a92_11ec_b7d8_0242ac1c0002row9_col4\" class=\"data row9 col4\" >0.00</td>\n",
              "                        <td id=\"T_e8bc1c9e_1a92_11ec_b7d8_0242ac1c0002row9_col5\" class=\"data row9 col5\" >0.07</td>\n",
              "                        <td id=\"T_e8bc1c9e_1a92_11ec_b7d8_0242ac1c0002row9_col6\" class=\"data row9 col6\" >-0.02</td>\n",
              "                        <td id=\"T_e8bc1c9e_1a92_11ec_b7d8_0242ac1c0002row9_col7\" class=\"data row9 col7\" >0.01</td>\n",
              "                        <td id=\"T_e8bc1c9e_1a92_11ec_b7d8_0242ac1c0002row9_col8\" class=\"data row9 col8\" >0.17</td>\n",
              "                        <td id=\"T_e8bc1c9e_1a92_11ec_b7d8_0242ac1c0002row9_col9\" class=\"data row9 col9\" >1.00</td>\n",
              "                        <td id=\"T_e8bc1c9e_1a92_11ec_b7d8_0242ac1c0002row9_col10\" class=\"data row9 col10\" >0.02</td>\n",
              "            </tr>\n",
              "            <tr>\n",
              "                        <th id=\"T_e8bc1c9e_1a92_11ec_b7d8_0242ac1c0002level0_row10\" class=\"row_heading level0 row10\" >Maximum_Installs</th>\n",
              "                        <td id=\"T_e8bc1c9e_1a92_11ec_b7d8_0242ac1c0002row10_col0\" class=\"data row10 col0\" >0.05</td>\n",
              "                        <td id=\"T_e8bc1c9e_1a92_11ec_b7d8_0242ac1c0002row10_col1\" class=\"data row10 col1\" >0.83</td>\n",
              "                        <td id=\"T_e8bc1c9e_1a92_11ec_b7d8_0242ac1c0002row10_col2\" class=\"data row10 col2\" >0.04</td>\n",
              "                        <td id=\"T_e8bc1c9e_1a92_11ec_b7d8_0242ac1c0002row10_col3\" class=\"data row10 col3\" >0.02</td>\n",
              "                        <td id=\"T_e8bc1c9e_1a92_11ec_b7d8_0242ac1c0002row10_col4\" class=\"data row10 col4\" >0.05</td>\n",
              "                        <td id=\"T_e8bc1c9e_1a92_11ec_b7d8_0242ac1c0002row10_col5\" class=\"data row10 col5\" >0.10</td>\n",
              "                        <td id=\"T_e8bc1c9e_1a92_11ec_b7d8_0242ac1c0002row10_col6\" class=\"data row10 col6\" >-0.01</td>\n",
              "                        <td id=\"T_e8bc1c9e_1a92_11ec_b7d8_0242ac1c0002row10_col7\" class=\"data row10 col7\" >0.24</td>\n",
              "                        <td id=\"T_e8bc1c9e_1a92_11ec_b7d8_0242ac1c0002row10_col8\" class=\"data row10 col8\" >0.03</td>\n",
              "                        <td id=\"T_e8bc1c9e_1a92_11ec_b7d8_0242ac1c0002row10_col9\" class=\"data row10 col9\" >0.02</td>\n",
              "                        <td id=\"T_e8bc1c9e_1a92_11ec_b7d8_0242ac1c0002row10_col10\" class=\"data row10 col10\" >1.00</td>\n",
              "            </tr>\n",
              "    </tbody></table>"
            ],
            "text/plain": [
              "<pandas.io.formats.style.Styler at 0x7fb4fd9744d0>"
            ]
          },
          "metadata": {},
          "execution_count": 172
        }
      ]
    },
    {
      "cell_type": "markdown",
      "metadata": {
        "id": "B6VeGYplKMW2"
      },
      "source": [
        "Here we can see price is very less depended on maximum number of installs"
      ]
    },
    {
      "cell_type": "code",
      "metadata": {
        "id": "_5YGGhUvJzRU",
        "colab": {
          "base_uri": "https://localhost:8080/",
          "height": 270
        },
        "outputId": "56e7fce3-4266-47ac-9967-6144b578ef60"
      },
      "source": [
        "corr = Free_Apps_Needed_cols.corr()\n",
        "corr.style.background_gradient(cmap='coolwarm').set_precision(2)"
      ],
      "execution_count": null,
      "outputs": [
        {
          "output_type": "execute_result",
          "data": {
            "text/html": [
              "<style  type=\"text/css\" >\n",
              "#T_e91e84f6_1a92_11ec_b7d8_0242ac1c0002row0_col0,#T_e91e84f6_1a92_11ec_b7d8_0242ac1c0002row1_col1,#T_e91e84f6_1a92_11ec_b7d8_0242ac1c0002row2_col2,#T_e91e84f6_1a92_11ec_b7d8_0242ac1c0002row3_col3,#T_e91e84f6_1a92_11ec_b7d8_0242ac1c0002row4_col4,#T_e91e84f6_1a92_11ec_b7d8_0242ac1c0002row5_col5,#T_e91e84f6_1a92_11ec_b7d8_0242ac1c0002row6_col6,#T_e91e84f6_1a92_11ec_b7d8_0242ac1c0002row7_col7,#T_e91e84f6_1a92_11ec_b7d8_0242ac1c0002row8_col8,#T_e91e84f6_1a92_11ec_b7d8_0242ac1c0002row9_col9{\n",
              "            background-color:  #b40426;\n",
              "            color:  #f1f1f1;\n",
              "        }#T_e91e84f6_1a92_11ec_b7d8_0242ac1c0002row0_col1,#T_e91e84f6_1a92_11ec_b7d8_0242ac1c0002row0_col6,#T_e91e84f6_1a92_11ec_b7d8_0242ac1c0002row5_col9,#T_e91e84f6_1a92_11ec_b7d8_0242ac1c0002row7_col6{\n",
              "            background-color:  #3e51c5;\n",
              "            color:  #f1f1f1;\n",
              "        }#T_e91e84f6_1a92_11ec_b7d8_0242ac1c0002row0_col2,#T_e91e84f6_1a92_11ec_b7d8_0242ac1c0002row0_col5,#T_e91e84f6_1a92_11ec_b7d8_0242ac1c0002row6_col1{\n",
              "            background-color:  #6687ed;\n",
              "            color:  #000000;\n",
              "        }#T_e91e84f6_1a92_11ec_b7d8_0242ac1c0002row0_col3,#T_e91e84f6_1a92_11ec_b7d8_0242ac1c0002row8_col2{\n",
              "            background-color:  #6b8df0;\n",
              "            color:  #000000;\n",
              "        }#T_e91e84f6_1a92_11ec_b7d8_0242ac1c0002row0_col4{\n",
              "            background-color:  #96b7ff;\n",
              "            color:  #000000;\n",
              "        }#T_e91e84f6_1a92_11ec_b7d8_0242ac1c0002row0_col7,#T_e91e84f6_1a92_11ec_b7d8_0242ac1c0002row2_col3{\n",
              "            background-color:  #c0d4f5;\n",
              "            color:  #000000;\n",
              "        }#T_e91e84f6_1a92_11ec_b7d8_0242ac1c0002row0_col8{\n",
              "            background-color:  #779af7;\n",
              "            color:  #000000;\n",
              "        }#T_e91e84f6_1a92_11ec_b7d8_0242ac1c0002row0_col9,#T_e91e84f6_1a92_11ec_b7d8_0242ac1c0002row1_col5,#T_e91e84f6_1a92_11ec_b7d8_0242ac1c0002row2_col9,#T_e91e84f6_1a92_11ec_b7d8_0242ac1c0002row3_col5{\n",
              "            background-color:  #3d50c3;\n",
              "            color:  #f1f1f1;\n",
              "        }#T_e91e84f6_1a92_11ec_b7d8_0242ac1c0002row1_col0,#T_e91e84f6_1a92_11ec_b7d8_0242ac1c0002row9_col0{\n",
              "            background-color:  #536edd;\n",
              "            color:  #000000;\n",
              "        }#T_e91e84f6_1a92_11ec_b7d8_0242ac1c0002row1_col2,#T_e91e84f6_1a92_11ec_b7d8_0242ac1c0002row2_col8,#T_e91e84f6_1a92_11ec_b7d8_0242ac1c0002row3_col8{\n",
              "            background-color:  #5b7ae5;\n",
              "            color:  #000000;\n",
              "        }#T_e91e84f6_1a92_11ec_b7d8_0242ac1c0002row1_col3,#T_e91e84f6_1a92_11ec_b7d8_0242ac1c0002row5_col0,#T_e91e84f6_1a92_11ec_b7d8_0242ac1c0002row9_col3{\n",
              "            background-color:  #80a3fa;\n",
              "            color:  #000000;\n",
              "        }#T_e91e84f6_1a92_11ec_b7d8_0242ac1c0002row1_col4,#T_e91e84f6_1a92_11ec_b7d8_0242ac1c0002row1_col6,#T_e91e84f6_1a92_11ec_b7d8_0242ac1c0002row4_col5,#T_e91e84f6_1a92_11ec_b7d8_0242ac1c0002row6_col2,#T_e91e84f6_1a92_11ec_b7d8_0242ac1c0002row9_col4{\n",
              "            background-color:  #6384eb;\n",
              "            color:  #000000;\n",
              "        }#T_e91e84f6_1a92_11ec_b7d8_0242ac1c0002row1_col7,#T_e91e84f6_1a92_11ec_b7d8_0242ac1c0002row6_col7,#T_e91e84f6_1a92_11ec_b7d8_0242ac1c0002row9_col7{\n",
              "            background-color:  #85a8fc;\n",
              "            color:  #000000;\n",
              "        }#T_e91e84f6_1a92_11ec_b7d8_0242ac1c0002row1_col8,#T_e91e84f6_1a92_11ec_b7d8_0242ac1c0002row6_col8,#T_e91e84f6_1a92_11ec_b7d8_0242ac1c0002row9_col8{\n",
              "            background-color:  #485fd1;\n",
              "            color:  #f1f1f1;\n",
              "        }#T_e91e84f6_1a92_11ec_b7d8_0242ac1c0002row1_col9,#T_e91e84f6_1a92_11ec_b7d8_0242ac1c0002row9_col1{\n",
              "            background-color:  #e9d5cb;\n",
              "            color:  #000000;\n",
              "        }#T_e91e84f6_1a92_11ec_b7d8_0242ac1c0002row2_col0,#T_e91e84f6_1a92_11ec_b7d8_0242ac1c0002row5_col8{\n",
              "            background-color:  #5f7fe8;\n",
              "            color:  #000000;\n",
              "        }#T_e91e84f6_1a92_11ec_b7d8_0242ac1c0002row2_col1{\n",
              "            background-color:  #3f53c6;\n",
              "            color:  #f1f1f1;\n",
              "        }#T_e91e84f6_1a92_11ec_b7d8_0242ac1c0002row2_col4,#T_e91e84f6_1a92_11ec_b7d8_0242ac1c0002row7_col4,#T_e91e84f6_1a92_11ec_b7d8_0242ac1c0002row8_col4{\n",
              "            background-color:  #5673e0;\n",
              "            color:  #000000;\n",
              "        }#T_e91e84f6_1a92_11ec_b7d8_0242ac1c0002row2_col5{\n",
              "            background-color:  #6f92f3;\n",
              "            color:  #000000;\n",
              "        }#T_e91e84f6_1a92_11ec_b7d8_0242ac1c0002row2_col6{\n",
              "            background-color:  #455cce;\n",
              "            color:  #f1f1f1;\n",
              "        }#T_e91e84f6_1a92_11ec_b7d8_0242ac1c0002row2_col7,#T_e91e84f6_1a92_11ec_b7d8_0242ac1c0002row6_col4{\n",
              "            background-color:  #6485ec;\n",
              "            color:  #000000;\n",
              "        }#T_e91e84f6_1a92_11ec_b7d8_0242ac1c0002row3_col0,#T_e91e84f6_1a92_11ec_b7d8_0242ac1c0002row3_col1,#T_e91e84f6_1a92_11ec_b7d8_0242ac1c0002row3_col4,#T_e91e84f6_1a92_11ec_b7d8_0242ac1c0002row3_col6,#T_e91e84f6_1a92_11ec_b7d8_0242ac1c0002row3_col7,#T_e91e84f6_1a92_11ec_b7d8_0242ac1c0002row3_col9,#T_e91e84f6_1a92_11ec_b7d8_0242ac1c0002row4_col6,#T_e91e84f6_1a92_11ec_b7d8_0242ac1c0002row4_col8,#T_e91e84f6_1a92_11ec_b7d8_0242ac1c0002row4_col9,#T_e91e84f6_1a92_11ec_b7d8_0242ac1c0002row7_col2,#T_e91e84f6_1a92_11ec_b7d8_0242ac1c0002row7_col3,#T_e91e84f6_1a92_11ec_b7d8_0242ac1c0002row8_col6,#T_e91e84f6_1a92_11ec_b7d8_0242ac1c0002row9_col5{\n",
              "            background-color:  #3b4cc0;\n",
              "            color:  #f1f1f1;\n",
              "        }#T_e91e84f6_1a92_11ec_b7d8_0242ac1c0002row3_col2{\n",
              "            background-color:  #a1c0ff;\n",
              "            color:  #000000;\n",
              "        }#T_e91e84f6_1a92_11ec_b7d8_0242ac1c0002row4_col0{\n",
              "            background-color:  #84a7fc;\n",
              "            color:  #000000;\n",
              "        }#T_e91e84f6_1a92_11ec_b7d8_0242ac1c0002row4_col1,#T_e91e84f6_1a92_11ec_b7d8_0242ac1c0002row8_col1,#T_e91e84f6_1a92_11ec_b7d8_0242ac1c0002row8_col9{\n",
              "            background-color:  #3c4ec2;\n",
              "            color:  #f1f1f1;\n",
              "        }#T_e91e84f6_1a92_11ec_b7d8_0242ac1c0002row4_col2,#T_e91e84f6_1a92_11ec_b7d8_0242ac1c0002row7_col5{\n",
              "            background-color:  #4a63d3;\n",
              "            color:  #f1f1f1;\n",
              "        }#T_e91e84f6_1a92_11ec_b7d8_0242ac1c0002row4_col3,#T_e91e84f6_1a92_11ec_b7d8_0242ac1c0002row9_col2{\n",
              "            background-color:  #5977e3;\n",
              "            color:  #000000;\n",
              "        }#T_e91e84f6_1a92_11ec_b7d8_0242ac1c0002row4_col7{\n",
              "            background-color:  #7597f6;\n",
              "            color:  #000000;\n",
              "        }#T_e91e84f6_1a92_11ec_b7d8_0242ac1c0002row5_col1{\n",
              "            background-color:  #4257c9;\n",
              "            color:  #f1f1f1;\n",
              "        }#T_e91e84f6_1a92_11ec_b7d8_0242ac1c0002row5_col2{\n",
              "            background-color:  #8db0fe;\n",
              "            color:  #000000;\n",
              "        }#T_e91e84f6_1a92_11ec_b7d8_0242ac1c0002row5_col3{\n",
              "            background-color:  #86a9fc;\n",
              "            color:  #000000;\n",
              "        }#T_e91e84f6_1a92_11ec_b7d8_0242ac1c0002row5_col4{\n",
              "            background-color:  #8fb1fe;\n",
              "            color:  #000000;\n",
              "        }#T_e91e84f6_1a92_11ec_b7d8_0242ac1c0002row5_col6{\n",
              "            background-color:  #465ecf;\n",
              "            color:  #f1f1f1;\n",
              "        }#T_e91e84f6_1a92_11ec_b7d8_0242ac1c0002row5_col7{\n",
              "            background-color:  #93b5fe;\n",
              "            color:  #000000;\n",
              "        }#T_e91e84f6_1a92_11ec_b7d8_0242ac1c0002row6_col0{\n",
              "            background-color:  #5572df;\n",
              "            color:  #000000;\n",
              "        }#T_e91e84f6_1a92_11ec_b7d8_0242ac1c0002row6_col3{\n",
              "            background-color:  #82a6fb;\n",
              "            color:  #000000;\n",
              "        }#T_e91e84f6_1a92_11ec_b7d8_0242ac1c0002row6_col5{\n",
              "            background-color:  #445acc;\n",
              "            color:  #f1f1f1;\n",
              "        }#T_e91e84f6_1a92_11ec_b7d8_0242ac1c0002row6_col9{\n",
              "            background-color:  #4e68d8;\n",
              "            color:  #000000;\n",
              "        }#T_e91e84f6_1a92_11ec_b7d8_0242ac1c0002row7_col0{\n",
              "            background-color:  #9bbcff;\n",
              "            color:  #000000;\n",
              "        }#T_e91e84f6_1a92_11ec_b7d8_0242ac1c0002row7_col1,#T_e91e84f6_1a92_11ec_b7d8_0242ac1c0002row7_col9{\n",
              "            background-color:  #4055c8;\n",
              "            color:  #f1f1f1;\n",
              "        }#T_e91e84f6_1a92_11ec_b7d8_0242ac1c0002row7_col8{\n",
              "            background-color:  #7a9df8;\n",
              "            color:  #000000;\n",
              "        }#T_e91e84f6_1a92_11ec_b7d8_0242ac1c0002row8_col0{\n",
              "            background-color:  #81a4fb;\n",
              "            color:  #000000;\n",
              "        }#T_e91e84f6_1a92_11ec_b7d8_0242ac1c0002row8_col3{\n",
              "            background-color:  #94b6ff;\n",
              "            color:  #000000;\n",
              "        }#T_e91e84f6_1a92_11ec_b7d8_0242ac1c0002row8_col5{\n",
              "            background-color:  #4f69d9;\n",
              "            color:  #000000;\n",
              "        }#T_e91e84f6_1a92_11ec_b7d8_0242ac1c0002row8_col7{\n",
              "            background-color:  #aec9fc;\n",
              "            color:  #000000;\n",
              "        }#T_e91e84f6_1a92_11ec_b7d8_0242ac1c0002row9_col6{\n",
              "            background-color:  #4c66d6;\n",
              "            color:  #000000;\n",
              "        }</style><table id=\"T_e91e84f6_1a92_11ec_b7d8_0242ac1c0002\" ><thead>    <tr>        <th class=\"blank level0\" ></th>        <th class=\"col_heading level0 col0\" >Rating</th>        <th class=\"col_heading level0 col1\" >Rating_Count</th>        <th class=\"col_heading level0 col2\" >Size</th>        <th class=\"col_heading level0 col3\" >Minimum_Android</th>        <th class=\"col_heading level0 col4\" >Ad_Supported</th>        <th class=\"col_heading level0 col5\" >In_App_Purchases</th>        <th class=\"col_heading level0 col6\" >Editors_Choice</th>        <th class=\"col_heading level0 col7\" >Days</th>        <th class=\"col_heading level0 col8\" >Updated</th>        <th class=\"col_heading level0 col9\" >Maximum_Installs</th>    </tr></thead><tbody>\n",
              "                <tr>\n",
              "                        <th id=\"T_e91e84f6_1a92_11ec_b7d8_0242ac1c0002level0_row0\" class=\"row_heading level0 row0\" >Rating</th>\n",
              "                        <td id=\"T_e91e84f6_1a92_11ec_b7d8_0242ac1c0002row0_col0\" class=\"data row0 col0\" >1.00</td>\n",
              "                        <td id=\"T_e91e84f6_1a92_11ec_b7d8_0242ac1c0002row0_col1\" class=\"data row0 col1\" >0.01</td>\n",
              "                        <td id=\"T_e91e84f6_1a92_11ec_b7d8_0242ac1c0002row0_col2\" class=\"data row0 col2\" >0.05</td>\n",
              "                        <td id=\"T_e91e84f6_1a92_11ec_b7d8_0242ac1c0002row0_col3\" class=\"data row0 col3\" >-0.07</td>\n",
              "                        <td id=\"T_e91e84f6_1a92_11ec_b7d8_0242ac1c0002row0_col4\" class=\"data row0 col4\" >0.17</td>\n",
              "                        <td id=\"T_e91e84f6_1a92_11ec_b7d8_0242ac1c0002row0_col5\" class=\"data row0 col5\" >0.15</td>\n",
              "                        <td id=\"T_e91e84f6_1a92_11ec_b7d8_0242ac1c0002row0_col6\" class=\"data row0 col6\" >0.02</td>\n",
              "                        <td id=\"T_e91e84f6_1a92_11ec_b7d8_0242ac1c0002row0_col7\" class=\"data row0 col7\" >0.24</td>\n",
              "                        <td id=\"T_e91e84f6_1a92_11ec_b7d8_0242ac1c0002row0_col8\" class=\"data row0 col8\" >0.16</td>\n",
              "                        <td id=\"T_e91e84f6_1a92_11ec_b7d8_0242ac1c0002row0_col9\" class=\"data row0 col9\" >0.01</td>\n",
              "            </tr>\n",
              "            <tr>\n",
              "                        <th id=\"T_e91e84f6_1a92_11ec_b7d8_0242ac1c0002level0_row1\" class=\"row_heading level0 row1\" >Rating_Count</th>\n",
              "                        <td id=\"T_e91e84f6_1a92_11ec_b7d8_0242ac1c0002row1_col0\" class=\"data row1 col0\" >0.01</td>\n",
              "                        <td id=\"T_e91e84f6_1a92_11ec_b7d8_0242ac1c0002row1_col1\" class=\"data row1 col1\" >1.00</td>\n",
              "                        <td id=\"T_e91e84f6_1a92_11ec_b7d8_0242ac1c0002row1_col2\" class=\"data row1 col2\" >0.02</td>\n",
              "                        <td id=\"T_e91e84f6_1a92_11ec_b7d8_0242ac1c0002row1_col3\" class=\"data row1 col3\" >0.00</td>\n",
              "                        <td id=\"T_e91e84f6_1a92_11ec_b7d8_0242ac1c0002row1_col4\" class=\"data row1 col4\" >0.01</td>\n",
              "                        <td id=\"T_e91e84f6_1a92_11ec_b7d8_0242ac1c0002row1_col5\" class=\"data row1 col5\" >0.02</td>\n",
              "                        <td id=\"T_e91e84f6_1a92_11ec_b7d8_0242ac1c0002row1_col6\" class=\"data row1 col6\" >0.14</td>\n",
              "                        <td id=\"T_e91e84f6_1a92_11ec_b7d8_0242ac1c0002row1_col7\" class=\"data row1 col7\" >0.02</td>\n",
              "                        <td id=\"T_e91e84f6_1a92_11ec_b7d8_0242ac1c0002row1_col8\" class=\"data row1 col8\" >0.01</td>\n",
              "                        <td id=\"T_e91e84f6_1a92_11ec_b7d8_0242ac1c0002row1_col9\" class=\"data row1 col9\" >0.55</td>\n",
              "            </tr>\n",
              "            <tr>\n",
              "                        <th id=\"T_e91e84f6_1a92_11ec_b7d8_0242ac1c0002level0_row2\" class=\"row_heading level0 row2\" >Size</th>\n",
              "                        <td id=\"T_e91e84f6_1a92_11ec_b7d8_0242ac1c0002row2_col0\" class=\"data row2 col0\" >0.05</td>\n",
              "                        <td id=\"T_e91e84f6_1a92_11ec_b7d8_0242ac1c0002row2_col1\" class=\"data row2 col1\" >0.02</td>\n",
              "                        <td id=\"T_e91e84f6_1a92_11ec_b7d8_0242ac1c0002row2_col2\" class=\"data row2 col2\" >1.00</td>\n",
              "                        <td id=\"T_e91e84f6_1a92_11ec_b7d8_0242ac1c0002row2_col3\" class=\"data row2 col3\" >0.24</td>\n",
              "                        <td id=\"T_e91e84f6_1a92_11ec_b7d8_0242ac1c0002row2_col4\" class=\"data row2 col4\" >-0.04</td>\n",
              "                        <td id=\"T_e91e84f6_1a92_11ec_b7d8_0242ac1c0002row2_col5\" class=\"data row2 col5\" >0.18</td>\n",
              "                        <td id=\"T_e91e84f6_1a92_11ec_b7d8_0242ac1c0002row2_col6\" class=\"data row2 col6\" >0.04</td>\n",
              "                        <td id=\"T_e91e84f6_1a92_11ec_b7d8_0242ac1c0002row2_col7\" class=\"data row2 col7\" >-0.10</td>\n",
              "                        <td id=\"T_e91e84f6_1a92_11ec_b7d8_0242ac1c0002row2_col8\" class=\"data row2 col8\" >0.07</td>\n",
              "                        <td id=\"T_e91e84f6_1a92_11ec_b7d8_0242ac1c0002row2_col9\" class=\"data row2 col9\" >0.01</td>\n",
              "            </tr>\n",
              "            <tr>\n",
              "                        <th id=\"T_e91e84f6_1a92_11ec_b7d8_0242ac1c0002level0_row3\" class=\"row_heading level0 row3\" >Minimum_Android</th>\n",
              "                        <td id=\"T_e91e84f6_1a92_11ec_b7d8_0242ac1c0002row3_col0\" class=\"data row3 col0\" >-0.07</td>\n",
              "                        <td id=\"T_e91e84f6_1a92_11ec_b7d8_0242ac1c0002row3_col1\" class=\"data row3 col1\" >0.00</td>\n",
              "                        <td id=\"T_e91e84f6_1a92_11ec_b7d8_0242ac1c0002row3_col2\" class=\"data row3 col2\" >0.24</td>\n",
              "                        <td id=\"T_e91e84f6_1a92_11ec_b7d8_0242ac1c0002row3_col3\" class=\"data row3 col3\" >1.00</td>\n",
              "                        <td id=\"T_e91e84f6_1a92_11ec_b7d8_0242ac1c0002row3_col4\" class=\"data row3 col4\" >-0.15</td>\n",
              "                        <td id=\"T_e91e84f6_1a92_11ec_b7d8_0242ac1c0002row3_col5\" class=\"data row3 col5\" >0.03</td>\n",
              "                        <td id=\"T_e91e84f6_1a92_11ec_b7d8_0242ac1c0002row3_col6\" class=\"data row3 col6\" >0.01</td>\n",
              "                        <td id=\"T_e91e84f6_1a92_11ec_b7d8_0242ac1c0002row3_col7\" class=\"data row3 col7\" >-0.27</td>\n",
              "                        <td id=\"T_e91e84f6_1a92_11ec_b7d8_0242ac1c0002row3_col8\" class=\"data row3 col8\" >0.07</td>\n",
              "                        <td id=\"T_e91e84f6_1a92_11ec_b7d8_0242ac1c0002row3_col9\" class=\"data row3 col9\" >0.00</td>\n",
              "            </tr>\n",
              "            <tr>\n",
              "                        <th id=\"T_e91e84f6_1a92_11ec_b7d8_0242ac1c0002level0_row4\" class=\"row_heading level0 row4\" >Ad_Supported</th>\n",
              "                        <td id=\"T_e91e84f6_1a92_11ec_b7d8_0242ac1c0002row4_col0\" class=\"data row4 col0\" >0.17</td>\n",
              "                        <td id=\"T_e91e84f6_1a92_11ec_b7d8_0242ac1c0002row4_col1\" class=\"data row4 col1\" >0.01</td>\n",
              "                        <td id=\"T_e91e84f6_1a92_11ec_b7d8_0242ac1c0002row4_col2\" class=\"data row4 col2\" >-0.04</td>\n",
              "                        <td id=\"T_e91e84f6_1a92_11ec_b7d8_0242ac1c0002row4_col3\" class=\"data row4 col3\" >-0.15</td>\n",
              "                        <td id=\"T_e91e84f6_1a92_11ec_b7d8_0242ac1c0002row4_col4\" class=\"data row4 col4\" >1.00</td>\n",
              "                        <td id=\"T_e91e84f6_1a92_11ec_b7d8_0242ac1c0002row4_col5\" class=\"data row4 col5\" >0.15</td>\n",
              "                        <td id=\"T_e91e84f6_1a92_11ec_b7d8_0242ac1c0002row4_col6\" class=\"data row4 col6\" >0.01</td>\n",
              "                        <td id=\"T_e91e84f6_1a92_11ec_b7d8_0242ac1c0002row4_col7\" class=\"data row4 col7\" >-0.04</td>\n",
              "                        <td id=\"T_e91e84f6_1a92_11ec_b7d8_0242ac1c0002row4_col8\" class=\"data row4 col8\" >-0.04</td>\n",
              "                        <td id=\"T_e91e84f6_1a92_11ec_b7d8_0242ac1c0002row4_col9\" class=\"data row4 col9\" >0.00</td>\n",
              "            </tr>\n",
              "            <tr>\n",
              "                        <th id=\"T_e91e84f6_1a92_11ec_b7d8_0242ac1c0002level0_row5\" class=\"row_heading level0 row5\" >In_App_Purchases</th>\n",
              "                        <td id=\"T_e91e84f6_1a92_11ec_b7d8_0242ac1c0002row5_col0\" class=\"data row5 col0\" >0.15</td>\n",
              "                        <td id=\"T_e91e84f6_1a92_11ec_b7d8_0242ac1c0002row5_col1\" class=\"data row5 col1\" >0.02</td>\n",
              "                        <td id=\"T_e91e84f6_1a92_11ec_b7d8_0242ac1c0002row5_col2\" class=\"data row5 col2\" >0.18</td>\n",
              "                        <td id=\"T_e91e84f6_1a92_11ec_b7d8_0242ac1c0002row5_col3\" class=\"data row5 col3\" >0.03</td>\n",
              "                        <td id=\"T_e91e84f6_1a92_11ec_b7d8_0242ac1c0002row5_col4\" class=\"data row5 col4\" >0.15</td>\n",
              "                        <td id=\"T_e91e84f6_1a92_11ec_b7d8_0242ac1c0002row5_col5\" class=\"data row5 col5\" >1.00</td>\n",
              "                        <td id=\"T_e91e84f6_1a92_11ec_b7d8_0242ac1c0002row5_col6\" class=\"data row5 col6\" >0.05</td>\n",
              "                        <td id=\"T_e91e84f6_1a92_11ec_b7d8_0242ac1c0002row5_col7\" class=\"data row5 col7\" >0.07</td>\n",
              "                        <td id=\"T_e91e84f6_1a92_11ec_b7d8_0242ac1c0002row5_col8\" class=\"data row5 col8\" >0.08</td>\n",
              "                        <td id=\"T_e91e84f6_1a92_11ec_b7d8_0242ac1c0002row5_col9\" class=\"data row5 col9\" >0.02</td>\n",
              "            </tr>\n",
              "            <tr>\n",
              "                        <th id=\"T_e91e84f6_1a92_11ec_b7d8_0242ac1c0002level0_row6\" class=\"row_heading level0 row6\" >Editors_Choice</th>\n",
              "                        <td id=\"T_e91e84f6_1a92_11ec_b7d8_0242ac1c0002row6_col0\" class=\"data row6 col0\" >0.02</td>\n",
              "                        <td id=\"T_e91e84f6_1a92_11ec_b7d8_0242ac1c0002row6_col1\" class=\"data row6 col1\" >0.14</td>\n",
              "                        <td id=\"T_e91e84f6_1a92_11ec_b7d8_0242ac1c0002row6_col2\" class=\"data row6 col2\" >0.04</td>\n",
              "                        <td id=\"T_e91e84f6_1a92_11ec_b7d8_0242ac1c0002row6_col3\" class=\"data row6 col3\" >0.01</td>\n",
              "                        <td id=\"T_e91e84f6_1a92_11ec_b7d8_0242ac1c0002row6_col4\" class=\"data row6 col4\" >0.01</td>\n",
              "                        <td id=\"T_e91e84f6_1a92_11ec_b7d8_0242ac1c0002row6_col5\" class=\"data row6 col5\" >0.05</td>\n",
              "                        <td id=\"T_e91e84f6_1a92_11ec_b7d8_0242ac1c0002row6_col6\" class=\"data row6 col6\" >1.00</td>\n",
              "                        <td id=\"T_e91e84f6_1a92_11ec_b7d8_0242ac1c0002row6_col7\" class=\"data row6 col7\" >0.02</td>\n",
              "                        <td id=\"T_e91e84f6_1a92_11ec_b7d8_0242ac1c0002row6_col8\" class=\"data row6 col8\" >0.01</td>\n",
              "                        <td id=\"T_e91e84f6_1a92_11ec_b7d8_0242ac1c0002row6_col9\" class=\"data row6 col9\" >0.07</td>\n",
              "            </tr>\n",
              "            <tr>\n",
              "                        <th id=\"T_e91e84f6_1a92_11ec_b7d8_0242ac1c0002level0_row7\" class=\"row_heading level0 row7\" >Days</th>\n",
              "                        <td id=\"T_e91e84f6_1a92_11ec_b7d8_0242ac1c0002row7_col0\" class=\"data row7 col0\" >0.24</td>\n",
              "                        <td id=\"T_e91e84f6_1a92_11ec_b7d8_0242ac1c0002row7_col1\" class=\"data row7 col1\" >0.02</td>\n",
              "                        <td id=\"T_e91e84f6_1a92_11ec_b7d8_0242ac1c0002row7_col2\" class=\"data row7 col2\" >-0.10</td>\n",
              "                        <td id=\"T_e91e84f6_1a92_11ec_b7d8_0242ac1c0002row7_col3\" class=\"data row7 col3\" >-0.27</td>\n",
              "                        <td id=\"T_e91e84f6_1a92_11ec_b7d8_0242ac1c0002row7_col4\" class=\"data row7 col4\" >-0.04</td>\n",
              "                        <td id=\"T_e91e84f6_1a92_11ec_b7d8_0242ac1c0002row7_col5\" class=\"data row7 col5\" >0.07</td>\n",
              "                        <td id=\"T_e91e84f6_1a92_11ec_b7d8_0242ac1c0002row7_col6\" class=\"data row7 col6\" >0.02</td>\n",
              "                        <td id=\"T_e91e84f6_1a92_11ec_b7d8_0242ac1c0002row7_col7\" class=\"data row7 col7\" >1.00</td>\n",
              "                        <td id=\"T_e91e84f6_1a92_11ec_b7d8_0242ac1c0002row7_col8\" class=\"data row7 col8\" >0.17</td>\n",
              "                        <td id=\"T_e91e84f6_1a92_11ec_b7d8_0242ac1c0002row7_col9\" class=\"data row7 col9\" >0.02</td>\n",
              "            </tr>\n",
              "            <tr>\n",
              "                        <th id=\"T_e91e84f6_1a92_11ec_b7d8_0242ac1c0002level0_row8\" class=\"row_heading level0 row8\" >Updated</th>\n",
              "                        <td id=\"T_e91e84f6_1a92_11ec_b7d8_0242ac1c0002row8_col0\" class=\"data row8 col0\" >0.16</td>\n",
              "                        <td id=\"T_e91e84f6_1a92_11ec_b7d8_0242ac1c0002row8_col1\" class=\"data row8 col1\" >0.01</td>\n",
              "                        <td id=\"T_e91e84f6_1a92_11ec_b7d8_0242ac1c0002row8_col2\" class=\"data row8 col2\" >0.07</td>\n",
              "                        <td id=\"T_e91e84f6_1a92_11ec_b7d8_0242ac1c0002row8_col3\" class=\"data row8 col3\" >0.07</td>\n",
              "                        <td id=\"T_e91e84f6_1a92_11ec_b7d8_0242ac1c0002row8_col4\" class=\"data row8 col4\" >-0.04</td>\n",
              "                        <td id=\"T_e91e84f6_1a92_11ec_b7d8_0242ac1c0002row8_col5\" class=\"data row8 col5\" >0.08</td>\n",
              "                        <td id=\"T_e91e84f6_1a92_11ec_b7d8_0242ac1c0002row8_col6\" class=\"data row8 col6\" >0.01</td>\n",
              "                        <td id=\"T_e91e84f6_1a92_11ec_b7d8_0242ac1c0002row8_col7\" class=\"data row8 col7\" >0.17</td>\n",
              "                        <td id=\"T_e91e84f6_1a92_11ec_b7d8_0242ac1c0002row8_col8\" class=\"data row8 col8\" >1.00</td>\n",
              "                        <td id=\"T_e91e84f6_1a92_11ec_b7d8_0242ac1c0002row8_col9\" class=\"data row8 col9\" >0.01</td>\n",
              "            </tr>\n",
              "            <tr>\n",
              "                        <th id=\"T_e91e84f6_1a92_11ec_b7d8_0242ac1c0002level0_row9\" class=\"row_heading level0 row9\" >Maximum_Installs</th>\n",
              "                        <td id=\"T_e91e84f6_1a92_11ec_b7d8_0242ac1c0002row9_col0\" class=\"data row9 col0\" >0.01</td>\n",
              "                        <td id=\"T_e91e84f6_1a92_11ec_b7d8_0242ac1c0002row9_col1\" class=\"data row9 col1\" >0.55</td>\n",
              "                        <td id=\"T_e91e84f6_1a92_11ec_b7d8_0242ac1c0002row9_col2\" class=\"data row9 col2\" >0.01</td>\n",
              "                        <td id=\"T_e91e84f6_1a92_11ec_b7d8_0242ac1c0002row9_col3\" class=\"data row9 col3\" >0.00</td>\n",
              "                        <td id=\"T_e91e84f6_1a92_11ec_b7d8_0242ac1c0002row9_col4\" class=\"data row9 col4\" >0.00</td>\n",
              "                        <td id=\"T_e91e84f6_1a92_11ec_b7d8_0242ac1c0002row9_col5\" class=\"data row9 col5\" >0.02</td>\n",
              "                        <td id=\"T_e91e84f6_1a92_11ec_b7d8_0242ac1c0002row9_col6\" class=\"data row9 col6\" >0.07</td>\n",
              "                        <td id=\"T_e91e84f6_1a92_11ec_b7d8_0242ac1c0002row9_col7\" class=\"data row9 col7\" >0.02</td>\n",
              "                        <td id=\"T_e91e84f6_1a92_11ec_b7d8_0242ac1c0002row9_col8\" class=\"data row9 col8\" >0.01</td>\n",
              "                        <td id=\"T_e91e84f6_1a92_11ec_b7d8_0242ac1c0002row9_col9\" class=\"data row9 col9\" >1.00</td>\n",
              "            </tr>\n",
              "    </tbody></table>"
            ],
            "text/plain": [
              "<pandas.io.formats.style.Styler at 0x7fb508b8b790>"
            ]
          },
          "metadata": {},
          "execution_count": 173
        }
      ]
    },
    {
      "cell_type": "markdown",
      "metadata": {
        "id": "GJTlgjOFKxka"
      },
      "source": [
        "We can drop Minimum_Android,Ad_Supported since they have no correlation"
      ]
    },
    {
      "cell_type": "code",
      "metadata": {
        "id": "OSkSztM1J7lS"
      },
      "source": [
        "Free_Apps_Needed_cols = Free_Apps_Needed_cols.drop(columns=['Ad_Supported','Minimum_Android'])"
      ],
      "execution_count": null,
      "outputs": []
    },
    {
      "cell_type": "code",
      "metadata": {
        "id": "6UCefrIHLEWY",
        "colab": {
          "base_uri": "https://localhost:8080/",
          "height": 208
        },
        "outputId": "f9efc546-23b4-48d0-84b0-078534ca1548"
      },
      "source": [
        "corr = Free_Apps_Needed_cols.corr()\n",
        "corr.style.background_gradient(cmap='coolwarm').set_precision(2)"
      ],
      "execution_count": null,
      "outputs": [
        {
          "output_type": "execute_result",
          "data": {
            "text/html": [
              "<style  type=\"text/css\" >\n",
              "#T_e96dfd7e_1a92_11ec_b7d8_0242ac1c0002row0_col0,#T_e96dfd7e_1a92_11ec_b7d8_0242ac1c0002row1_col1,#T_e96dfd7e_1a92_11ec_b7d8_0242ac1c0002row2_col2,#T_e96dfd7e_1a92_11ec_b7d8_0242ac1c0002row3_col3,#T_e96dfd7e_1a92_11ec_b7d8_0242ac1c0002row4_col4,#T_e96dfd7e_1a92_11ec_b7d8_0242ac1c0002row5_col5,#T_e96dfd7e_1a92_11ec_b7d8_0242ac1c0002row6_col6,#T_e96dfd7e_1a92_11ec_b7d8_0242ac1c0002row7_col7{\n",
              "            background-color:  #b40426;\n",
              "            color:  #f1f1f1;\n",
              "        }#T_e96dfd7e_1a92_11ec_b7d8_0242ac1c0002row0_col1,#T_e96dfd7e_1a92_11ec_b7d8_0242ac1c0002row0_col7,#T_e96dfd7e_1a92_11ec_b7d8_0242ac1c0002row2_col7,#T_e96dfd7e_1a92_11ec_b7d8_0242ac1c0002row4_col0{\n",
              "            background-color:  #3c4ec2;\n",
              "            color:  #f1f1f1;\n",
              "        }#T_e96dfd7e_1a92_11ec_b7d8_0242ac1c0002row0_col2,#T_e96dfd7e_1a92_11ec_b7d8_0242ac1c0002row0_col3{\n",
              "            background-color:  #6687ed;\n",
              "            color:  #000000;\n",
              "        }#T_e96dfd7e_1a92_11ec_b7d8_0242ac1c0002row0_col4,#T_e96dfd7e_1a92_11ec_b7d8_0242ac1c0002row2_col1,#T_e96dfd7e_1a92_11ec_b7d8_0242ac1c0002row5_col4{\n",
              "            background-color:  #3e51c5;\n",
              "            color:  #f1f1f1;\n",
              "        }#T_e96dfd7e_1a92_11ec_b7d8_0242ac1c0002row0_col5{\n",
              "            background-color:  #a1c0ff;\n",
              "            color:  #000000;\n",
              "        }#T_e96dfd7e_1a92_11ec_b7d8_0242ac1c0002row0_col6,#T_e96dfd7e_1a92_11ec_b7d8_0242ac1c0002row6_col2{\n",
              "            background-color:  #6b8df0;\n",
              "            color:  #000000;\n",
              "        }#T_e96dfd7e_1a92_11ec_b7d8_0242ac1c0002row1_col0,#T_e96dfd7e_1a92_11ec_b7d8_0242ac1c0002row1_col6,#T_e96dfd7e_1a92_11ec_b7d8_0242ac1c0002row2_col5,#T_e96dfd7e_1a92_11ec_b7d8_0242ac1c0002row4_col6,#T_e96dfd7e_1a92_11ec_b7d8_0242ac1c0002row5_col2,#T_e96dfd7e_1a92_11ec_b7d8_0242ac1c0002row6_col1,#T_e96dfd7e_1a92_11ec_b7d8_0242ac1c0002row6_col4,#T_e96dfd7e_1a92_11ec_b7d8_0242ac1c0002row6_col7,#T_e96dfd7e_1a92_11ec_b7d8_0242ac1c0002row7_col0,#T_e96dfd7e_1a92_11ec_b7d8_0242ac1c0002row7_col3,#T_e96dfd7e_1a92_11ec_b7d8_0242ac1c0002row7_col6{\n",
              "            background-color:  #3b4cc0;\n",
              "            color:  #f1f1f1;\n",
              "        }#T_e96dfd7e_1a92_11ec_b7d8_0242ac1c0002row1_col2,#T_e96dfd7e_1a92_11ec_b7d8_0242ac1c0002row4_col5{\n",
              "            background-color:  #5b7ae5;\n",
              "            color:  #000000;\n",
              "        }#T_e96dfd7e_1a92_11ec_b7d8_0242ac1c0002row1_col3,#T_e96dfd7e_1a92_11ec_b7d8_0242ac1c0002row3_col7{\n",
              "            background-color:  #3d50c3;\n",
              "            color:  #f1f1f1;\n",
              "        }#T_e96dfd7e_1a92_11ec_b7d8_0242ac1c0002row1_col4,#T_e96dfd7e_1a92_11ec_b7d8_0242ac1c0002row4_col2{\n",
              "            background-color:  #6384eb;\n",
              "            color:  #000000;\n",
              "        }#T_e96dfd7e_1a92_11ec_b7d8_0242ac1c0002row1_col5,#T_e96dfd7e_1a92_11ec_b7d8_0242ac1c0002row7_col5{\n",
              "            background-color:  #5d7ce6;\n",
              "            color:  #000000;\n",
              "        }#T_e96dfd7e_1a92_11ec_b7d8_0242ac1c0002row1_col7,#T_e96dfd7e_1a92_11ec_b7d8_0242ac1c0002row7_col1{\n",
              "            background-color:  #e8d6cc;\n",
              "            color:  #000000;\n",
              "        }#T_e96dfd7e_1a92_11ec_b7d8_0242ac1c0002row2_col0{\n",
              "            background-color:  #485fd1;\n",
              "            color:  #f1f1f1;\n",
              "        }#T_e96dfd7e_1a92_11ec_b7d8_0242ac1c0002row2_col3{\n",
              "            background-color:  #6f92f3;\n",
              "            color:  #000000;\n",
              "        }#T_e96dfd7e_1a92_11ec_b7d8_0242ac1c0002row2_col4{\n",
              "            background-color:  #455cce;\n",
              "            color:  #f1f1f1;\n",
              "        }#T_e96dfd7e_1a92_11ec_b7d8_0242ac1c0002row2_col6{\n",
              "            background-color:  #4e68d8;\n",
              "            color:  #000000;\n",
              "        }#T_e96dfd7e_1a92_11ec_b7d8_0242ac1c0002row3_col0{\n",
              "            background-color:  #6788ee;\n",
              "            color:  #000000;\n",
              "        }#T_e96dfd7e_1a92_11ec_b7d8_0242ac1c0002row3_col1{\n",
              "            background-color:  #4055c8;\n",
              "            color:  #f1f1f1;\n",
              "        }#T_e96dfd7e_1a92_11ec_b7d8_0242ac1c0002row3_col2{\n",
              "            background-color:  #8db0fe;\n",
              "            color:  #000000;\n",
              "        }#T_e96dfd7e_1a92_11ec_b7d8_0242ac1c0002row3_col4{\n",
              "            background-color:  #465ecf;\n",
              "            color:  #f1f1f1;\n",
              "        }#T_e96dfd7e_1a92_11ec_b7d8_0242ac1c0002row3_col5{\n",
              "            background-color:  #6a8bef;\n",
              "            color:  #000000;\n",
              "        }#T_e96dfd7e_1a92_11ec_b7d8_0242ac1c0002row3_col6{\n",
              "            background-color:  #516ddb;\n",
              "            color:  #000000;\n",
              "        }#T_e96dfd7e_1a92_11ec_b7d8_0242ac1c0002row4_col1{\n",
              "            background-color:  #6485ec;\n",
              "            color:  #000000;\n",
              "        }#T_e96dfd7e_1a92_11ec_b7d8_0242ac1c0002row4_col3{\n",
              "            background-color:  #445acc;\n",
              "            color:  #f1f1f1;\n",
              "        }#T_e96dfd7e_1a92_11ec_b7d8_0242ac1c0002row4_col7{\n",
              "            background-color:  #4c66d6;\n",
              "            color:  #000000;\n",
              "        }#T_e96dfd7e_1a92_11ec_b7d8_0242ac1c0002row5_col0{\n",
              "            background-color:  #85a8fc;\n",
              "            color:  #000000;\n",
              "        }#T_e96dfd7e_1a92_11ec_b7d8_0242ac1c0002row5_col1,#T_e96dfd7e_1a92_11ec_b7d8_0242ac1c0002row5_col7{\n",
              "            background-color:  #3f53c6;\n",
              "            color:  #f1f1f1;\n",
              "        }#T_e96dfd7e_1a92_11ec_b7d8_0242ac1c0002row5_col3{\n",
              "            background-color:  #4a63d3;\n",
              "            color:  #f1f1f1;\n",
              "        }#T_e96dfd7e_1a92_11ec_b7d8_0242ac1c0002row5_col6{\n",
              "            background-color:  #6e90f2;\n",
              "            color:  #000000;\n",
              "        }#T_e96dfd7e_1a92_11ec_b7d8_0242ac1c0002row6_col0{\n",
              "            background-color:  #688aef;\n",
              "            color:  #000000;\n",
              "        }#T_e96dfd7e_1a92_11ec_b7d8_0242ac1c0002row6_col3{\n",
              "            background-color:  #4f69d9;\n",
              "            color:  #000000;\n",
              "        }#T_e96dfd7e_1a92_11ec_b7d8_0242ac1c0002row6_col5{\n",
              "            background-color:  #89acfd;\n",
              "            color:  #000000;\n",
              "        }#T_e96dfd7e_1a92_11ec_b7d8_0242ac1c0002row7_col2{\n",
              "            background-color:  #5977e3;\n",
              "            color:  #000000;\n",
              "        }#T_e96dfd7e_1a92_11ec_b7d8_0242ac1c0002row7_col4{\n",
              "            background-color:  #4b64d5;\n",
              "            color:  #f1f1f1;\n",
              "        }</style><table id=\"T_e96dfd7e_1a92_11ec_b7d8_0242ac1c0002\" ><thead>    <tr>        <th class=\"blank level0\" ></th>        <th class=\"col_heading level0 col0\" >Rating</th>        <th class=\"col_heading level0 col1\" >Rating_Count</th>        <th class=\"col_heading level0 col2\" >Size</th>        <th class=\"col_heading level0 col3\" >In_App_Purchases</th>        <th class=\"col_heading level0 col4\" >Editors_Choice</th>        <th class=\"col_heading level0 col5\" >Days</th>        <th class=\"col_heading level0 col6\" >Updated</th>        <th class=\"col_heading level0 col7\" >Maximum_Installs</th>    </tr></thead><tbody>\n",
              "                <tr>\n",
              "                        <th id=\"T_e96dfd7e_1a92_11ec_b7d8_0242ac1c0002level0_row0\" class=\"row_heading level0 row0\" >Rating</th>\n",
              "                        <td id=\"T_e96dfd7e_1a92_11ec_b7d8_0242ac1c0002row0_col0\" class=\"data row0 col0\" >1.00</td>\n",
              "                        <td id=\"T_e96dfd7e_1a92_11ec_b7d8_0242ac1c0002row0_col1\" class=\"data row0 col1\" >0.01</td>\n",
              "                        <td id=\"T_e96dfd7e_1a92_11ec_b7d8_0242ac1c0002row0_col2\" class=\"data row0 col2\" >0.05</td>\n",
              "                        <td id=\"T_e96dfd7e_1a92_11ec_b7d8_0242ac1c0002row0_col3\" class=\"data row0 col3\" >0.15</td>\n",
              "                        <td id=\"T_e96dfd7e_1a92_11ec_b7d8_0242ac1c0002row0_col4\" class=\"data row0 col4\" >0.02</td>\n",
              "                        <td id=\"T_e96dfd7e_1a92_11ec_b7d8_0242ac1c0002row0_col5\" class=\"data row0 col5\" >0.24</td>\n",
              "                        <td id=\"T_e96dfd7e_1a92_11ec_b7d8_0242ac1c0002row0_col6\" class=\"data row0 col6\" >0.16</td>\n",
              "                        <td id=\"T_e96dfd7e_1a92_11ec_b7d8_0242ac1c0002row0_col7\" class=\"data row0 col7\" >0.01</td>\n",
              "            </tr>\n",
              "            <tr>\n",
              "                        <th id=\"T_e96dfd7e_1a92_11ec_b7d8_0242ac1c0002level0_row1\" class=\"row_heading level0 row1\" >Rating_Count</th>\n",
              "                        <td id=\"T_e96dfd7e_1a92_11ec_b7d8_0242ac1c0002row1_col0\" class=\"data row1 col0\" >0.01</td>\n",
              "                        <td id=\"T_e96dfd7e_1a92_11ec_b7d8_0242ac1c0002row1_col1\" class=\"data row1 col1\" >1.00</td>\n",
              "                        <td id=\"T_e96dfd7e_1a92_11ec_b7d8_0242ac1c0002row1_col2\" class=\"data row1 col2\" >0.02</td>\n",
              "                        <td id=\"T_e96dfd7e_1a92_11ec_b7d8_0242ac1c0002row1_col3\" class=\"data row1 col3\" >0.02</td>\n",
              "                        <td id=\"T_e96dfd7e_1a92_11ec_b7d8_0242ac1c0002row1_col4\" class=\"data row1 col4\" >0.14</td>\n",
              "                        <td id=\"T_e96dfd7e_1a92_11ec_b7d8_0242ac1c0002row1_col5\" class=\"data row1 col5\" >0.02</td>\n",
              "                        <td id=\"T_e96dfd7e_1a92_11ec_b7d8_0242ac1c0002row1_col6\" class=\"data row1 col6\" >0.01</td>\n",
              "                        <td id=\"T_e96dfd7e_1a92_11ec_b7d8_0242ac1c0002row1_col7\" class=\"data row1 col7\" >0.55</td>\n",
              "            </tr>\n",
              "            <tr>\n",
              "                        <th id=\"T_e96dfd7e_1a92_11ec_b7d8_0242ac1c0002level0_row2\" class=\"row_heading level0 row2\" >Size</th>\n",
              "                        <td id=\"T_e96dfd7e_1a92_11ec_b7d8_0242ac1c0002row2_col0\" class=\"data row2 col0\" >0.05</td>\n",
              "                        <td id=\"T_e96dfd7e_1a92_11ec_b7d8_0242ac1c0002row2_col1\" class=\"data row2 col1\" >0.02</td>\n",
              "                        <td id=\"T_e96dfd7e_1a92_11ec_b7d8_0242ac1c0002row2_col2\" class=\"data row2 col2\" >1.00</td>\n",
              "                        <td id=\"T_e96dfd7e_1a92_11ec_b7d8_0242ac1c0002row2_col3\" class=\"data row2 col3\" >0.18</td>\n",
              "                        <td id=\"T_e96dfd7e_1a92_11ec_b7d8_0242ac1c0002row2_col4\" class=\"data row2 col4\" >0.04</td>\n",
              "                        <td id=\"T_e96dfd7e_1a92_11ec_b7d8_0242ac1c0002row2_col5\" class=\"data row2 col5\" >-0.10</td>\n",
              "                        <td id=\"T_e96dfd7e_1a92_11ec_b7d8_0242ac1c0002row2_col6\" class=\"data row2 col6\" >0.07</td>\n",
              "                        <td id=\"T_e96dfd7e_1a92_11ec_b7d8_0242ac1c0002row2_col7\" class=\"data row2 col7\" >0.01</td>\n",
              "            </tr>\n",
              "            <tr>\n",
              "                        <th id=\"T_e96dfd7e_1a92_11ec_b7d8_0242ac1c0002level0_row3\" class=\"row_heading level0 row3\" >In_App_Purchases</th>\n",
              "                        <td id=\"T_e96dfd7e_1a92_11ec_b7d8_0242ac1c0002row3_col0\" class=\"data row3 col0\" >0.15</td>\n",
              "                        <td id=\"T_e96dfd7e_1a92_11ec_b7d8_0242ac1c0002row3_col1\" class=\"data row3 col1\" >0.02</td>\n",
              "                        <td id=\"T_e96dfd7e_1a92_11ec_b7d8_0242ac1c0002row3_col2\" class=\"data row3 col2\" >0.18</td>\n",
              "                        <td id=\"T_e96dfd7e_1a92_11ec_b7d8_0242ac1c0002row3_col3\" class=\"data row3 col3\" >1.00</td>\n",
              "                        <td id=\"T_e96dfd7e_1a92_11ec_b7d8_0242ac1c0002row3_col4\" class=\"data row3 col4\" >0.05</td>\n",
              "                        <td id=\"T_e96dfd7e_1a92_11ec_b7d8_0242ac1c0002row3_col5\" class=\"data row3 col5\" >0.07</td>\n",
              "                        <td id=\"T_e96dfd7e_1a92_11ec_b7d8_0242ac1c0002row3_col6\" class=\"data row3 col6\" >0.08</td>\n",
              "                        <td id=\"T_e96dfd7e_1a92_11ec_b7d8_0242ac1c0002row3_col7\" class=\"data row3 col7\" >0.02</td>\n",
              "            </tr>\n",
              "            <tr>\n",
              "                        <th id=\"T_e96dfd7e_1a92_11ec_b7d8_0242ac1c0002level0_row4\" class=\"row_heading level0 row4\" >Editors_Choice</th>\n",
              "                        <td id=\"T_e96dfd7e_1a92_11ec_b7d8_0242ac1c0002row4_col0\" class=\"data row4 col0\" >0.02</td>\n",
              "                        <td id=\"T_e96dfd7e_1a92_11ec_b7d8_0242ac1c0002row4_col1\" class=\"data row4 col1\" >0.14</td>\n",
              "                        <td id=\"T_e96dfd7e_1a92_11ec_b7d8_0242ac1c0002row4_col2\" class=\"data row4 col2\" >0.04</td>\n",
              "                        <td id=\"T_e96dfd7e_1a92_11ec_b7d8_0242ac1c0002row4_col3\" class=\"data row4 col3\" >0.05</td>\n",
              "                        <td id=\"T_e96dfd7e_1a92_11ec_b7d8_0242ac1c0002row4_col4\" class=\"data row4 col4\" >1.00</td>\n",
              "                        <td id=\"T_e96dfd7e_1a92_11ec_b7d8_0242ac1c0002row4_col5\" class=\"data row4 col5\" >0.02</td>\n",
              "                        <td id=\"T_e96dfd7e_1a92_11ec_b7d8_0242ac1c0002row4_col6\" class=\"data row4 col6\" >0.01</td>\n",
              "                        <td id=\"T_e96dfd7e_1a92_11ec_b7d8_0242ac1c0002row4_col7\" class=\"data row4 col7\" >0.07</td>\n",
              "            </tr>\n",
              "            <tr>\n",
              "                        <th id=\"T_e96dfd7e_1a92_11ec_b7d8_0242ac1c0002level0_row5\" class=\"row_heading level0 row5\" >Days</th>\n",
              "                        <td id=\"T_e96dfd7e_1a92_11ec_b7d8_0242ac1c0002row5_col0\" class=\"data row5 col0\" >0.24</td>\n",
              "                        <td id=\"T_e96dfd7e_1a92_11ec_b7d8_0242ac1c0002row5_col1\" class=\"data row5 col1\" >0.02</td>\n",
              "                        <td id=\"T_e96dfd7e_1a92_11ec_b7d8_0242ac1c0002row5_col2\" class=\"data row5 col2\" >-0.10</td>\n",
              "                        <td id=\"T_e96dfd7e_1a92_11ec_b7d8_0242ac1c0002row5_col3\" class=\"data row5 col3\" >0.07</td>\n",
              "                        <td id=\"T_e96dfd7e_1a92_11ec_b7d8_0242ac1c0002row5_col4\" class=\"data row5 col4\" >0.02</td>\n",
              "                        <td id=\"T_e96dfd7e_1a92_11ec_b7d8_0242ac1c0002row5_col5\" class=\"data row5 col5\" >1.00</td>\n",
              "                        <td id=\"T_e96dfd7e_1a92_11ec_b7d8_0242ac1c0002row5_col6\" class=\"data row5 col6\" >0.17</td>\n",
              "                        <td id=\"T_e96dfd7e_1a92_11ec_b7d8_0242ac1c0002row5_col7\" class=\"data row5 col7\" >0.02</td>\n",
              "            </tr>\n",
              "            <tr>\n",
              "                        <th id=\"T_e96dfd7e_1a92_11ec_b7d8_0242ac1c0002level0_row6\" class=\"row_heading level0 row6\" >Updated</th>\n",
              "                        <td id=\"T_e96dfd7e_1a92_11ec_b7d8_0242ac1c0002row6_col0\" class=\"data row6 col0\" >0.16</td>\n",
              "                        <td id=\"T_e96dfd7e_1a92_11ec_b7d8_0242ac1c0002row6_col1\" class=\"data row6 col1\" >0.01</td>\n",
              "                        <td id=\"T_e96dfd7e_1a92_11ec_b7d8_0242ac1c0002row6_col2\" class=\"data row6 col2\" >0.07</td>\n",
              "                        <td id=\"T_e96dfd7e_1a92_11ec_b7d8_0242ac1c0002row6_col3\" class=\"data row6 col3\" >0.08</td>\n",
              "                        <td id=\"T_e96dfd7e_1a92_11ec_b7d8_0242ac1c0002row6_col4\" class=\"data row6 col4\" >0.01</td>\n",
              "                        <td id=\"T_e96dfd7e_1a92_11ec_b7d8_0242ac1c0002row6_col5\" class=\"data row6 col5\" >0.17</td>\n",
              "                        <td id=\"T_e96dfd7e_1a92_11ec_b7d8_0242ac1c0002row6_col6\" class=\"data row6 col6\" >1.00</td>\n",
              "                        <td id=\"T_e96dfd7e_1a92_11ec_b7d8_0242ac1c0002row6_col7\" class=\"data row6 col7\" >0.01</td>\n",
              "            </tr>\n",
              "            <tr>\n",
              "                        <th id=\"T_e96dfd7e_1a92_11ec_b7d8_0242ac1c0002level0_row7\" class=\"row_heading level0 row7\" >Maximum_Installs</th>\n",
              "                        <td id=\"T_e96dfd7e_1a92_11ec_b7d8_0242ac1c0002row7_col0\" class=\"data row7 col0\" >0.01</td>\n",
              "                        <td id=\"T_e96dfd7e_1a92_11ec_b7d8_0242ac1c0002row7_col1\" class=\"data row7 col1\" >0.55</td>\n",
              "                        <td id=\"T_e96dfd7e_1a92_11ec_b7d8_0242ac1c0002row7_col2\" class=\"data row7 col2\" >0.01</td>\n",
              "                        <td id=\"T_e96dfd7e_1a92_11ec_b7d8_0242ac1c0002row7_col3\" class=\"data row7 col3\" >0.02</td>\n",
              "                        <td id=\"T_e96dfd7e_1a92_11ec_b7d8_0242ac1c0002row7_col4\" class=\"data row7 col4\" >0.07</td>\n",
              "                        <td id=\"T_e96dfd7e_1a92_11ec_b7d8_0242ac1c0002row7_col5\" class=\"data row7 col5\" >0.02</td>\n",
              "                        <td id=\"T_e96dfd7e_1a92_11ec_b7d8_0242ac1c0002row7_col6\" class=\"data row7 col6\" >0.01</td>\n",
              "                        <td id=\"T_e96dfd7e_1a92_11ec_b7d8_0242ac1c0002row7_col7\" class=\"data row7 col7\" >1.00</td>\n",
              "            </tr>\n",
              "    </tbody></table>"
            ],
            "text/plain": [
              "<pandas.io.formats.style.Styler at 0x7fb4fd982b50>"
            ]
          },
          "metadata": {},
          "execution_count": 175
        }
      ]
    },
    {
      "cell_type": "code",
      "metadata": {
        "id": "ZqloMCjHLGU-"
      },
      "source": [
        "df_Free_apps = Free_Apps_Needed_cols\n",
        "df_Paid_apps = Paid_Apps_Needed_cols"
      ],
      "execution_count": null,
      "outputs": []
    },
    {
      "cell_type": "markdown",
      "metadata": {
        "id": "QTpTrtLcLlCl"
      },
      "source": [
        "# Step 4: Building Models and Evaluation"
      ]
    },
    {
      "cell_type": "markdown",
      "metadata": {
        "id": "0kxWIQZqkVRe"
      },
      "source": [
        "## Encoding Data"
      ]
    },
    {
      "cell_type": "code",
      "metadata": {
        "colab": {
          "base_uri": "https://localhost:8080/",
          "height": 224
        },
        "id": "LagInsdvLcGa",
        "outputId": "3769f24f-66ab-4b55-b2e1-491d6d109d0d"
      },
      "source": [
        "df_Free_apps.head()"
      ],
      "execution_count": null,
      "outputs": [
        {
          "output_type": "execute_result",
          "data": {
            "text/html": [
              "<div>\n",
              "<style scoped>\n",
              "    .dataframe tbody tr th:only-of-type {\n",
              "        vertical-align: middle;\n",
              "    }\n",
              "\n",
              "    .dataframe tbody tr th {\n",
              "        vertical-align: top;\n",
              "    }\n",
              "\n",
              "    .dataframe thead th {\n",
              "        text-align: right;\n",
              "    }\n",
              "</style>\n",
              "<table border=\"1\" class=\"dataframe\">\n",
              "  <thead>\n",
              "    <tr style=\"text-align: right;\">\n",
              "      <th></th>\n",
              "      <th>Category</th>\n",
              "      <th>Rating</th>\n",
              "      <th>Rating_Count</th>\n",
              "      <th>Size</th>\n",
              "      <th>Content_Rating</th>\n",
              "      <th>In_App_Purchases</th>\n",
              "      <th>Editors_Choice</th>\n",
              "      <th>Days</th>\n",
              "      <th>Updated</th>\n",
              "      <th>Maximum_Installs</th>\n",
              "    </tr>\n",
              "  </thead>\n",
              "  <tbody>\n",
              "    <tr>\n",
              "      <th>0</th>\n",
              "      <td>Adventure</td>\n",
              "      <td>0.0</td>\n",
              "      <td>0.0</td>\n",
              "      <td>10240.0</td>\n",
              "      <td>Everyone</td>\n",
              "      <td>False</td>\n",
              "      <td>False</td>\n",
              "      <td>475.0</td>\n",
              "      <td>False</td>\n",
              "      <td>15</td>\n",
              "    </tr>\n",
              "    <tr>\n",
              "      <th>1</th>\n",
              "      <td>Tools</td>\n",
              "      <td>4.4</td>\n",
              "      <td>64.0</td>\n",
              "      <td>2969.6</td>\n",
              "      <td>Everyone</td>\n",
              "      <td>False</td>\n",
              "      <td>False</td>\n",
              "      <td>390.0</td>\n",
              "      <td>True</td>\n",
              "      <td>7662</td>\n",
              "    </tr>\n",
              "    <tr>\n",
              "      <th>2</th>\n",
              "      <td>Productivity</td>\n",
              "      <td>0.0</td>\n",
              "      <td>0.0</td>\n",
              "      <td>3788.8</td>\n",
              "      <td>Everyone</td>\n",
              "      <td>False</td>\n",
              "      <td>False</td>\n",
              "      <td>676.0</td>\n",
              "      <td>True</td>\n",
              "      <td>58</td>\n",
              "    </tr>\n",
              "    <tr>\n",
              "      <th>3</th>\n",
              "      <td>Communication</td>\n",
              "      <td>5.0</td>\n",
              "      <td>5.0</td>\n",
              "      <td>1843.2</td>\n",
              "      <td>Everyone</td>\n",
              "      <td>False</td>\n",
              "      <td>False</td>\n",
              "      <td>1009.0</td>\n",
              "      <td>True</td>\n",
              "      <td>19</td>\n",
              "    </tr>\n",
              "    <tr>\n",
              "      <th>4</th>\n",
              "      <td>Tools</td>\n",
              "      <td>0.0</td>\n",
              "      <td>0.0</td>\n",
              "      <td>6348.8</td>\n",
              "      <td>Everyone</td>\n",
              "      <td>False</td>\n",
              "      <td>False</td>\n",
              "      <td>480.0</td>\n",
              "      <td>True</td>\n",
              "      <td>478</td>\n",
              "    </tr>\n",
              "  </tbody>\n",
              "</table>\n",
              "</div>"
            ],
            "text/plain": [
              "        Category  Rating  Rating_Count  ...    Days Updated  Maximum_Installs\n",
              "0      Adventure     0.0           0.0  ...   475.0   False                15\n",
              "1          Tools     4.4          64.0  ...   390.0    True              7662\n",
              "2   Productivity     0.0           0.0  ...   676.0    True                58\n",
              "3  Communication     5.0           5.0  ...  1009.0    True                19\n",
              "4          Tools     0.0           0.0  ...   480.0    True               478\n",
              "\n",
              "[5 rows x 10 columns]"
            ]
          },
          "metadata": {},
          "execution_count": 177
        }
      ]
    },
    {
      "cell_type": "code",
      "metadata": {
        "colab": {
          "base_uri": "https://localhost:8080/",
          "height": 224
        },
        "id": "q9hzxu4hLvWd",
        "outputId": "8d5652b2-e907-441e-fcf0-9b1500caf859"
      },
      "source": [
        "df_Paid_apps.head()"
      ],
      "execution_count": null,
      "outputs": [
        {
          "output_type": "execute_result",
          "data": {
            "text/html": [
              "<div>\n",
              "<style scoped>\n",
              "    .dataframe tbody tr th:only-of-type {\n",
              "        vertical-align: middle;\n",
              "    }\n",
              "\n",
              "    .dataframe tbody tr th {\n",
              "        vertical-align: top;\n",
              "    }\n",
              "\n",
              "    .dataframe thead th {\n",
              "        text-align: right;\n",
              "    }\n",
              "</style>\n",
              "<table border=\"1\" class=\"dataframe\">\n",
              "  <thead>\n",
              "    <tr style=\"text-align: right;\">\n",
              "      <th></th>\n",
              "      <th>Category</th>\n",
              "      <th>Rating</th>\n",
              "      <th>Rating_Count</th>\n",
              "      <th>Size</th>\n",
              "      <th>Minimum_Android</th>\n",
              "      <th>Content_Rating</th>\n",
              "      <th>Ad_Supported</th>\n",
              "      <th>In_App_Purchases</th>\n",
              "      <th>Price</th>\n",
              "      <th>Editors_Choice</th>\n",
              "      <th>Days</th>\n",
              "      <th>Updated</th>\n",
              "      <th>Maximum_Installs</th>\n",
              "    </tr>\n",
              "  </thead>\n",
              "  <tbody>\n",
              "    <tr>\n",
              "      <th>273</th>\n",
              "      <td>Tools</td>\n",
              "      <td>4.5</td>\n",
              "      <td>236.0</td>\n",
              "      <td>1638.4</td>\n",
              "      <td>4</td>\n",
              "      <td>Everyone</td>\n",
              "      <td>False</td>\n",
              "      <td>False</td>\n",
              "      <td>1.99</td>\n",
              "      <td>False</td>\n",
              "      <td>928.0</td>\n",
              "      <td>True</td>\n",
              "      <td>34125</td>\n",
              "    </tr>\n",
              "    <tr>\n",
              "      <th>296</th>\n",
              "      <td>Sports</td>\n",
              "      <td>2.8</td>\n",
              "      <td>160.0</td>\n",
              "      <td>30720.0</td>\n",
              "      <td>7</td>\n",
              "      <td>Everyone</td>\n",
              "      <td>False</td>\n",
              "      <td>False</td>\n",
              "      <td>4.99</td>\n",
              "      <td>False</td>\n",
              "      <td>1589.0</td>\n",
              "      <td>True</td>\n",
              "      <td>10407</td>\n",
              "    </tr>\n",
              "    <tr>\n",
              "      <th>417</th>\n",
              "      <td>Tools</td>\n",
              "      <td>3.5</td>\n",
              "      <td>468.0</td>\n",
              "      <td>886.0</td>\n",
              "      <td>2</td>\n",
              "      <td>Everyone</td>\n",
              "      <td>False</td>\n",
              "      <td>False</td>\n",
              "      <td>0.99</td>\n",
              "      <td>False</td>\n",
              "      <td>3176.0</td>\n",
              "      <td>True</td>\n",
              "      <td>12019</td>\n",
              "    </tr>\n",
              "    <tr>\n",
              "      <th>554</th>\n",
              "      <td>Education</td>\n",
              "      <td>0.0</td>\n",
              "      <td>0.0</td>\n",
              "      <td>17408.0</td>\n",
              "      <td>4</td>\n",
              "      <td>Everyone</td>\n",
              "      <td>False</td>\n",
              "      <td>False</td>\n",
              "      <td>2.99</td>\n",
              "      <td>False</td>\n",
              "      <td>1553.0</td>\n",
              "      <td>False</td>\n",
              "      <td>2</td>\n",
              "    </tr>\n",
              "    <tr>\n",
              "      <th>618</th>\n",
              "      <td>Simulation</td>\n",
              "      <td>3.8</td>\n",
              "      <td>1158.0</td>\n",
              "      <td>36864.0</td>\n",
              "      <td>4</td>\n",
              "      <td>Everyone</td>\n",
              "      <td>True</td>\n",
              "      <td>True</td>\n",
              "      <td>0.99</td>\n",
              "      <td>False</td>\n",
              "      <td>224.0</td>\n",
              "      <td>True</td>\n",
              "      <td>23644</td>\n",
              "    </tr>\n",
              "  </tbody>\n",
              "</table>\n",
              "</div>"
            ],
            "text/plain": [
              "       Category  Rating  Rating_Count  ...    Days  Updated Maximum_Installs\n",
              "273       Tools     4.5         236.0  ...   928.0     True            34125\n",
              "296      Sports     2.8         160.0  ...  1589.0     True            10407\n",
              "417       Tools     3.5         468.0  ...  3176.0     True            12019\n",
              "554   Education     0.0           0.0  ...  1553.0    False                2\n",
              "618  Simulation     3.8        1158.0  ...   224.0     True            23644\n",
              "\n",
              "[5 rows x 13 columns]"
            ]
          },
          "metadata": {},
          "execution_count": 178
        }
      ]
    },
    {
      "cell_type": "code",
      "metadata": {
        "id": "euLyfcsody0B"
      },
      "source": [
        "from sklearn.model_selection import train_test_split\n",
        "from sklearn.tree import DecisionTreeRegressor\n",
        "from sklearn.linear_model import LinearRegression\n",
        "from sklearn.preprocessing import PolynomialFeatures\n",
        "from sklearn.linear_model import LinearRegression\n",
        "from sklearn.ensemble import RandomForestRegressor\n",
        "from sklearn.svm import SVR\n",
        "from sklearn.preprocessing import StandardScaler\n",
        "from sklearn.preprocessing import OneHotEncoder\n",
        "from sklearn.preprocessing import LabelEncoder\n",
        "from sklearn.metrics import mean_squared_error\n",
        "from sklearn.metrics import r2_score\n",
        "import math\n",
        "import random"
      ],
      "execution_count": null,
      "outputs": []
    },
    {
      "cell_type": "code",
      "metadata": {
        "id": "PvxwoLLDg4zL"
      },
      "source": [
        "labelEncoder_category = LabelEncoder()\n",
        "labelEncoder_Content_Rating = LabelEncoder()"
      ],
      "execution_count": null,
      "outputs": []
    },
    {
      "cell_type": "code",
      "metadata": {
        "colab": {
          "base_uri": "https://localhost:8080/"
        },
        "id": "aKRRNhY2p1dN",
        "outputId": "efa2e620-8b3c-4c95-d331-172541b19d5a"
      },
      "source": [
        "labelEncoder_category.fit(df_Free_apps.Category.unique())"
      ],
      "execution_count": null,
      "outputs": [
        {
          "output_type": "execute_result",
          "data": {
            "text/plain": [
              "LabelEncoder()"
            ]
          },
          "metadata": {},
          "execution_count": 181
        }
      ]
    },
    {
      "cell_type": "code",
      "metadata": {
        "colab": {
          "base_uri": "https://localhost:8080/"
        },
        "id": "h0cUsSI3p1Xh",
        "outputId": "d7bed337-cebd-475f-e5c5-aa3103cea113"
      },
      "source": [
        "labelEncoder_Content_Rating.fit(df_Free_apps.Content_Rating.unique())"
      ],
      "execution_count": null,
      "outputs": [
        {
          "output_type": "execute_result",
          "data": {
            "text/plain": [
              "LabelEncoder()"
            ]
          },
          "metadata": {},
          "execution_count": 182
        }
      ]
    },
    {
      "cell_type": "code",
      "metadata": {
        "id": "L71mQohqp1S9"
      },
      "source": [
        "df_Free_apps.Category = labelEncoder_category.transform(df_Free_apps.Category)"
      ],
      "execution_count": null,
      "outputs": []
    },
    {
      "cell_type": "code",
      "metadata": {
        "id": "Q0U3JHj9qSZY"
      },
      "source": [
        "df_Paid_apps.Category = labelEncoder_category.transform(df_Paid_apps.Category)"
      ],
      "execution_count": null,
      "outputs": []
    },
    {
      "cell_type": "code",
      "metadata": {
        "id": "sOM4FeQeqZiI"
      },
      "source": [
        "df_Free_apps.Content_Rating = labelEncoder_Content_Rating.transform(df_Free_apps.Content_Rating)\n",
        "df_Paid_apps.Content_Rating = labelEncoder_Content_Rating.transform(df_Paid_apps.Content_Rating)"
      ],
      "execution_count": null,
      "outputs": []
    },
    {
      "cell_type": "code",
      "metadata": {
        "colab": {
          "base_uri": "https://localhost:8080/",
          "height": 224
        },
        "id": "4wtqhRItqZeg",
        "outputId": "ca22e264-0cd7-4e5b-bf13-e0a49f43cc74"
      },
      "source": [
        "df_Paid_apps.head()"
      ],
      "execution_count": null,
      "outputs": [
        {
          "output_type": "execute_result",
          "data": {
            "text/html": [
              "<div>\n",
              "<style scoped>\n",
              "    .dataframe tbody tr th:only-of-type {\n",
              "        vertical-align: middle;\n",
              "    }\n",
              "\n",
              "    .dataframe tbody tr th {\n",
              "        vertical-align: top;\n",
              "    }\n",
              "\n",
              "    .dataframe thead th {\n",
              "        text-align: right;\n",
              "    }\n",
              "</style>\n",
              "<table border=\"1\" class=\"dataframe\">\n",
              "  <thead>\n",
              "    <tr style=\"text-align: right;\">\n",
              "      <th></th>\n",
              "      <th>Category</th>\n",
              "      <th>Rating</th>\n",
              "      <th>Rating_Count</th>\n",
              "      <th>Size</th>\n",
              "      <th>Minimum_Android</th>\n",
              "      <th>Content_Rating</th>\n",
              "      <th>Ad_Supported</th>\n",
              "      <th>In_App_Purchases</th>\n",
              "      <th>Price</th>\n",
              "      <th>Editors_Choice</th>\n",
              "      <th>Days</th>\n",
              "      <th>Updated</th>\n",
              "      <th>Maximum_Installs</th>\n",
              "    </tr>\n",
              "  </thead>\n",
              "  <tbody>\n",
              "    <tr>\n",
              "      <th>273</th>\n",
              "      <td>40</td>\n",
              "      <td>4.5</td>\n",
              "      <td>236.0</td>\n",
              "      <td>1638.4</td>\n",
              "      <td>4</td>\n",
              "      <td>1</td>\n",
              "      <td>False</td>\n",
              "      <td>False</td>\n",
              "      <td>1.99</td>\n",
              "      <td>False</td>\n",
              "      <td>928.0</td>\n",
              "      <td>True</td>\n",
              "      <td>34125</td>\n",
              "    </tr>\n",
              "    <tr>\n",
              "      <th>296</th>\n",
              "      <td>38</td>\n",
              "      <td>2.8</td>\n",
              "      <td>160.0</td>\n",
              "      <td>30720.0</td>\n",
              "      <td>7</td>\n",
              "      <td>1</td>\n",
              "      <td>False</td>\n",
              "      <td>False</td>\n",
              "      <td>4.99</td>\n",
              "      <td>False</td>\n",
              "      <td>1589.0</td>\n",
              "      <td>True</td>\n",
              "      <td>10407</td>\n",
              "    </tr>\n",
              "    <tr>\n",
              "      <th>417</th>\n",
              "      <td>40</td>\n",
              "      <td>3.5</td>\n",
              "      <td>468.0</td>\n",
              "      <td>886.0</td>\n",
              "      <td>2</td>\n",
              "      <td>1</td>\n",
              "      <td>False</td>\n",
              "      <td>False</td>\n",
              "      <td>0.99</td>\n",
              "      <td>False</td>\n",
              "      <td>3176.0</td>\n",
              "      <td>True</td>\n",
              "      <td>12019</td>\n",
              "    </tr>\n",
              "    <tr>\n",
              "      <th>554</th>\n",
              "      <td>15</td>\n",
              "      <td>0.0</td>\n",
              "      <td>0.0</td>\n",
              "      <td>17408.0</td>\n",
              "      <td>4</td>\n",
              "      <td>1</td>\n",
              "      <td>False</td>\n",
              "      <td>False</td>\n",
              "      <td>2.99</td>\n",
              "      <td>False</td>\n",
              "      <td>1553.0</td>\n",
              "      <td>False</td>\n",
              "      <td>2</td>\n",
              "    </tr>\n",
              "    <tr>\n",
              "      <th>618</th>\n",
              "      <td>36</td>\n",
              "      <td>3.8</td>\n",
              "      <td>1158.0</td>\n",
              "      <td>36864.0</td>\n",
              "      <td>4</td>\n",
              "      <td>1</td>\n",
              "      <td>True</td>\n",
              "      <td>True</td>\n",
              "      <td>0.99</td>\n",
              "      <td>False</td>\n",
              "      <td>224.0</td>\n",
              "      <td>True</td>\n",
              "      <td>23644</td>\n",
              "    </tr>\n",
              "  </tbody>\n",
              "</table>\n",
              "</div>"
            ],
            "text/plain": [
              "     Category  Rating  Rating_Count  ...    Days  Updated  Maximum_Installs\n",
              "273        40     4.5         236.0  ...   928.0     True             34125\n",
              "296        38     2.8         160.0  ...  1589.0     True             10407\n",
              "417        40     3.5         468.0  ...  3176.0     True             12019\n",
              "554        15     0.0           0.0  ...  1553.0    False                 2\n",
              "618        36     3.8        1158.0  ...   224.0     True             23644\n",
              "\n",
              "[5 rows x 13 columns]"
            ]
          },
          "metadata": {},
          "execution_count": 186
        }
      ]
    },
    {
      "cell_type": "markdown",
      "metadata": {
        "id": "6qbr3C1Gng-b"
      },
      "source": [
        "## Definition for Models"
      ]
    },
    {
      "cell_type": "code",
      "metadata": {
        "id": "bGyksiPjngbO"
      },
      "source": [
        "def fit_predict(X,y):\n",
        "  free_apps_dict = {}\n",
        "  random_state = 0\n",
        "  X_train, X_test, y_train, y_test = train_test_split(X, y, test_size = 0.2, random_state = random_state)\n",
        "  \n",
        "  linear_regressor = LinearRegression()\n",
        "  tree_regressor = DecisionTreeRegressor(random_state = random_state)\n",
        "  forest_regressor = RandomForestRegressor(n_estimators = 10, random_state = 0)\n",
        "  xgb_regressor = XGBRegressor()\n",
        "  \n",
        "  linear_regressor.fit(X_train,y_train)\n",
        "  tree_regressor.fit(X_train,y_train)\n",
        "  forest_regressor.fit(X_train,y_train)\n",
        "  xgb_regressor.fit(X_train,y_train)\n",
        "\n",
        "  free_apps_dict[\"linear_regressor\"] = [r2_score(y_train,linear_regressor.predict(X_train)),\n",
        "                                        r2_score(y_test,linear_regressor.predict(X_test))]\n",
        "  free_apps_dict[\"tree_regressor\"] = [r2_score(y_train,tree_regressor.predict(X_train)),\n",
        "                                        r2_score(y_test,tree_regressor.predict(X_test))]\n",
        "  free_apps_dict[\"forest_regressor\"] = [r2_score(y_train,forest_regressor.predict(X_train)),\n",
        "                                        r2_score(y_test,forest_regressor.predict(X_test))]\n",
        "  free_apps_dict[\"xgb_regressor\"] = [r2_score(y_train,xgb_regressor.predict(X_train)),\n",
        "                                        r2_score(y_test,xgb_regressor.predict(X_test))]\n",
        "\n",
        "  ##--------For Log-------##\n",
        "  y_train[y_train==0] = 1\n",
        "  y_test[y_test==0] = 1\n",
        "  y_train_log = np.log(y_train)\n",
        "  y_test_log = np.log(y_test)\n",
        "  linear_regressor_log = LinearRegression()\n",
        "  tree_regressor_log = DecisionTreeRegressor(random_state = random_state)\n",
        "  forest_regressor_log = RandomForestRegressor(n_estimators = 10, random_state = 0)\n",
        "  xgb_regressor_log = XGBRegressor()\n",
        "\n",
        "  linear_regressor_log.fit(X_train,y_train_log)\n",
        "  tree_regressor_log.fit(X_train,y_train_log)\n",
        "  forest_regressor_log.fit(X_train,y_train_log)\n",
        "  xgb_regressor_log.fit(X_train,y_train_log)\n",
        "\n",
        "  free_apps_dict[\"linear_regressor_log\"] = [r2_score(y_train_log,linear_regressor_log.predict(X_train)),\n",
        "                                        r2_score(y_test_log,linear_regressor_log.predict(X_test))]\n",
        "  free_apps_dict[\"tree_regressor_log\"] = [r2_score(y_train_log,tree_regressor_log.predict(X_train)),\n",
        "                                        r2_score(y_test_log,tree_regressor_log.predict(X_test))]\n",
        "  free_apps_dict[\"forest_regressor_log\"] = [r2_score(y_train_log,forest_regressor_log.predict(X_train)),\n",
        "                                        r2_score(y_test_log,forest_regressor_log.predict(X_test))]\n",
        "  free_apps_dict[\"xgb_regressor_log\"] = [r2_score(y_train_log,xgb_regressor_log.predict(X_train)),\n",
        "                                        r2_score(y_test_log,xgb_regressor_log.predict(X_test))]\n",
        "\n",
        "  return free_apps_dict\n"
      ],
      "execution_count": null,
      "outputs": []
    },
    {
      "cell_type": "markdown",
      "metadata": {
        "id": "KWIfBTz3NngR"
      },
      "source": [
        "## Free Apps Models"
      ]
    },
    {
      "cell_type": "code",
      "metadata": {
        "id": "oQ27CwOtsU1Q"
      },
      "source": [
        "X = df_Free_apps.iloc[:, :-1].values\n",
        "y = df_Free_apps.iloc[:, -1].values"
      ],
      "execution_count": null,
      "outputs": []
    },
    {
      "cell_type": "code",
      "metadata": {
        "colab": {
          "base_uri": "https://localhost:8080/"
        },
        "id": "4MMnbCW9slFX",
        "outputId": "ec6bb722-0faf-48ba-b8cb-76a405155a07"
      },
      "source": [
        "free_apps_dict_score = fit_predict(X,y)"
      ],
      "execution_count": null,
      "outputs": [
        {
          "output_type": "stream",
          "name": "stdout",
          "text": [
            "[04:56:14] WARNING: /workspace/src/objective/regression_obj.cu:152: reg:linear is now deprecated in favor of reg:squarederror.\n",
            "[05:01:20] WARNING: /workspace/src/objective/regression_obj.cu:152: reg:linear is now deprecated in favor of reg:squarederror.\n"
          ]
        }
      ]
    },
    {
      "cell_type": "code",
      "metadata": {
        "colab": {
          "base_uri": "https://localhost:8080/"
        },
        "id": "P4NsGxQisrel",
        "outputId": "5ef1fea2-80b5-4f9e-e9b0-30ab1a74e69b"
      },
      "source": [
        "free_apps_dict_score"
      ],
      "execution_count": null,
      "outputs": [
        {
          "output_type": "execute_result",
          "data": {
            "text/plain": [
              "{'forest_regressor': [0.8727517545679825, -0.5081134029564398],\n",
              " 'forest_regressor_log': [0.9437670747749328, 0.7663671994612612],\n",
              " 'linear_regressor': [0.2728766624011951, 0.48104548381644097],\n",
              " 'linear_regressor_log': [0.5000153949780792, 0.49946785706410246],\n",
              " 'tree_regressor': [0.9999992579014108, 0.3618709148677898],\n",
              " 'tree_regressor_log': [0.9786984476819991, 0.6297279123862244],\n",
              " 'xgb_regressor': [0.7714440939082808, 0.42336417516016067],\n",
              " 'xgb_regressor_log': [0.7877567412321768, 0.7872808872235045]}"
            ]
          },
          "metadata": {},
          "execution_count": 208
        }
      ]
    },
    {
      "cell_type": "code",
      "metadata": {
        "id": "A_8bpTwLvZrW"
      },
      "source": [
        "free_apps_score = pd.DataFrame(free_apps_dict_score)"
      ],
      "execution_count": null,
      "outputs": []
    },
    {
      "cell_type": "code",
      "metadata": {
        "colab": {
          "base_uri": "https://localhost:8080/",
          "height": 131
        },
        "id": "rkQfJK3Fv3XA",
        "outputId": "1d895837-5788-43e6-f95c-21fc82e44d3e"
      },
      "source": [
        "free_apps_score"
      ],
      "execution_count": null,
      "outputs": [
        {
          "output_type": "execute_result",
          "data": {
            "text/html": [
              "<div>\n",
              "<style scoped>\n",
              "    .dataframe tbody tr th:only-of-type {\n",
              "        vertical-align: middle;\n",
              "    }\n",
              "\n",
              "    .dataframe tbody tr th {\n",
              "        vertical-align: top;\n",
              "    }\n",
              "\n",
              "    .dataframe thead th {\n",
              "        text-align: right;\n",
              "    }\n",
              "</style>\n",
              "<table border=\"1\" class=\"dataframe\">\n",
              "  <thead>\n",
              "    <tr style=\"text-align: right;\">\n",
              "      <th></th>\n",
              "      <th>linear_regressor</th>\n",
              "      <th>tree_regressor</th>\n",
              "      <th>forest_regressor</th>\n",
              "      <th>xgb_regressor</th>\n",
              "      <th>linear_regressor_log</th>\n",
              "      <th>tree_regressor_log</th>\n",
              "      <th>forest_regressor_log</th>\n",
              "      <th>xgb_regressor_log</th>\n",
              "    </tr>\n",
              "  </thead>\n",
              "  <tbody>\n",
              "    <tr>\n",
              "      <th>0</th>\n",
              "      <td>0.272877</td>\n",
              "      <td>0.999999</td>\n",
              "      <td>0.872752</td>\n",
              "      <td>0.771444</td>\n",
              "      <td>0.500015</td>\n",
              "      <td>0.978698</td>\n",
              "      <td>0.943767</td>\n",
              "      <td>0.787757</td>\n",
              "    </tr>\n",
              "    <tr>\n",
              "      <th>1</th>\n",
              "      <td>0.481045</td>\n",
              "      <td>0.361871</td>\n",
              "      <td>-0.508113</td>\n",
              "      <td>0.423364</td>\n",
              "      <td>0.499468</td>\n",
              "      <td>0.629728</td>\n",
              "      <td>0.766367</td>\n",
              "      <td>0.787281</td>\n",
              "    </tr>\n",
              "  </tbody>\n",
              "</table>\n",
              "</div>"
            ],
            "text/plain": [
              "   linear_regressor  tree_regressor  ...  forest_regressor_log  xgb_regressor_log\n",
              "0          0.272877        0.999999  ...              0.943767           0.787757\n",
              "1          0.481045        0.361871  ...              0.766367           0.787281\n",
              "\n",
              "[2 rows x 8 columns]"
            ]
          },
          "metadata": {},
          "execution_count": 214
        }
      ]
    },
    {
      "cell_type": "code",
      "metadata": {
        "id": "3eOPhjRdCRZA"
      },
      "source": [
        "free_apps_score.to_csv(\"free_apps_score.csv\")"
      ],
      "execution_count": null,
      "outputs": []
    },
    {
      "cell_type": "code",
      "metadata": {
        "id": "ehEDlaZYv45V"
      },
      "source": [
        "free_apps_score[\"Data\"] = [\"free_train\",\"free_test\"]"
      ],
      "execution_count": null,
      "outputs": []
    },
    {
      "cell_type": "code",
      "metadata": {
        "id": "W88QI9Yqwu39"
      },
      "source": [
        "first_column = free_apps_score.pop('Data')\n",
        "free_apps_score.insert(0, 'Data', first_column)"
      ],
      "execution_count": null,
      "outputs": []
    },
    {
      "cell_type": "code",
      "metadata": {
        "colab": {
          "base_uri": "https://localhost:8080/",
          "height": 131
        },
        "id": "egkvS8FBwUTa",
        "outputId": "5574ea58-fa41-40bf-d299-b90211d1488c"
      },
      "source": [
        "free_apps_score"
      ],
      "execution_count": null,
      "outputs": [
        {
          "output_type": "execute_result",
          "data": {
            "text/html": [
              "<div>\n",
              "<style scoped>\n",
              "    .dataframe tbody tr th:only-of-type {\n",
              "        vertical-align: middle;\n",
              "    }\n",
              "\n",
              "    .dataframe tbody tr th {\n",
              "        vertical-align: top;\n",
              "    }\n",
              "\n",
              "    .dataframe thead th {\n",
              "        text-align: right;\n",
              "    }\n",
              "</style>\n",
              "<table border=\"1\" class=\"dataframe\">\n",
              "  <thead>\n",
              "    <tr style=\"text-align: right;\">\n",
              "      <th></th>\n",
              "      <th>Data</th>\n",
              "      <th>linear_regressor</th>\n",
              "      <th>tree_regressor</th>\n",
              "      <th>forest_regressor</th>\n",
              "      <th>xgb_regressor</th>\n",
              "      <th>linear_regressor_log</th>\n",
              "      <th>tree_regressor_log</th>\n",
              "      <th>forest_regressor_log</th>\n",
              "      <th>xgb_regressor_log</th>\n",
              "    </tr>\n",
              "  </thead>\n",
              "  <tbody>\n",
              "    <tr>\n",
              "      <th>0</th>\n",
              "      <td>free_train</td>\n",
              "      <td>0.272877</td>\n",
              "      <td>0.999999</td>\n",
              "      <td>0.872752</td>\n",
              "      <td>0.771444</td>\n",
              "      <td>0.500015</td>\n",
              "      <td>0.978698</td>\n",
              "      <td>0.943767</td>\n",
              "      <td>0.787757</td>\n",
              "    </tr>\n",
              "    <tr>\n",
              "      <th>1</th>\n",
              "      <td>free_test</td>\n",
              "      <td>0.481045</td>\n",
              "      <td>0.361871</td>\n",
              "      <td>-0.508113</td>\n",
              "      <td>0.423364</td>\n",
              "      <td>0.499468</td>\n",
              "      <td>0.629728</td>\n",
              "      <td>0.766367</td>\n",
              "      <td>0.787281</td>\n",
              "    </tr>\n",
              "  </tbody>\n",
              "</table>\n",
              "</div>"
            ],
            "text/plain": [
              "         Data  linear_regressor  ...  forest_regressor_log  xgb_regressor_log\n",
              "0  free_train          0.272877  ...              0.943767           0.787757\n",
              "1   free_test          0.481045  ...              0.766367           0.787281\n",
              "\n",
              "[2 rows x 9 columns]"
            ]
          },
          "metadata": {},
          "execution_count": 223
        }
      ]
    },
    {
      "cell_type": "markdown",
      "metadata": {
        "id": "qB5PLOUiy1XI"
      },
      "source": [
        "From This we can infer that XGBRegressor_log is performing best"
      ]
    },
    {
      "cell_type": "code",
      "metadata": {
        "colab": {
          "base_uri": "https://localhost:8080/"
        },
        "id": "YNU8FgEuyzCe",
        "outputId": "296ce024-20cd-49f6-ec28-78e471c2dd61"
      },
      "source": [
        "xgb_regressor_log = XGBRegressor()\n",
        "y[y==0] = 1\n",
        "y_log = np.log(y)\n",
        "xgb_regressor.fit(X,y_log)\n"
      ],
      "execution_count": null,
      "outputs": [
        {
          "output_type": "stream",
          "name": "stdout",
          "text": [
            "[05:40:09] WARNING: /workspace/src/objective/regression_obj.cu:152: reg:linear is now deprecated in favor of reg:squarederror.\n"
          ]
        },
        {
          "output_type": "execute_result",
          "data": {
            "text/plain": [
              "XGBRegressor(base_score=0.5, booster='gbtree', colsample_bylevel=1,\n",
              "             colsample_bynode=1, colsample_bytree=1, gamma=0,\n",
              "             importance_type='gain', learning_rate=0.1, max_delta_step=0,\n",
              "             max_depth=3, min_child_weight=1, missing=None, n_estimators=100,\n",
              "             n_jobs=1, nthread=None, objective='reg:linear', random_state=0,\n",
              "             reg_alpha=0, reg_lambda=1, scale_pos_weight=1, seed=None,\n",
              "             silent=None, subsample=1, verbosity=1)"
            ]
          },
          "metadata": {},
          "execution_count": 286
        }
      ]
    },
    {
      "cell_type": "code",
      "metadata": {
        "id": "2dv2_Rew1gey"
      },
      "source": [
        "def some_apps():\n",
        "  for i in range(5):\n",
        "    app_number = random.randint(1,len(X))\n",
        "    app_255_x = X[app_number,:]\n",
        "    app_255_x = np.array([app_255_x])\n",
        "    print(y[app_number],np.exp(xgb_regressor.predict(app_255_x)))"
      ],
      "execution_count": null,
      "outputs": []
    },
    {
      "cell_type": "code",
      "metadata": {
        "colab": {
          "base_uri": "https://localhost:8080/"
        },
        "id": "S0iHC4WW18nA",
        "outputId": "dc2d8195-2d98-4734-cdcf-f6e808ee4712"
      },
      "source": [
        "some_apps()"
      ],
      "execution_count": null,
      "outputs": [
        {
          "output_type": "stream",
          "name": "stdout",
          "text": [
            "1271 [307.16824]\n",
            "93 [113.050514]\n",
            "206 [170.74928]\n",
            "30 [104.18276]\n",
            "8 [83.71936]\n"
          ]
        }
      ]
    },
    {
      "cell_type": "markdown",
      "metadata": {
        "id": "TcGICs1_xHoR"
      },
      "source": [
        "## Paid Apps Models"
      ]
    },
    {
      "cell_type": "code",
      "metadata": {
        "id": "QNtEvoT9xMX0"
      },
      "source": [
        "X_paid = df_Paid_apps.iloc[:, :-1].values\n",
        "y_paid = df_Paid_apps.iloc[:, -1].values"
      ],
      "execution_count": null,
      "outputs": []
    },
    {
      "cell_type": "code",
      "metadata": {
        "colab": {
          "base_uri": "https://localhost:8080/"
        },
        "id": "oEQ89hWrxXhz",
        "outputId": "b07c7b03-b60d-4e49-884e-a1685b3eeacd"
      },
      "source": [
        "paid_apps_dict_score = fit_predict(X_paid,y_paid)"
      ],
      "execution_count": null,
      "outputs": [
        {
          "output_type": "stream",
          "name": "stdout",
          "text": [
            "[05:13:44] WARNING: /workspace/src/objective/regression_obj.cu:152: reg:linear is now deprecated in favor of reg:squarederror.\n",
            "[05:13:49] WARNING: /workspace/src/objective/regression_obj.cu:152: reg:linear is now deprecated in favor of reg:squarederror.\n"
          ]
        }
      ]
    },
    {
      "cell_type": "code",
      "metadata": {
        "colab": {
          "base_uri": "https://localhost:8080/"
        },
        "id": "Me9e6mWVxZCR",
        "outputId": "d2351bb9-aaaa-43bb-8b69-ac7feadabb1e"
      },
      "source": [
        "paid_apps_dict_score"
      ],
      "execution_count": null,
      "outputs": [
        {
          "output_type": "execute_result",
          "data": {
            "text/plain": [
              "{'forest_regressor': [0.9568047950832612, 0.24249988872210748],\n",
              " 'forest_regressor_log': [0.9707692150782286, 0.8377678498348046],\n",
              " 'linear_regressor': [0.7110031644358352, 0.4741721412872755],\n",
              " 'linear_regressor_log': [0.6019988679089505, 0.6056843460769581],\n",
              " 'tree_regressor': [0.9999927674852757, -1.9549258559220428],\n",
              " 'tree_regressor_log': [0.997801558177712, 0.719730117898627],\n",
              " 'xgb_regressor': [0.9326681682470351, 0.5367362055119753],\n",
              " 'xgb_regressor_log': [0.8343174112196152, 0.831972700715978]}"
            ]
          },
          "metadata": {},
          "execution_count": 219
        }
      ]
    },
    {
      "cell_type": "code",
      "metadata": {
        "id": "2-ioktoCxrvc"
      },
      "source": [
        "paid_apps_score = pd.DataFrame(paid_apps_dict_score)\n",
        "paid_apps_score[\"Data\"] = [\"paid_train\",\"paid_test\"]\n",
        "first_column = paid_apps_score.pop('Data')\n",
        "paid_apps_score.insert(0, 'Data', first_column)"
      ],
      "execution_count": null,
      "outputs": []
    },
    {
      "cell_type": "code",
      "metadata": {
        "colab": {
          "base_uri": "https://localhost:8080/",
          "height": 131
        },
        "id": "b1o6LWfzyOD3",
        "outputId": "29e45091-2566-4fca-da06-7e773b9d5a0a"
      },
      "source": [
        "paid_apps_score"
      ],
      "execution_count": null,
      "outputs": [
        {
          "output_type": "execute_result",
          "data": {
            "text/html": [
              "<div>\n",
              "<style scoped>\n",
              "    .dataframe tbody tr th:only-of-type {\n",
              "        vertical-align: middle;\n",
              "    }\n",
              "\n",
              "    .dataframe tbody tr th {\n",
              "        vertical-align: top;\n",
              "    }\n",
              "\n",
              "    .dataframe thead th {\n",
              "        text-align: right;\n",
              "    }\n",
              "</style>\n",
              "<table border=\"1\" class=\"dataframe\">\n",
              "  <thead>\n",
              "    <tr style=\"text-align: right;\">\n",
              "      <th></th>\n",
              "      <th>Data</th>\n",
              "      <th>linear_regressor</th>\n",
              "      <th>tree_regressor</th>\n",
              "      <th>forest_regressor</th>\n",
              "      <th>xgb_regressor</th>\n",
              "      <th>linear_regressor_log</th>\n",
              "      <th>tree_regressor_log</th>\n",
              "      <th>forest_regressor_log</th>\n",
              "      <th>xgb_regressor_log</th>\n",
              "    </tr>\n",
              "  </thead>\n",
              "  <tbody>\n",
              "    <tr>\n",
              "      <th>0</th>\n",
              "      <td>paid_train</td>\n",
              "      <td>0.711003</td>\n",
              "      <td>0.999993</td>\n",
              "      <td>0.956805</td>\n",
              "      <td>0.932668</td>\n",
              "      <td>0.601999</td>\n",
              "      <td>0.997802</td>\n",
              "      <td>0.970769</td>\n",
              "      <td>0.834317</td>\n",
              "    </tr>\n",
              "    <tr>\n",
              "      <th>1</th>\n",
              "      <td>paid_test</td>\n",
              "      <td>0.474172</td>\n",
              "      <td>-1.954926</td>\n",
              "      <td>0.242500</td>\n",
              "      <td>0.536736</td>\n",
              "      <td>0.605684</td>\n",
              "      <td>0.719730</td>\n",
              "      <td>0.837768</td>\n",
              "      <td>0.831973</td>\n",
              "    </tr>\n",
              "  </tbody>\n",
              "</table>\n",
              "</div>"
            ],
            "text/plain": [
              "         Data  linear_regressor  ...  forest_regressor_log  xgb_regressor_log\n",
              "0  paid_train          0.711003  ...              0.970769           0.834317\n",
              "1   paid_test          0.474172  ...              0.837768           0.831973\n",
              "\n",
              "[2 rows x 9 columns]"
            ]
          },
          "metadata": {},
          "execution_count": 225
        }
      ]
    },
    {
      "cell_type": "code",
      "metadata": {
        "id": "OWddxrH7CDIR"
      },
      "source": [
        "paid_apps_score.to_csv(\"paid_apps_score.csv\")"
      ],
      "execution_count": null,
      "outputs": []
    },
    {
      "cell_type": "markdown",
      "metadata": {
        "id": "Xd52nUz42sEn"
      },
      "source": [
        "From Here we can infer that forest_regressor_log is performing best"
      ]
    },
    {
      "cell_type": "code",
      "metadata": {
        "colab": {
          "base_uri": "https://localhost:8080/"
        },
        "id": "wRfxnxnvyP4K",
        "outputId": "fa5c06e6-f002-415d-f24f-ed2d4c3a88bf"
      },
      "source": [
        "y_paid[y_paid==0] = 1\n",
        "y_paid_log = np.log(y_paid)\n",
        "forest_regressor_log = RandomForestRegressor(n_estimators = 10, random_state = 0)\n",
        "forest_regressor_log.fit(X_paid,y_paid_log)"
      ],
      "execution_count": null,
      "outputs": [
        {
          "output_type": "execute_result",
          "data": {
            "text/plain": [
              "RandomForestRegressor(bootstrap=True, ccp_alpha=0.0, criterion='mse',\n",
              "                      max_depth=None, max_features='auto', max_leaf_nodes=None,\n",
              "                      max_samples=None, min_impurity_decrease=0.0,\n",
              "                      min_impurity_split=None, min_samples_leaf=1,\n",
              "                      min_samples_split=2, min_weight_fraction_leaf=0.0,\n",
              "                      n_estimators=10, n_jobs=None, oob_score=False,\n",
              "                      random_state=0, verbose=0, warm_start=False)"
            ]
          },
          "metadata": {},
          "execution_count": 289
        }
      ]
    },
    {
      "cell_type": "code",
      "metadata": {
        "id": "sl6uTq4e4U4s"
      },
      "source": [
        "def some_apps_paid():\n",
        "  for i in range(5):\n",
        "    app_number = random.randint(1,len(X_paid))\n",
        "    app_255_x = X_paid[app_number,:]\n",
        "    app_255_x = np.array([app_255_x])\n",
        "    print(y_paid[app_number],np.exp(forest_regressor_log.predict(app_255_x)))"
      ],
      "execution_count": null,
      "outputs": []
    },
    {
      "cell_type": "code",
      "metadata": {
        "colab": {
          "base_uri": "https://localhost:8080/"
        },
        "id": "RH9K25EG4sxB",
        "outputId": "7d4ec3f2-d15d-4954-c9ac-f6eaf275f738"
      },
      "source": [
        "some_apps_paid()"
      ],
      "execution_count": null,
      "outputs": [
        {
          "output_type": "stream",
          "name": "stdout",
          "text": [
            "327 [82.08338861]\n",
            "473851 [504905.91715419]\n",
            "7097 [5599.53277455]\n",
            "422 [552.55728385]\n",
            "162 [95.39591399]\n"
          ]
        }
      ]
    },
    {
      "cell_type": "code",
      "metadata": {
        "id": "_Wllsx9X4vPN"
      },
      "source": [
        ""
      ],
      "execution_count": null,
      "outputs": []
    }
  ]
}